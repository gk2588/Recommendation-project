{
 "cells": [
  {
   "cell_type": "markdown",
   "metadata": {},
   "source": [
    "# Recommendations Project"
   ]
  },
  {
   "cell_type": "raw",
   "metadata": {},
   "source": [
    "DOMAIN: Smartphone, Electronics"
   ]
  },
  {
   "cell_type": "raw",
   "metadata": {},
   "source": [
    "CONTEXT: \n",
    "India is the second largest market globally for smartphones after China. \n",
    "About 134 million smartphones were sold across India in the year 2017 and is estimated to increase to about 442 million in 2022. \n",
    "India ranked second in the average time spent on mobile web by smartphone users across Asia Pacific. \n",
    "The combination of very high sales volumes and the average smartphone consumer behaviour has made India a very attractive market for foreign vendors. \n",
    "As per Consumer behaviour, \n",
    "    97% of consumers turn to a search engine when they are buying a product vs. \n",
    "    15% who turn to social media. \n",
    "If a seller succeeds to publish smartphones based on user’s behaviour/choice at the right place, there are 90% chances that user will enquire for the same. \n",
    "This Case Study is targeted to build a recommendation system based on individual consumer’s behaviour or choice."
   ]
  },
  {
   "cell_type": "code",
   "execution_count": 1,
   "metadata": {},
   "outputs": [],
   "source": [
    "# Import all necessary libraries\n",
    "import os\n",
    "import pandas as pd\n",
    "import numpy as np\n",
    "import matplotlib.pyplot as plt\n",
    "%matplotlib inline \n",
    "import seaborn as sns"
   ]
  },
  {
   "cell_type": "raw",
   "metadata": {},
   "source": [
    "1. Import the necessary libraries and read the provided CSVs as a data frame and perform the below steps.\n",
    "• Merge the provided CSVs into one data-frame.\n",
    "• Check a few observations and shape of the data-frame.\n",
    "• Round off scores to the nearest integers.\n",
    "• Check for missing values. Impute the missing values if there is any.\n",
    "• Check for duplicate values and remove them if there is any.\n",
    "• Keep only 1000000 data samples. Use random state=612.\n",
    "• Drop irrelevant features. Keep features like Author, Product, and Score."
   ]
  },
  {
   "cell_type": "code",
   "execution_count": 2,
   "metadata": {},
   "outputs": [],
   "source": [
    "# Reading the csv files\n",
    "os.chdir = (\"/Users/kishorekumarg/Documents/Great Learning/GL - Recommendation systems/GL - Recommendation system Project\")"
   ]
  },
  {
   "cell_type": "code",
   "execution_count": 3,
   "metadata": {},
   "outputs": [],
   "source": [
    "# Finding the csv files in the folder and putting them in list\n",
    "import glob\n",
    "ext = \"csv\"\n",
    "all_filenames = [i for i in glob.glob('*.{}'.format(ext))]"
   ]
  },
  {
   "cell_type": "code",
   "execution_count": 4,
   "metadata": {},
   "outputs": [],
   "source": [
    "# Using list read and merge\n",
    "dat1 = []\n",
    "for a in all_filenames:\n",
    "    dat1.append(pd.read_csv(a,engine = 'python'))\n",
    "merged_df = pd.concat(dat1)"
   ]
  },
  {
   "cell_type": "code",
   "execution_count": 5,
   "metadata": {},
   "outputs": [
    {
     "data": {
      "text/plain": [
       "(1415133, 11)"
      ]
     },
     "execution_count": 5,
     "metadata": {},
     "output_type": "execute_result"
    }
   ],
   "source": [
    "merged_df.shape\n",
    "# data_sample.shape"
   ]
  },
  {
   "cell_type": "code",
   "execution_count": 6,
   "metadata": {},
   "outputs": [
    {
     "data": {
      "text/plain": [
       "Index(['phone_url', 'date', 'lang', 'country', 'source', 'domain', 'score',\n",
       "       'score_max', 'extract', 'author', 'product'],\n",
       "      dtype='object')"
      ]
     },
     "execution_count": 6,
     "metadata": {},
     "output_type": "execute_result"
    }
   ],
   "source": [
    "merged_df.columns"
   ]
  },
  {
   "cell_type": "code",
   "execution_count": 7,
   "metadata": {},
   "outputs": [
    {
     "data": {
      "text/html": [
       "<div>\n",
       "<style scoped>\n",
       "    .dataframe tbody tr th:only-of-type {\n",
       "        vertical-align: middle;\n",
       "    }\n",
       "\n",
       "    .dataframe tbody tr th {\n",
       "        vertical-align: top;\n",
       "    }\n",
       "\n",
       "    .dataframe thead th {\n",
       "        text-align: right;\n",
       "    }\n",
       "</style>\n",
       "<table border=\"1\" class=\"dataframe\">\n",
       "  <thead>\n",
       "    <tr style=\"text-align: right;\">\n",
       "      <th></th>\n",
       "      <th>phone_url</th>\n",
       "      <th>date</th>\n",
       "      <th>lang</th>\n",
       "      <th>country</th>\n",
       "      <th>source</th>\n",
       "      <th>domain</th>\n",
       "      <th>score</th>\n",
       "      <th>score_max</th>\n",
       "      <th>extract</th>\n",
       "      <th>author</th>\n",
       "      <th>product</th>\n",
       "    </tr>\n",
       "  </thead>\n",
       "  <tbody>\n",
       "    <tr>\n",
       "      <th>0</th>\n",
       "      <td>/cellphones/samsung-galaxy-s8/</td>\n",
       "      <td>5/2/2017</td>\n",
       "      <td>en</td>\n",
       "      <td>us</td>\n",
       "      <td>Verizon Wireless</td>\n",
       "      <td>verizonwireless.com</td>\n",
       "      <td>10.0</td>\n",
       "      <td>10.0</td>\n",
       "      <td>As a diehard Samsung fan who has had every Sam...</td>\n",
       "      <td>CarolAnn35</td>\n",
       "      <td>Samsung Galaxy S8</td>\n",
       "    </tr>\n",
       "    <tr>\n",
       "      <th>1</th>\n",
       "      <td>/cellphones/samsung-galaxy-s8/</td>\n",
       "      <td>4/28/2017</td>\n",
       "      <td>en</td>\n",
       "      <td>us</td>\n",
       "      <td>Phone Arena</td>\n",
       "      <td>phonearena.com</td>\n",
       "      <td>10.0</td>\n",
       "      <td>10.0</td>\n",
       "      <td>Love the phone. the phone is sleek and smooth ...</td>\n",
       "      <td>james0923</td>\n",
       "      <td>Samsung Galaxy S8</td>\n",
       "    </tr>\n",
       "    <tr>\n",
       "      <th>2</th>\n",
       "      <td>/cellphones/samsung-galaxy-s8/</td>\n",
       "      <td>5/4/2017</td>\n",
       "      <td>en</td>\n",
       "      <td>us</td>\n",
       "      <td>Amazon</td>\n",
       "      <td>amazon.com</td>\n",
       "      <td>6.0</td>\n",
       "      <td>10.0</td>\n",
       "      <td>Adequate feel. Nice heft. Processor's still sl...</td>\n",
       "      <td>R. Craig</td>\n",
       "      <td>Samsung Galaxy S8 (64GB) G950U 5.8\" 4G LTE Unl...</td>\n",
       "    </tr>\n",
       "    <tr>\n",
       "      <th>3</th>\n",
       "      <td>/cellphones/samsung-galaxy-s8/</td>\n",
       "      <td>5/2/2017</td>\n",
       "      <td>en</td>\n",
       "      <td>us</td>\n",
       "      <td>Samsung</td>\n",
       "      <td>samsung.com</td>\n",
       "      <td>9.2</td>\n",
       "      <td>10.0</td>\n",
       "      <td>Never disappointed. One of the reasons I've be...</td>\n",
       "      <td>Buster2020</td>\n",
       "      <td>Samsung Galaxy S8 64GB (AT&amp;T)</td>\n",
       "    </tr>\n",
       "    <tr>\n",
       "      <th>4</th>\n",
       "      <td>/cellphones/samsung-galaxy-s8/</td>\n",
       "      <td>5/11/2017</td>\n",
       "      <td>en</td>\n",
       "      <td>us</td>\n",
       "      <td>Verizon Wireless</td>\n",
       "      <td>verizonwireless.com</td>\n",
       "      <td>4.0</td>\n",
       "      <td>10.0</td>\n",
       "      <td>I've now found that i'm in a group of people t...</td>\n",
       "      <td>S Ate Mine</td>\n",
       "      <td>Samsung Galaxy S8</td>\n",
       "    </tr>\n",
       "  </tbody>\n",
       "</table>\n",
       "</div>"
      ],
      "text/plain": [
       "                        phone_url       date lang country            source  \\\n",
       "0  /cellphones/samsung-galaxy-s8/   5/2/2017   en      us  Verizon Wireless   \n",
       "1  /cellphones/samsung-galaxy-s8/  4/28/2017   en      us       Phone Arena   \n",
       "2  /cellphones/samsung-galaxy-s8/   5/4/2017   en      us            Amazon   \n",
       "3  /cellphones/samsung-galaxy-s8/   5/2/2017   en      us           Samsung   \n",
       "4  /cellphones/samsung-galaxy-s8/  5/11/2017   en      us  Verizon Wireless   \n",
       "\n",
       "                domain  score  score_max  \\\n",
       "0  verizonwireless.com   10.0       10.0   \n",
       "1       phonearena.com   10.0       10.0   \n",
       "2           amazon.com    6.0       10.0   \n",
       "3          samsung.com    9.2       10.0   \n",
       "4  verizonwireless.com    4.0       10.0   \n",
       "\n",
       "                                             extract       author  \\\n",
       "0  As a diehard Samsung fan who has had every Sam...   CarolAnn35   \n",
       "1  Love the phone. the phone is sleek and smooth ...    james0923   \n",
       "2  Adequate feel. Nice heft. Processor's still sl...     R. Craig   \n",
       "3  Never disappointed. One of the reasons I've be...  Buster2020    \n",
       "4  I've now found that i'm in a group of people t...   S Ate Mine   \n",
       "\n",
       "                                             product  \n",
       "0                                  Samsung Galaxy S8  \n",
       "1                                  Samsung Galaxy S8  \n",
       "2  Samsung Galaxy S8 (64GB) G950U 5.8\" 4G LTE Unl...  \n",
       "3                      Samsung Galaxy S8 64GB (AT&T)  \n",
       "4                                  Samsung Galaxy S8  "
      ]
     },
     "execution_count": 7,
     "metadata": {},
     "output_type": "execute_result"
    }
   ],
   "source": [
    "merged_df.head()"
   ]
  },
  {
   "cell_type": "code",
   "execution_count": 8,
   "metadata": {},
   "outputs": [
    {
     "name": "stdout",
     "output_type": "stream",
     "text": [
      "Summary\n",
      "No.of Rows =  1415133\n",
      "No.of Columns =  11\n"
     ]
    }
   ],
   "source": [
    "# Shape of the data\n",
    "merged_df.shape\n",
    "rows = len(merged_df)\n",
    "columns = len(merged_df.columns)\n",
    "print(\"Summary\")\n",
    "print(\"No.of Rows = \", rows )\n",
    "print(\"No.of Columns = \", columns)"
   ]
  },
  {
   "cell_type": "code",
   "execution_count": 9,
   "metadata": {},
   "outputs": [
    {
     "data": {
      "text/plain": [
       "phone_url     object\n",
       "date          object\n",
       "lang          object\n",
       "country       object\n",
       "source        object\n",
       "domain        object\n",
       "score        float64\n",
       "score_max    float64\n",
       "extract       object\n",
       "author        object\n",
       "product       object\n",
       "dtype: object"
      ]
     },
     "execution_count": 9,
     "metadata": {},
     "output_type": "execute_result"
    }
   ],
   "source": [
    "#Data Types\n",
    "merged_df.dtypes"
   ]
  },
  {
   "cell_type": "raw",
   "metadata": {},
   "source": [
    "Attribute Summary\n",
    "\n",
    "Float\t\t\n",
    "\n",
    "score     \t- average rating for the phone\t\n",
    "score_max\t- highest rating given for the phone\n",
    "\n",
    "\n",
    "Strings\t\t\n",
    "\n",
    "date        - date of the rating   \t\t\n",
    "lang        - rating content\t\t\n",
    "country     - country the person who gave the rating belongs to  \t\t\n",
    "source   \t- source from where the rating was taken\t\n",
    "domain \t    - website from which the rating was taken from\t\n",
    "extract     - rating content\t\t\n",
    "author      - name of the person who gave the rating  \t\t\n",
    "product\t\t- name of the product/mobile phone for which the rating was given\n",
    "\n",
    "phone_url\t- It has a text format with slashes to access URLs \"/cellphones/samsung-galaxy-s8/\" - We will see    whether its of any use"
   ]
  },
  {
   "cell_type": "code",
   "execution_count": 10,
   "metadata": {},
   "outputs": [
    {
     "data": {
      "text/html": [
       "<div>\n",
       "<style scoped>\n",
       "    .dataframe tbody tr th:only-of-type {\n",
       "        vertical-align: middle;\n",
       "    }\n",
       "\n",
       "    .dataframe tbody tr th {\n",
       "        vertical-align: top;\n",
       "    }\n",
       "\n",
       "    .dataframe thead th {\n",
       "        text-align: right;\n",
       "    }\n",
       "</style>\n",
       "<table border=\"1\" class=\"dataframe\">\n",
       "  <thead>\n",
       "    <tr style=\"text-align: right;\">\n",
       "      <th></th>\n",
       "      <th>count</th>\n",
       "      <th>mean</th>\n",
       "      <th>std</th>\n",
       "      <th>min</th>\n",
       "      <th>25%</th>\n",
       "      <th>50%</th>\n",
       "      <th>75%</th>\n",
       "      <th>max</th>\n",
       "    </tr>\n",
       "  </thead>\n",
       "  <tbody>\n",
       "    <tr>\n",
       "      <th>score</th>\n",
       "      <td>1351644.0</td>\n",
       "      <td>8.00706</td>\n",
       "      <td>2.616121</td>\n",
       "      <td>0.2</td>\n",
       "      <td>7.2</td>\n",
       "      <td>9.2</td>\n",
       "      <td>10.0</td>\n",
       "      <td>10.0</td>\n",
       "    </tr>\n",
       "    <tr>\n",
       "      <th>score_max</th>\n",
       "      <td>1351644.0</td>\n",
       "      <td>10.00000</td>\n",
       "      <td>0.000000</td>\n",
       "      <td>10.0</td>\n",
       "      <td>10.0</td>\n",
       "      <td>10.0</td>\n",
       "      <td>10.0</td>\n",
       "      <td>10.0</td>\n",
       "    </tr>\n",
       "  </tbody>\n",
       "</table>\n",
       "</div>"
      ],
      "text/plain": [
       "               count      mean       std   min   25%   50%   75%   max\n",
       "score      1351644.0   8.00706  2.616121   0.2   7.2   9.2  10.0  10.0\n",
       "score_max  1351644.0  10.00000  0.000000  10.0  10.0  10.0  10.0  10.0"
      ]
     },
     "execution_count": 10,
     "metadata": {},
     "output_type": "execute_result"
    }
   ],
   "source": [
    "merged_df.describe().transpose()"
   ]
  },
  {
   "cell_type": "code",
   "execution_count": 11,
   "metadata": {},
   "outputs": [
    {
     "data": {
      "text/plain": [
       "phone_url       5556\n",
       "date            7728\n",
       "lang              22\n",
       "country           42\n",
       "source           331\n",
       "domain           384\n",
       "score             86\n",
       "score_max          1\n",
       "extract      1321353\n",
       "author        801103\n",
       "product        61313\n",
       "dtype: int64"
      ]
     },
     "execution_count": 11,
     "metadata": {},
     "output_type": "execute_result"
    }
   ],
   "source": [
    "# Finding the unique values present in all columns\n",
    "merged_df.nunique(axis=0)"
   ]
  },
  {
   "cell_type": "raw",
   "metadata": {},
   "source": [
    "score_max value has only 1 unique value which is 10 - This is also mentioned in the statistical summary\n",
    "Since score and score_max are the float variables Statistical summary shows for those only"
   ]
  },
  {
   "cell_type": "code",
   "execution_count": 12,
   "metadata": {},
   "outputs": [],
   "source": [
    "def find_uniquevalue_df(a,b):\n",
    "    # Finding unique value for score_max\n",
    "    print('No.of unique values for ',b,a.nunique())\n",
    "    # Finding unique value for score_max\n",
    "    print('Unique values for',b,a.unique())"
   ]
  },
  {
   "cell_type": "code",
   "execution_count": 13,
   "metadata": {},
   "outputs": [
    {
     "name": "stdout",
     "output_type": "stream",
     "text": [
      "No.of unique values for  phone_url 5556\n",
      "Unique values for phone_url ['/cellphones/samsung-galaxy-s8/'\n",
      " '/cellphones/samsung-galaxy-s6-edgeplus/'\n",
      " '/cellphones/samsung-galaxy-s8-plus/' ... '/cellphones/lg-secret-kf750/'\n",
      " '/cellphones/samsung-sch-u350/' '/cellphones/sony-ericsson-z710i/']\n",
      "No.of unique values for  date 7728\n",
      "Unique values for date ['5/2/2017' '4/28/2017' '5/4/2017' ... '12/4/2017' '1/1/1970' '12/16/1999']\n",
      "No.of unique values for  lang 22\n",
      "Unique values for lang ['en' 'he' 'fi' 'it' 'no' 'nl' 'ru' 'cs' 'sv' 'es' 'pt' 'fr' 'de' 'da'\n",
      " 'tr' 'pl' 'hu' 'ar' 'id' 'zh' 'ja' 'ko']\n",
      "No.of unique values for  country 42\n",
      "Unique values for country ['us' 'gb' 'au' 'in' 'il' 'fi' 'it' 'no' 'nl' 'ru' 'cz' 'be' 'se' 'es'\n",
      " 'br' 'fr' 'ua' 'ca' 'de' 'dk' 'nz' 'tr' 'pl' 'ch' 'pt' 'hu' 'za' 'mx'\n",
      " 'ae' 'id' 've' 'sg' 'cl' 'ar' 'ec' 'co' 'uy' 'cn' 'pe' 'jp' 'kr' 'tw']\n",
      "No.of unique values for  source 331\n",
      "Unique values for source ['Verizon Wireless' 'Phone Arena' 'Amazon' 'Samsung' 'Very' 'CNET'\n",
      " 'Wireless AT&T' 'Littlewoods' 'Bit.au' 'Smartprix' 'Zap.il'\n",
      " 'Verkkokauppa' 'Ciao' 'Komplett.no' 'Coolblue' 'Elkjøp' 'Tkat' 'Wehkamp'\n",
      " 'CZC' 'KIESKEURIG' 'Elgiganten' 'Wisebuy' 'MPX' 'Phone House' 'Inet'\n",
      " 'Gigantti' 'Komplett.se ' 'Zoom.br' 'LDLC' 'Walmart' 'Связной' 'Otzyvua'\n",
      " 'Mobi Guru' 'Phone Scoop' 'HSN' 'Optus' 'Kabum' 'Samsung Fun' 'Fnac'\n",
      " 'Meilleur Mobile' 'Prisjakt' 'Cissa Magazine' 'Yandex' 'Ofertou'\n",
      " 'Pixmania' 'Balão da Informática' 'CDON' 'MVideo' 'Irecommend'\n",
      " 'SmartPhoneShop' 'Hotline.ua' 'Alza' 'RueDuCommerce' 'Centralpoint'\n",
      " 'Portable Gear' 'LesMobiles' 'JB Hi-Fi' 'The Good Guys' 'John Lewis'\n",
      " 'Otto.de' 'Vandenborre' 'Newegg' 'Staples' 'Overstock' \"Sam's Club\"\n",
      " 'Target' 'Argos' 'B&H Photo' 'Costco' 'Rogers' 'PriceSpy' '91 Mobiles'\n",
      " 'Handtec' 'Bol.com' 'Bondfaro' 'NetonNet' 'NetOnNet' 'Orange' 'Oldi'\n",
      " 'Moviles' 'RedCoon' 'Lefdal' 'Belsimpel' 'Ubaldi' 'Siba' 'Media Markt'\n",
      " 'Wupti' 'Электронный мир' 'Priceminister' 'Cyberport' 'Vatan Computer'\n",
      " 'MyTrendyPhone' 'Grosbill' 'GSMinfo.nl  ' 'Komplett.dk ' 'Typhone'\n",
      " 'Digitec' 'Tweakers.net' 'Monclick' 'Ulmart' 'Materiel.net' 'Ситилинк'\n",
      " '21vek.by' 'ABT Electronics' 'Currys' 'Zopper' 'Cdiscount' 'Casas Bahia'\n",
      " 'Conrad' 'Media Markt ' 'Eldorado' 'PriceCheck' 'Clove'\n",
      " 'Mister Good Deal' 'Wallashops' 'Olcsóbbat' 'Milky.nl' 'Cepworld'\n",
      " 'Snapdeal' 'QVC' 'InfiBeam' 'Rakuten' 'Fotosidan' 'Geizhals.de'\n",
      " 'Inside-handy' 'Winnie Kepala' 'Hit Meister' 'Macway' 'DNS'\n",
      " 'Hintaseuranta' 'Dooyoo' 'Bellen.com' 'Linio' 'Souq' 'Comparateur'\n",
      " 'Webhallen' 'City Key' 'Computers in South Africa' 'Ainol-novo'\n",
      " 'RC Willey' 'Magazine Luiza' 'MTS.ru' 'Phonehouse' 'LG Electronics' 'LG'\n",
      " 'Huawei' 'Katshing' 'NCIX.com ' 'Bhinneka' 'Flipkart' 'Kasa'\n",
      " 'Linio Venezuela' 'Mall.cz' 'Halebop' 'Ceptown' 'ALTERNATE' 'Dino Direct'\n",
      " 'Overclock' '3 Suisses' 'TestMateriel' 'Conforama' 'Geekvida' 'PB Tech'\n",
      " 'Octilus' 'Colombo' 'Quesabesde' 'Plus.de' 'ТехноПортал' 'Meinpaket'\n",
      " 'El Corte Inglés' ' SHOP' 'DWI' 'Conrad Elektronik' 'Euronics' 'Efox'\n",
      " 'Submarino' 'Arukereso.hu' 'MicrosoftStore' 'ReviewStream'\n",
      " 'Consumenten Bond' 'Shoptime' 'Americanas' 'Onliner' 'Mob.org' 'SFR'\n",
      " 'Sears' 'MobileZap' 'Microsoft Store' '24 Shop' 'PDA Shop' 'Homeshop18'\n",
      " 'Shop Fato' 'PriceRunner' 'МетаМаркет' 'Darty' 'Vergelijk' 'Naaptol'\n",
      " 'Otzovik' 'HTC' 'eBay' 'Extra' 'Girafa' 'Hepsiburada' 'Cimri'\n",
      " 'Notebooksbilliger' 'Mobile fun' 'Shopping-UOL' 'Forum Celular'\n",
      " 'Office Depot' 'Shop Your Way' 'Vodafone' 'Mighty Ape' 'Bell' 'Ozon'\n",
      " 'Bimeks' 'ShopMania' 'Utinet' 'Fotos.ua' 'ABC.ru' 'BrandsmartUSA'\n",
      " 'Shopclues' 'PCComponents' 'Toneto' 'Sony' 'Shopping.com' 'Rozetka'\n",
      " 'Xtrem Media' 'Preistrend' 'Gittigidiyor' ' \\tStaples' 'OO.com.au'\n",
      " 'TechnikDirekt' 'Backpacker ' 'Lenovo' 'Protoria' 'Vertaa' 'Comtech'\n",
      " 'Inphone' 'Karsilastir' 'ACER' 'EDB Priser' 'Buscapé' 'Prijsvergelijk'\n",
      " 'Yopi ' 'MediaMarkt' 'Guenstiger.de' 'Tecnozoom' 'SmartphoneShop'\n",
      " 'Price.ua' 'Mobiles-Actus' 'GetGoods' 'Consumer Democracy ' 'Handy MC'\n",
      " 'Pooki' 'Tiklayaz' 'Schede-Cellulari.it' 'Quelle' 'CentralPoint'\n",
      " 'Phone Magazine' 'HandCellPhone' 'After Dawn' 'Reviewed.com'\n",
      " 'Personal Electronics buzz' 'eXpansys' 'GraphMobile' 'Rediff'\n",
      " 'MercadoLibre' 'КупиПравильно' 'MercadoLibre Chile' 'Esato' 'BESLIST'\n",
      " 'The Ten Word Review' 'Foto.no' 'BrothersOnTech' 'MercadoLibre Venezuela'\n",
      " 'Review Stop' 'Kelkoo' 'MercadoLibre Uruguay ' 'PCARM' 'TopMobile'\n",
      " 'MercadoLibre Perú' 'TolMol' 'TechLore' 'Yahoo Shopping' 'Kakaku'\n",
      " 'Mwave.com ' 'Kullananvarmi' 'Skapiec' 'Looneo' 'onSale'\n",
      " 'Vasarlas Femina' 'Shoomo' 'Name Ring' 'CompSource ' 'NZ Electronics'\n",
      " 'CompareStorePrices' 'Audio Review' 'Izideal' 'Pocket GPS World'\n",
      " 'Verdicts' 'RECENZJE.NET.PL' 'Cordless Phones' 'Ponto de Promo????o'\n",
      " '?????????????�??????' 'Buscap??' '??????????????' 'Otkliki'\n",
      " 'Bal??o da Inform??tica' 'ITP.net' 'HEAR.nl' 'Elkj??p' 'Rue Hardware'\n",
      " '???????????�??????????????' 'El Corte Ingl??s' '???????????????�??????'\n",
      " 'Freemans' 'Lazada' 'Gadgetzone.nl' 'Comparison' 'Ceneo' 'Ligo' 'Eprice'\n",
      " 'Clubic' 'Metropolitanas' 'Andorra Free Market' 'Pricebat' 'Zura'\n",
      " 'MacMall ' 'Cellphones.ca' 'Produkt-News.com' 'Megagadgets']\n",
      "No.of unique values for  domain 384\n",
      "Unique values for domain ['verizonwireless.com' 'phonearena.com' 'amazon.com' 'samsung.com'\n",
      " 'very.co.uk' 'reviews.cnet.com' 'att.com' 'littlewoods.com' 'bit.com.au'\n",
      " 'smartprix.com' 'zap.co.il' 'verkkokauppa.com' 'ciao.it' 'komplett.no'\n",
      " 'coolblue.nl' 'elkjop.no' 'panels.tkat.ru' 'amazon.it' 'wehkamp.nl'\n",
      " 'czc.cz' 'kieskeurig.nl' 'kieskeurig.be' 'elgiganten.se' 'wisebuy.co.il'\n",
      " 'mpx.no' 'phonehouse.es' 'inet.se' 'gigantti.fi' 'komplett.se'\n",
      " 'zoom.com.br' 'ldlc.com' 'walmart.com.br' 'svyaznoy.ru' 'amazon.es'\n",
      " 'amazon.fr' 'otzyvua.net' 'mobiguru.ru' 'phonescoop.com' 'hsn.com'\n",
      " 'ciao.co.uk' 'amazon.ca' 'amazon.in' 'amazon.co.uk'\n",
      " 'reviews.optus.com.au' 'ciao.es' 'amazon.de' 'kabum.com.br'\n",
      " 'samsung-fun.ru' 'fnac.com' 'meilleurmobile.com' 'prisjakt.nu'\n",
      " 'cissamagazine.com.br' 'market.yandex.ru' 'shopping.ofertou.com'\n",
      " 'pixmania.fr' 'balaodainformatica.com.br' 'ciao.fr' 'cdon.se' 'mvideo.ru'\n",
      " 'reviews.fi.samsung.com' 'pixmania.de' 'irecommend.ru'\n",
      " 'smartphoneshop.be' 'hotline.ua' 'alza.cz' 'elgiganten.dk'\n",
      " 'rueducommerce.fr' 'centralpoint.be' 'portablegear.nl' 'lesmobiles.com'\n",
      " 'jbhifionline.com.au' 'thegoodguys.com.au' 'johnlewis.com' 'otto.de'\n",
      " 'vandenborre.be' 'newegg.com' 'staples.com' 'overstock.com'\n",
      " 'samsclub.com' 'target.com' 'argos.co.uk' 'bhphotovideo.com' 'costco.ca'\n",
      " 'rogers.com' 'pricespy.co.nz' '91mobiles.com' 'handtec.co.uk' 'bol.com'\n",
      " 'bondfaro.com.br' 'netonnet.se' 'netonnet.no' 'orange.pl' 'oldi.ru'\n",
      " 'ciao.de' 'moviles.com' 'redcoon.de' 'lefdal.com' 'belsimpel.nl'\n",
      " 'ubaldi.com' 'siba.se' 'mediamarkt.es' 'wupti.com' 'elmir.ua'\n",
      " 'priceminister.com' 'cyberport.de' 'vatanbilgisayar.com'\n",
      " 'mytrendyphone.se' 'grosbill.com' 'gsminfo.nl' 'pixmania.es'\n",
      " 'komplett.dk' 'typhone.nl' 'digitec.ch' 'pixmania.it' 'prisjakt.no'\n",
      " 'tweakers.net' 'monclick.it' 'ulmart.ru' 'siba.no'\n",
      " 'boutiquepro.orange.fr' 'materiel.net' 'citilink.ru' 'fnac.pt' '21vek.by'\n",
      " 'abt.com' 'currys.co.uk' 'zopper.com' 'avis.cdiscount.com'\n",
      " 'casasbahia.com.br' 'conrad.de' 'mediamarkt.hu' 'eldorado.ru'\n",
      " 'pricecheck.co.za' 'clove.co.uk' 'mistergooddeal.com' 'wallashops.il'\n",
      " 'olcsobbat.hu' 'miky.nl' 'cepworld.com' 'snapdeal.com' 'qvcuk.com'\n",
      " 'infibeam.com' 'rakuten.com' 'pixmania.co.uk' 'rakuten.co.uk'\n",
      " 'fotosidan.se' 'geizhals.de' 'inside-handy.de' 'winniekepala.com'\n",
      " 'cdon.no' 'walmart.ca' 'hitmeister.de' 'macway.com' 'dns-shop.ru'\n",
      " 'hintaseuranta.fi' 'dooyoo.de' 'bellen.com' 'linio.com.mx' 'uae.souq.com'\n",
      " 'i-comparateur.com' 'webhallen.com' 'citykey.net' 'comx-computers.co.za'\n",
      " 'ciao-shopping.nl' 'cdon.fi' 'ainol-novo.com' 'rcwilley.com' 'ciao.se'\n",
      " 'dooyoo.it' 'magazineluiza.com.br' 'shop.mts.ru' 'phonehouse.nl' 'lg.com'\n",
      " 'gethuawei.com' 'katshing.se' 'ncixus.com' 'bhinneka.com' 'flipkart.com'\n",
      " 'conrad.se' 'kasa.cz' 'linio.com.ve' 'mall.cz' 'shop.halebop.se'\n",
      " 'ceptown.com' 'alternate.de' 'dinodirect.com' 'overclock.net'\n",
      " '3suisses.fr' 'testmateriel.com' 'conforama.fr' 'geekvida.pt' 'pbtech.nz'\n",
      " 'octilus.com' 'colombo.com.br' 'quesabesde.com' 'conrad.nl' 'plus.de'\n",
      " 'technoportal.ua' 'meinpaket.de' 'reviews.elcorteingles.es' 'shop.ca'\n",
      " 'dwidigitalcameras.com.au' 'conradelektronik.dk' 'alternate.dk'\n",
      " 'conrad.be' 'euronics.fi' 'efox.com.pt' 'submarino.com.br'\n",
      " 'kabel-csatlakozo.arukereso.hu' 'microsoftstore.com' 'reviewstream.com'\n",
      " 'consumentenbond.nl' 'shoptime.com.br' 'americanas.com.br'\n",
      " 'catalog.onliner.by' 'mob.ua' 'avis.sfr.fr' 'searsoutlet.com'\n",
      " 'mobilezap.com.au' 'microsoftstore.sg' '24shop.by' 'pdashop.be'\n",
      " 'homeshop18.com' 'shopfato.com.br' 'pricerunner.se' 'metamarket.ua'\n",
      " 'darty.com' 'vergelijk.nl' 'naaptol.com' 'otzovik.com' 'htc.com'\n",
      " 'ebay.com.au' 'extra.com.br' 'girafa.com.br' 'hepsiburada.com'\n",
      " 'cimri.com' 'notebooksbilliger.de' 'dooyoo.co.uk' 'mobilefun.co.uk'\n",
      " 'shopping.uol.com.br' 'forumcelular.com.br' 'officedepot.com'\n",
      " 'shopyourway.com' 'reviews.vodafone.co.uk' 'mightyape.co.nz' 'bell.ca'\n",
      " 'ozon.ru' 'bimeks.com.tr' 'shopmania.es' 'pixmania.pt' 'note.utinet.ru'\n",
      " 'tiendaonline.orange.es' 'fotos.ua' 'abc.ru' 'qvc.com'\n",
      " 'brandsmartusa.com' 'target.au' 'shopclues.com' 'qvc.de'\n",
      " 'pccomponentes.com' 'toneto.net' 'sony.com.br' 'cdon.dk' 'shopping.com'\n",
      " 'rozetka.com.ua' 'xtremmedia.com' 'preistrend.de'\n",
      " 'inceleme.gittigidiyor.com' 'pixmania.nl' 'staples.nl' 'oo.com.au'\n",
      " 'technikdirekt.de' 'backpacker.com' 'lenovo.com' 'protoria.ua'\n",
      " 'pricerunner.co.uk' 'vertaa.fi' 'comtech.de' 'inphone.dk'\n",
      " 'shopmania.com.mx' 'karsilastir.com' 'acer.pt' 'edbpriser.dk'\n",
      " 'sonystyle.com' 'phonehouse.fr' 'buscape.com.mx' 'buscape.cl'\n",
      " 'prijsvergelijk.nl' 'yopi.de' 'pixmania.com' 'pixmania.se'\n",
      " 'market.mediamarkt.ru' 'buscape.com.ar' 'guenstiger.de' 'tecnozoom.it'\n",
      " 'smartphoneshop.nl' 'pdashop.nl' 'price.ua' 'mobiles-actus.com'\n",
      " 'getgoods.de' 'consumerdemocracy.com' 'handy-mc.de' 'pooki.fr'\n",
      " 'tiklayaz.com' 'schede-cellulari.it' 'quelle.de' 'centralpoint.nl'\n",
      " 'phone-magazine.de' 'handcellphone.com' 'afterdawn.com' 'reviewed.com'\n",
      " 'pebuzz.com' 'expansys.com' 'graphmobile.com' 'dooyoo.es' 'pixmania.be'\n",
      " 'productsearch.rediff.com' 'opinion.mercadolibre.com.ar'\n",
      " 'opinion.mercadolibre.com.mx' 'opiniao.mercadolivre.com.br'\n",
      " 'kupipravilno.ru' 'opinion.mercadolibre.com.ec' 'opinion.mercadolibre.cl'\n",
      " 'esato.com' 'beslist.nl' 'thetenwordreview.com' 'foto.no'\n",
      " 'brothersontech.com' 'opinion.mercadolibre.com.ve'\n",
      " 'opinion.mercadolibre.com.co' 'reviewstop.co.uk' 'kelkoo.se'\n",
      " 'opinion.mercadolibre.com.uy' 'pcarm.com' 'topmobile.org'\n",
      " 'opinion.mercadolibre.com.pe' 'tolmol.com' 'techlore.com' 'dooyoo.fr'\n",
      " 'shopping.yahoo.com' 'ebay.com' 'ebay.de' 'review.kakaku.com' 'mwave.com'\n",
      " 'kullananvarmi.gen.tr' 'skapiec.pl' 'looneo.fr' 'onsale.com'\n",
      " 'vasarlas.femina.hu' 'es.shoomo.com' 'namering.egloos.com'\n",
      " 'compsource.com' 'taiwan.cnet.com' 'nz-electronics.co.nz'\n",
      " 'CompareStorePrices.co.uk' 'audioreview.com' 'walmart.com'\n",
      " 'izideal.co.uk' 'pocketgpsworld.com' 'verdicts.co.uk' 'recenzje.net.pl'\n",
      " 'cordless-phones.uk.com' 'pontodepromocao.com.br' 'otkliki.net' 'itp.net'\n",
      " 'hear.nl' 'rue-hardware.com' 'freemans.com' 'lazada.ph' 'gadgetzone.nl'\n",
      " 'comparison.com.au' 'ceneo.pl' 'ligo.co.uk' 'eprice.com.tw' 'clubic.com'\n",
      " 'celularetelefone.metropolitanas.com.br' 'andorrafreemarket.com'\n",
      " 'pricebat.ca' 'zura.com.br' 'macmall.com' 'cellphones.ca'\n",
      " 'produkt-news.com' 'japan.cnet.com' 'megagadgets.nl']\n",
      "No.of unique values for  score 86\n",
      "Unique values for score [10.   6.   9.2  4.   8.   2.   9.6  7.2  6.8  9.   8.3  8.8  8.4  5.3\n",
      "  7.   6.4  7.6  nan  5.2  3.2  4.4  2.8  5.6  3.6  4.8  1.   5.   3.\n",
      "  2.4  9.3  8.5  9.5  6.5  5.5  9.8  8.2  8.6  7.8  9.4  6.6  6.2  7.5\n",
      "  9.9  2.7  8.7  6.7  3.3  7.7  7.3  9.7  6.3  7.4  5.7  4.7  4.3  5.8\n",
      "  4.2  4.5  2.2  5.4  7.9  3.5  4.6  3.7  2.5  3.4  7.1  8.1  1.2  1.4\n",
      "  3.8  9.1  2.6  1.6  1.7  1.5  1.8  2.3  1.3  0.2  6.9  0.6  5.9  4.9\n",
      "  6.1  0.4  8.9]\n",
      "No.of unique values for  score_max 1\n",
      "Unique values for score_max [10. nan]\n"
     ]
    },
    {
     "name": "stdout",
     "output_type": "stream",
     "text": [
      "No.of unique values for  extract 1321353\n",
      "Unique values for extract ['As a diehard Samsung fan who has had every Samsung phone since before the S series started, this has been my favorite upgrade so far. I am amazed at some of the reviews and think people may just have a defective device that needs to be replaced. The battery life is amazing.'\n",
      " 'Love the phone. the phone is sleek and smooth and beautiful I highly recommend the phone you will not regret getting this phone.'\n",
      " \"Adequate feel. Nice heft. Processor's still sluggish for the few apps that I have installed. Samsung wants to vacuum all of your data with their apps that requires more access than needed. What else is new.\"\n",
      " ...\n",
      " 'Pour les gens qui ne regarde pas Il fait mp3, possedant un z600 depuis 2ans puis un p910 je revient au z car ils ont un desing terrible et je suis un...'\n",
      " 'C vrai que sans le mp3 c moyen...' 'Il lui manque le mp3 quel dommage']\n",
      "No.of unique values for  author 801103\n",
      "Unique values for author ['CarolAnn35' 'james0923' 'R. Craig' ... 'oli02' 'Zell' 'pw86@gmx.com']\n",
      "No.of unique values for  product 61313\n",
      "Unique values for product ['Samsung Galaxy S8'\n",
      " 'Samsung Galaxy S8 (64GB) G950U 5.8\" 4G LTE Unlocked (GSM + CDMA, US WARRANTY) (Orchid Gray)'\n",
      " 'Samsung Galaxy S8 64GB (AT&T)' ... 'Sony Ericsson z710i'\n",
      " 'SONY ERICSSON Z710i CEP TELEFONU' 'Sony-Ericsson Z710i']\n"
     ]
    }
   ],
   "source": [
    "for i in merged_df.columns:\n",
    "    find_uniquevalue_df(merged_df[i],i)"
   ]
  },
  {
   "cell_type": "code",
   "execution_count": 14,
   "metadata": {},
   "outputs": [
    {
     "name": "stdout",
     "output_type": "stream",
     "text": [
      "No.of unique values for  42\n",
      "Unique values for ['us' 'gb' 'au' 'in' 'il' 'fi' 'it' 'no' 'nl' 'ru' 'cz' 'be' 'se' 'es'\n",
      " 'br' 'fr' 'ua' 'ca' 'de' 'dk' 'nz' 'tr' 'pl' 'ch' 'pt' 'hu' 'za' 'mx'\n",
      " 'ae' 'id' 've' 'sg' 'cl' 'ar' 'ec' 'co' 'uy' 'cn' 'pe' 'jp' 'kr' 'tw']\n"
     ]
    }
   ],
   "source": [
    "def find_uniquevalue(a):\n",
    "    # Finding unique value for score_max\n",
    "    print('No.of unique values for ',a.nunique())\n",
    "    # Finding unique value for score_max\n",
    "    print('Unique values for',a.unique())\n",
    "# Unique Value of country\n",
    "find_uniquevalue(merged_df['country'])  "
   ]
  },
  {
   "cell_type": "code",
   "execution_count": 15,
   "metadata": {},
   "outputs": [
    {
     "data": {
      "text/html": [
       "<div>\n",
       "<style scoped>\n",
       "    .dataframe tbody tr th:only-of-type {\n",
       "        vertical-align: middle;\n",
       "    }\n",
       "\n",
       "    .dataframe tbody tr th {\n",
       "        vertical-align: top;\n",
       "    }\n",
       "\n",
       "    .dataframe thead th {\n",
       "        text-align: right;\n",
       "    }\n",
       "</style>\n",
       "<table border=\"1\" class=\"dataframe\">\n",
       "  <thead>\n",
       "    <tr style=\"text-align: right;\">\n",
       "      <th></th>\n",
       "      <th>phone_url</th>\n",
       "      <th>date</th>\n",
       "      <th>lang</th>\n",
       "      <th>country</th>\n",
       "      <th>source</th>\n",
       "      <th>domain</th>\n",
       "      <th>score</th>\n",
       "      <th>score_max</th>\n",
       "      <th>extract</th>\n",
       "      <th>author</th>\n",
       "      <th>product</th>\n",
       "    </tr>\n",
       "  </thead>\n",
       "  <tbody>\n",
       "    <tr>\n",
       "      <th>0</th>\n",
       "      <td>/cellphones/samsung-galaxy-s8/</td>\n",
       "      <td>5/2/2017</td>\n",
       "      <td>en</td>\n",
       "      <td>us</td>\n",
       "      <td>Verizon Wireless</td>\n",
       "      <td>verizonwireless.com</td>\n",
       "      <td>10.0</td>\n",
       "      <td>10.0</td>\n",
       "      <td>As a diehard Samsung fan who has had every Sam...</td>\n",
       "      <td>CarolAnn35</td>\n",
       "      <td>Samsung Galaxy S8</td>\n",
       "    </tr>\n",
       "    <tr>\n",
       "      <th>1</th>\n",
       "      <td>/cellphones/samsung-galaxy-s8/</td>\n",
       "      <td>4/28/2017</td>\n",
       "      <td>en</td>\n",
       "      <td>us</td>\n",
       "      <td>Phone Arena</td>\n",
       "      <td>phonearena.com</td>\n",
       "      <td>10.0</td>\n",
       "      <td>10.0</td>\n",
       "      <td>Love the phone. the phone is sleek and smooth ...</td>\n",
       "      <td>james0923</td>\n",
       "      <td>Samsung Galaxy S8</td>\n",
       "    </tr>\n",
       "    <tr>\n",
       "      <th>2</th>\n",
       "      <td>/cellphones/samsung-galaxy-s8/</td>\n",
       "      <td>5/4/2017</td>\n",
       "      <td>en</td>\n",
       "      <td>us</td>\n",
       "      <td>Amazon</td>\n",
       "      <td>amazon.com</td>\n",
       "      <td>6.0</td>\n",
       "      <td>10.0</td>\n",
       "      <td>Adequate feel. Nice heft. Processor's still sl...</td>\n",
       "      <td>R. Craig</td>\n",
       "      <td>Samsung Galaxy S8 (64GB) G950U 5.8\" 4G LTE Unl...</td>\n",
       "    </tr>\n",
       "    <tr>\n",
       "      <th>3</th>\n",
       "      <td>/cellphones/samsung-galaxy-s8/</td>\n",
       "      <td>5/2/2017</td>\n",
       "      <td>en</td>\n",
       "      <td>us</td>\n",
       "      <td>Samsung</td>\n",
       "      <td>samsung.com</td>\n",
       "      <td>9.2</td>\n",
       "      <td>10.0</td>\n",
       "      <td>Never disappointed. One of the reasons I've be...</td>\n",
       "      <td>Buster2020</td>\n",
       "      <td>Samsung Galaxy S8 64GB (AT&amp;T)</td>\n",
       "    </tr>\n",
       "    <tr>\n",
       "      <th>4</th>\n",
       "      <td>/cellphones/samsung-galaxy-s8/</td>\n",
       "      <td>5/11/2017</td>\n",
       "      <td>en</td>\n",
       "      <td>us</td>\n",
       "      <td>Verizon Wireless</td>\n",
       "      <td>verizonwireless.com</td>\n",
       "      <td>4.0</td>\n",
       "      <td>10.0</td>\n",
       "      <td>I've now found that i'm in a group of people t...</td>\n",
       "      <td>S Ate Mine</td>\n",
       "      <td>Samsung Galaxy S8</td>\n",
       "    </tr>\n",
       "    <tr>\n",
       "      <th>...</th>\n",
       "      <td>...</td>\n",
       "      <td>...</td>\n",
       "      <td>...</td>\n",
       "      <td>...</td>\n",
       "      <td>...</td>\n",
       "      <td>...</td>\n",
       "      <td>...</td>\n",
       "      <td>...</td>\n",
       "      <td>...</td>\n",
       "      <td>...</td>\n",
       "      <td>...</td>\n",
       "    </tr>\n",
       "    <tr>\n",
       "      <th>350084</th>\n",
       "      <td>/cellphones/samsung-sch-u350/</td>\n",
       "      <td>7/19/2009</td>\n",
       "      <td>en</td>\n",
       "      <td>us</td>\n",
       "      <td>HandCellPhone</td>\n",
       "      <td>handcellphone.com</td>\n",
       "      <td>NaN</td>\n",
       "      <td>NaN</td>\n",
       "      <td>What? What about the phone? Geezzz</td>\n",
       "      <td>Frank</td>\n",
       "      <td>Samsung Smooth SCH-U350</td>\n",
       "    </tr>\n",
       "    <tr>\n",
       "      <th>350085</th>\n",
       "      <td>/cellphones/samsung-sch-u350/</td>\n",
       "      <td>5/10/2009</td>\n",
       "      <td>en</td>\n",
       "      <td>us</td>\n",
       "      <td>HandCellPhone</td>\n",
       "      <td>handcellphone.com</td>\n",
       "      <td>NaN</td>\n",
       "      <td>NaN</td>\n",
       "      <td>well i wish if i had a phone right know becaus...</td>\n",
       "      <td>murissaferrier</td>\n",
       "      <td>Samsung Smooth SCH-U350</td>\n",
       "    </tr>\n",
       "    <tr>\n",
       "      <th>350086</th>\n",
       "      <td>/cellphones/samsung-sch-u350/</td>\n",
       "      <td>4/27/2009</td>\n",
       "      <td>en</td>\n",
       "      <td>us</td>\n",
       "      <td>Phone Arena</td>\n",
       "      <td>phonearena.com</td>\n",
       "      <td>9.7</td>\n",
       "      <td>10.0</td>\n",
       "      <td>this is the very best basic phone verizon has ...</td>\n",
       "      <td>mudslinger83</td>\n",
       "      <td>Samsung Smooth</td>\n",
       "    </tr>\n",
       "    <tr>\n",
       "      <th>350087</th>\n",
       "      <td>/cellphones/samsung-sch-u350/</td>\n",
       "      <td>4/27/2009</td>\n",
       "      <td>en</td>\n",
       "      <td>us</td>\n",
       "      <td>Phone Scoop</td>\n",
       "      <td>phonescoop.com</td>\n",
       "      <td>10.0</td>\n",
       "      <td>10.0</td>\n",
       "      <td>this is the very best basic phone verizon has ...</td>\n",
       "      <td>mudslinger83</td>\n",
       "      <td>Smooth / Glint SCH-U350</td>\n",
       "    </tr>\n",
       "    <tr>\n",
       "      <th>350088</th>\n",
       "      <td>/cellphones/sony-ericsson-z710i/</td>\n",
       "      <td>6/1/2007</td>\n",
       "      <td>en</td>\n",
       "      <td>us</td>\n",
       "      <td>Phone Arena</td>\n",
       "      <td>phonearena.com</td>\n",
       "      <td>7.8</td>\n",
       "      <td>10.0</td>\n",
       "      <td>Since its Sony Ericsson its definitely a high ...</td>\n",
       "      <td>miko</td>\n",
       "      <td>Sony Ericsson Z710</td>\n",
       "    </tr>\n",
       "  </tbody>\n",
       "</table>\n",
       "<p>318435 rows × 11 columns</p>\n",
       "</div>"
      ],
      "text/plain": [
       "                               phone_url       date lang country  \\\n",
       "0         /cellphones/samsung-galaxy-s8/   5/2/2017   en      us   \n",
       "1         /cellphones/samsung-galaxy-s8/  4/28/2017   en      us   \n",
       "2         /cellphones/samsung-galaxy-s8/   5/4/2017   en      us   \n",
       "3         /cellphones/samsung-galaxy-s8/   5/2/2017   en      us   \n",
       "4         /cellphones/samsung-galaxy-s8/  5/11/2017   en      us   \n",
       "...                                  ...        ...  ...     ...   \n",
       "350084     /cellphones/samsung-sch-u350/  7/19/2009   en      us   \n",
       "350085     /cellphones/samsung-sch-u350/  5/10/2009   en      us   \n",
       "350086     /cellphones/samsung-sch-u350/  4/27/2009   en      us   \n",
       "350087     /cellphones/samsung-sch-u350/  4/27/2009   en      us   \n",
       "350088  /cellphones/sony-ericsson-z710i/   6/1/2007   en      us   \n",
       "\n",
       "                  source               domain  score  score_max  \\\n",
       "0       Verizon Wireless  verizonwireless.com   10.0       10.0   \n",
       "1            Phone Arena       phonearena.com   10.0       10.0   \n",
       "2                 Amazon           amazon.com    6.0       10.0   \n",
       "3                Samsung          samsung.com    9.2       10.0   \n",
       "4       Verizon Wireless  verizonwireless.com    4.0       10.0   \n",
       "...                  ...                  ...    ...        ...   \n",
       "350084     HandCellPhone    handcellphone.com    NaN        NaN   \n",
       "350085     HandCellPhone    handcellphone.com    NaN        NaN   \n",
       "350086       Phone Arena       phonearena.com    9.7       10.0   \n",
       "350087       Phone Scoop       phonescoop.com   10.0       10.0   \n",
       "350088       Phone Arena       phonearena.com    7.8       10.0   \n",
       "\n",
       "                                                  extract          author  \\\n",
       "0       As a diehard Samsung fan who has had every Sam...      CarolAnn35   \n",
       "1       Love the phone. the phone is sleek and smooth ...       james0923   \n",
       "2       Adequate feel. Nice heft. Processor's still sl...        R. Craig   \n",
       "3       Never disappointed. One of the reasons I've be...     Buster2020    \n",
       "4       I've now found that i'm in a group of people t...      S Ate Mine   \n",
       "...                                                   ...             ...   \n",
       "350084                 What? What about the phone? Geezzz           Frank   \n",
       "350085  well i wish if i had a phone right know becaus...  murissaferrier   \n",
       "350086  this is the very best basic phone verizon has ...    mudslinger83   \n",
       "350087  this is the very best basic phone verizon has ...    mudslinger83   \n",
       "350088  Since its Sony Ericsson its definitely a high ...            miko   \n",
       "\n",
       "                                                  product  \n",
       "0                                       Samsung Galaxy S8  \n",
       "1                                       Samsung Galaxy S8  \n",
       "2       Samsung Galaxy S8 (64GB) G950U 5.8\" 4G LTE Unl...  \n",
       "3                           Samsung Galaxy S8 64GB (AT&T)  \n",
       "4                                       Samsung Galaxy S8  \n",
       "...                                                   ...  \n",
       "350084                            Samsung Smooth SCH-U350  \n",
       "350085                            Samsung Smooth SCH-U350  \n",
       "350086                                     Samsung Smooth  \n",
       "350087                            Smooth / Glint SCH-U350  \n",
       "350088                                 Sony Ericsson Z710  \n",
       "\n",
       "[318435 rows x 11 columns]"
      ]
     },
     "execution_count": 15,
     "metadata": {},
     "output_type": "execute_result"
    }
   ],
   "source": [
    "merged_df[(merged_df['country'] == 'us')]"
   ]
  },
  {
   "cell_type": "code",
   "execution_count": 16,
   "metadata": {},
   "outputs": [
    {
     "data": {
      "text/html": [
       "<div>\n",
       "<style scoped>\n",
       "    .dataframe tbody tr th:only-of-type {\n",
       "        vertical-align: middle;\n",
       "    }\n",
       "\n",
       "    .dataframe tbody tr th {\n",
       "        vertical-align: top;\n",
       "    }\n",
       "\n",
       "    .dataframe thead th {\n",
       "        text-align: right;\n",
       "    }\n",
       "</style>\n",
       "<table border=\"1\" class=\"dataframe\">\n",
       "  <thead>\n",
       "    <tr style=\"text-align: right;\">\n",
       "      <th></th>\n",
       "      <th>score</th>\n",
       "      <th>score_max</th>\n",
       "    </tr>\n",
       "  </thead>\n",
       "  <tbody>\n",
       "    <tr>\n",
       "      <th>count</th>\n",
       "      <td>1351644.000000</td>\n",
       "      <td>1351644.000000</td>\n",
       "    </tr>\n",
       "    <tr>\n",
       "      <th>mean</th>\n",
       "      <td>8.007060</td>\n",
       "      <td>10.000000</td>\n",
       "    </tr>\n",
       "    <tr>\n",
       "      <th>std</th>\n",
       "      <td>2.616121</td>\n",
       "      <td>0.000000</td>\n",
       "    </tr>\n",
       "    <tr>\n",
       "      <th>min</th>\n",
       "      <td>0.200000</td>\n",
       "      <td>10.000000</td>\n",
       "    </tr>\n",
       "    <tr>\n",
       "      <th>25%</th>\n",
       "      <td>7.200000</td>\n",
       "      <td>10.000000</td>\n",
       "    </tr>\n",
       "    <tr>\n",
       "      <th>50%</th>\n",
       "      <td>9.200000</td>\n",
       "      <td>10.000000</td>\n",
       "    </tr>\n",
       "    <tr>\n",
       "      <th>75%</th>\n",
       "      <td>10.000000</td>\n",
       "      <td>10.000000</td>\n",
       "    </tr>\n",
       "    <tr>\n",
       "      <th>max</th>\n",
       "      <td>10.000000</td>\n",
       "      <td>10.000000</td>\n",
       "    </tr>\n",
       "  </tbody>\n",
       "</table>\n",
       "</div>"
      ],
      "text/plain": [
       "                score       score_max\n",
       "count  1351644.000000  1351644.000000\n",
       "mean         8.007060       10.000000\n",
       "std          2.616121        0.000000\n",
       "min          0.200000       10.000000\n",
       "25%          7.200000       10.000000\n",
       "50%          9.200000       10.000000\n",
       "75%         10.000000       10.000000\n",
       "max         10.000000       10.000000"
      ]
     },
     "execution_count": 16,
     "metadata": {},
     "output_type": "execute_result"
    }
   ],
   "source": [
    "merged_df.nunique(axis=0)\n",
    "merged_df.describe().apply(lambda s: s.apply(lambda x: format(x, 'f')))"
   ]
  },
  {
   "cell_type": "code",
   "execution_count": 17,
   "metadata": {},
   "outputs": [
    {
     "name": "stdout",
     "output_type": "stream",
     "text": [
      "0         10.0\n",
      "1         10.0\n",
      "2          6.0\n",
      "3         10.0\n",
      "4          4.0\n",
      "          ... \n",
      "350211    10.0\n",
      "350212     9.0\n",
      "350213    10.0\n",
      "350214     9.0\n",
      "350215    10.0\n",
      "Name: score, Length: 1415133, dtype: float64\n"
     ]
    }
   ],
   "source": [
    "merged_df1 = merged_df['score'].apply(np.ceil) \n",
    "print (merged_df1)"
   ]
  },
  {
   "cell_type": "code",
   "execution_count": 18,
   "metadata": {},
   "outputs": [
    {
     "data": {
      "text/html": [
       "<div>\n",
       "<style scoped>\n",
       "    .dataframe tbody tr th:only-of-type {\n",
       "        vertical-align: middle;\n",
       "    }\n",
       "\n",
       "    .dataframe tbody tr th {\n",
       "        vertical-align: top;\n",
       "    }\n",
       "\n",
       "    .dataframe thead th {\n",
       "        text-align: right;\n",
       "    }\n",
       "</style>\n",
       "<table border=\"1\" class=\"dataframe\">\n",
       "  <thead>\n",
       "    <tr style=\"text-align: right;\">\n",
       "      <th></th>\n",
       "      <th>phone_url</th>\n",
       "      <th>date</th>\n",
       "      <th>lang</th>\n",
       "      <th>country</th>\n",
       "      <th>source</th>\n",
       "      <th>domain</th>\n",
       "      <th>score</th>\n",
       "      <th>score_max</th>\n",
       "      <th>extract</th>\n",
       "      <th>author</th>\n",
       "      <th>product</th>\n",
       "    </tr>\n",
       "  </thead>\n",
       "  <tbody>\n",
       "    <tr>\n",
       "      <th>0</th>\n",
       "      <td>/cellphones/samsung-galaxy-s8/</td>\n",
       "      <td>5/2/2017</td>\n",
       "      <td>en</td>\n",
       "      <td>us</td>\n",
       "      <td>Verizon Wireless</td>\n",
       "      <td>verizonwireless.com</td>\n",
       "      <td>10.0</td>\n",
       "      <td>10.0</td>\n",
       "      <td>As a diehard Samsung fan who has had every Sam...</td>\n",
       "      <td>CarolAnn35</td>\n",
       "      <td>Samsung Galaxy S8</td>\n",
       "    </tr>\n",
       "    <tr>\n",
       "      <th>1</th>\n",
       "      <td>/cellphones/samsung-galaxy-s8/</td>\n",
       "      <td>4/28/2017</td>\n",
       "      <td>en</td>\n",
       "      <td>us</td>\n",
       "      <td>Phone Arena</td>\n",
       "      <td>phonearena.com</td>\n",
       "      <td>10.0</td>\n",
       "      <td>10.0</td>\n",
       "      <td>Love the phone. the phone is sleek and smooth ...</td>\n",
       "      <td>james0923</td>\n",
       "      <td>Samsung Galaxy S8</td>\n",
       "    </tr>\n",
       "    <tr>\n",
       "      <th>2</th>\n",
       "      <td>/cellphones/samsung-galaxy-s8/</td>\n",
       "      <td>5/4/2017</td>\n",
       "      <td>en</td>\n",
       "      <td>us</td>\n",
       "      <td>Amazon</td>\n",
       "      <td>amazon.com</td>\n",
       "      <td>6.0</td>\n",
       "      <td>10.0</td>\n",
       "      <td>Adequate feel. Nice heft. Processor's still sl...</td>\n",
       "      <td>R. Craig</td>\n",
       "      <td>Samsung Galaxy S8 (64GB) G950U 5.8\" 4G LTE Unl...</td>\n",
       "    </tr>\n",
       "    <tr>\n",
       "      <th>3</th>\n",
       "      <td>/cellphones/samsung-galaxy-s8/</td>\n",
       "      <td>5/2/2017</td>\n",
       "      <td>en</td>\n",
       "      <td>us</td>\n",
       "      <td>Samsung</td>\n",
       "      <td>samsung.com</td>\n",
       "      <td>9.2</td>\n",
       "      <td>10.0</td>\n",
       "      <td>Never disappointed. One of the reasons I've be...</td>\n",
       "      <td>Buster2020</td>\n",
       "      <td>Samsung Galaxy S8 64GB (AT&amp;T)</td>\n",
       "    </tr>\n",
       "    <tr>\n",
       "      <th>4</th>\n",
       "      <td>/cellphones/samsung-galaxy-s8/</td>\n",
       "      <td>5/11/2017</td>\n",
       "      <td>en</td>\n",
       "      <td>us</td>\n",
       "      <td>Verizon Wireless</td>\n",
       "      <td>verizonwireless.com</td>\n",
       "      <td>4.0</td>\n",
       "      <td>10.0</td>\n",
       "      <td>I've now found that i'm in a group of people t...</td>\n",
       "      <td>S Ate Mine</td>\n",
       "      <td>Samsung Galaxy S8</td>\n",
       "    </tr>\n",
       "  </tbody>\n",
       "</table>\n",
       "</div>"
      ],
      "text/plain": [
       "                        phone_url       date lang country            source  \\\n",
       "0  /cellphones/samsung-galaxy-s8/   5/2/2017   en      us  Verizon Wireless   \n",
       "1  /cellphones/samsung-galaxy-s8/  4/28/2017   en      us       Phone Arena   \n",
       "2  /cellphones/samsung-galaxy-s8/   5/4/2017   en      us            Amazon   \n",
       "3  /cellphones/samsung-galaxy-s8/   5/2/2017   en      us           Samsung   \n",
       "4  /cellphones/samsung-galaxy-s8/  5/11/2017   en      us  Verizon Wireless   \n",
       "\n",
       "                domain  score  score_max  \\\n",
       "0  verizonwireless.com   10.0       10.0   \n",
       "1       phonearena.com   10.0       10.0   \n",
       "2           amazon.com    6.0       10.0   \n",
       "3          samsung.com    9.2       10.0   \n",
       "4  verizonwireless.com    4.0       10.0   \n",
       "\n",
       "                                             extract       author  \\\n",
       "0  As a diehard Samsung fan who has had every Sam...   CarolAnn35   \n",
       "1  Love the phone. the phone is sleek and smooth ...    james0923   \n",
       "2  Adequate feel. Nice heft. Processor's still sl...     R. Craig   \n",
       "3  Never disappointed. One of the reasons I've be...  Buster2020    \n",
       "4  I've now found that i'm in a group of people t...   S Ate Mine   \n",
       "\n",
       "                                             product  \n",
       "0                                  Samsung Galaxy S8  \n",
       "1                                  Samsung Galaxy S8  \n",
       "2  Samsung Galaxy S8 (64GB) G950U 5.8\" 4G LTE Unl...  \n",
       "3                      Samsung Galaxy S8 64GB (AT&T)  \n",
       "4                                  Samsung Galaxy S8  "
      ]
     },
     "execution_count": 18,
     "metadata": {},
     "output_type": "execute_result"
    }
   ],
   "source": [
    "merged_dfcopy = merged_df.copy()\n",
    "merged_dfcopy.head()"
   ]
  },
  {
   "cell_type": "code",
   "execution_count": 19,
   "metadata": {},
   "outputs": [
    {
     "data": {
      "text/plain": [
       "0    10.0\n",
       "1    10.0\n",
       "2     6.0\n",
       "3    10.0\n",
       "4     4.0\n",
       "Name: score, dtype: float64"
      ]
     },
     "execution_count": 19,
     "metadata": {},
     "output_type": "execute_result"
    }
   ],
   "source": [
    "merged_df1.head()"
   ]
  },
  {
   "cell_type": "code",
   "execution_count": 20,
   "metadata": {},
   "outputs": [],
   "source": [
    "# Rounding off the score column\n",
    "merged_df['score'] = merged_df['score'].apply(lambda x: round(x, 0))"
   ]
  },
  {
   "cell_type": "code",
   "execution_count": 21,
   "metadata": {},
   "outputs": [
    {
     "data": {
      "text/html": [
       "<div>\n",
       "<style scoped>\n",
       "    .dataframe tbody tr th:only-of-type {\n",
       "        vertical-align: middle;\n",
       "    }\n",
       "\n",
       "    .dataframe tbody tr th {\n",
       "        vertical-align: top;\n",
       "    }\n",
       "\n",
       "    .dataframe thead th {\n",
       "        text-align: right;\n",
       "    }\n",
       "</style>\n",
       "<table border=\"1\" class=\"dataframe\">\n",
       "  <thead>\n",
       "    <tr style=\"text-align: right;\">\n",
       "      <th></th>\n",
       "      <th>phone_url</th>\n",
       "      <th>date</th>\n",
       "      <th>lang</th>\n",
       "      <th>country</th>\n",
       "      <th>source</th>\n",
       "      <th>domain</th>\n",
       "      <th>score</th>\n",
       "      <th>score_max</th>\n",
       "      <th>extract</th>\n",
       "      <th>author</th>\n",
       "      <th>product</th>\n",
       "    </tr>\n",
       "  </thead>\n",
       "  <tbody>\n",
       "    <tr>\n",
       "      <th>0</th>\n",
       "      <td>/cellphones/samsung-galaxy-s8/</td>\n",
       "      <td>5/2/2017</td>\n",
       "      <td>en</td>\n",
       "      <td>us</td>\n",
       "      <td>Verizon Wireless</td>\n",
       "      <td>verizonwireless.com</td>\n",
       "      <td>10.0</td>\n",
       "      <td>10.0</td>\n",
       "      <td>As a diehard Samsung fan who has had every Sam...</td>\n",
       "      <td>CarolAnn35</td>\n",
       "      <td>Samsung Galaxy S8</td>\n",
       "    </tr>\n",
       "    <tr>\n",
       "      <th>1</th>\n",
       "      <td>/cellphones/samsung-galaxy-s8/</td>\n",
       "      <td>4/28/2017</td>\n",
       "      <td>en</td>\n",
       "      <td>us</td>\n",
       "      <td>Phone Arena</td>\n",
       "      <td>phonearena.com</td>\n",
       "      <td>10.0</td>\n",
       "      <td>10.0</td>\n",
       "      <td>Love the phone. the phone is sleek and smooth ...</td>\n",
       "      <td>james0923</td>\n",
       "      <td>Samsung Galaxy S8</td>\n",
       "    </tr>\n",
       "    <tr>\n",
       "      <th>2</th>\n",
       "      <td>/cellphones/samsung-galaxy-s8/</td>\n",
       "      <td>5/4/2017</td>\n",
       "      <td>en</td>\n",
       "      <td>us</td>\n",
       "      <td>Amazon</td>\n",
       "      <td>amazon.com</td>\n",
       "      <td>6.0</td>\n",
       "      <td>10.0</td>\n",
       "      <td>Adequate feel. Nice heft. Processor's still sl...</td>\n",
       "      <td>R. Craig</td>\n",
       "      <td>Samsung Galaxy S8 (64GB) G950U 5.8\" 4G LTE Unl...</td>\n",
       "    </tr>\n",
       "    <tr>\n",
       "      <th>3</th>\n",
       "      <td>/cellphones/samsung-galaxy-s8/</td>\n",
       "      <td>5/2/2017</td>\n",
       "      <td>en</td>\n",
       "      <td>us</td>\n",
       "      <td>Samsung</td>\n",
       "      <td>samsung.com</td>\n",
       "      <td>9.0</td>\n",
       "      <td>10.0</td>\n",
       "      <td>Never disappointed. One of the reasons I've be...</td>\n",
       "      <td>Buster2020</td>\n",
       "      <td>Samsung Galaxy S8 64GB (AT&amp;T)</td>\n",
       "    </tr>\n",
       "    <tr>\n",
       "      <th>4</th>\n",
       "      <td>/cellphones/samsung-galaxy-s8/</td>\n",
       "      <td>5/11/2017</td>\n",
       "      <td>en</td>\n",
       "      <td>us</td>\n",
       "      <td>Verizon Wireless</td>\n",
       "      <td>verizonwireless.com</td>\n",
       "      <td>4.0</td>\n",
       "      <td>10.0</td>\n",
       "      <td>I've now found that i'm in a group of people t...</td>\n",
       "      <td>S Ate Mine</td>\n",
       "      <td>Samsung Galaxy S8</td>\n",
       "    </tr>\n",
       "  </tbody>\n",
       "</table>\n",
       "</div>"
      ],
      "text/plain": [
       "                        phone_url       date lang country            source  \\\n",
       "0  /cellphones/samsung-galaxy-s8/   5/2/2017   en      us  Verizon Wireless   \n",
       "1  /cellphones/samsung-galaxy-s8/  4/28/2017   en      us       Phone Arena   \n",
       "2  /cellphones/samsung-galaxy-s8/   5/4/2017   en      us            Amazon   \n",
       "3  /cellphones/samsung-galaxy-s8/   5/2/2017   en      us           Samsung   \n",
       "4  /cellphones/samsung-galaxy-s8/  5/11/2017   en      us  Verizon Wireless   \n",
       "\n",
       "                domain  score  score_max  \\\n",
       "0  verizonwireless.com   10.0       10.0   \n",
       "1       phonearena.com   10.0       10.0   \n",
       "2           amazon.com    6.0       10.0   \n",
       "3          samsung.com    9.0       10.0   \n",
       "4  verizonwireless.com    4.0       10.0   \n",
       "\n",
       "                                             extract       author  \\\n",
       "0  As a diehard Samsung fan who has had every Sam...   CarolAnn35   \n",
       "1  Love the phone. the phone is sleek and smooth ...    james0923   \n",
       "2  Adequate feel. Nice heft. Processor's still sl...     R. Craig   \n",
       "3  Never disappointed. One of the reasons I've be...  Buster2020    \n",
       "4  I've now found that i'm in a group of people t...   S Ate Mine   \n",
       "\n",
       "                                             product  \n",
       "0                                  Samsung Galaxy S8  \n",
       "1                                  Samsung Galaxy S8  \n",
       "2  Samsung Galaxy S8 (64GB) G950U 5.8\" 4G LTE Unl...  \n",
       "3                      Samsung Galaxy S8 64GB (AT&T)  \n",
       "4                                  Samsung Galaxy S8  "
      ]
     },
     "execution_count": 21,
     "metadata": {},
     "output_type": "execute_result"
    }
   ],
   "source": [
    "merged_df.head()"
   ]
  },
  {
   "cell_type": "code",
   "execution_count": 22,
   "metadata": {},
   "outputs": [
    {
     "data": {
      "text/plain": [
       "phone_url        0\n",
       "date             0\n",
       "lang             0\n",
       "country          0\n",
       "source           0\n",
       "domain           0\n",
       "score        63489\n",
       "score_max    63489\n",
       "extract      19361\n",
       "author       63202\n",
       "product          1\n",
       "dtype: int64"
      ]
     },
     "execution_count": 22,
     "metadata": {},
     "output_type": "execute_result"
    }
   ],
   "source": [
    "# Check for missing values\n",
    "merged_df.apply(lambda x: sum(x.isnull()),axis=0)"
   ]
  },
  {
   "cell_type": "raw",
   "metadata": {},
   "source": [
    "Seems to be be we have score, score_max, extract, author, product has Missing values"
   ]
  },
  {
   "cell_type": "code",
   "execution_count": 23,
   "metadata": {},
   "outputs": [],
   "source": [
    "# dropping missing Values\n",
    "merged_df_notnull = merged_df.dropna()"
   ]
  },
  {
   "cell_type": "code",
   "execution_count": 24,
   "metadata": {},
   "outputs": [
    {
     "data": {
      "text/plain": [
       "phone_url    0\n",
       "date         0\n",
       "lang         0\n",
       "country      0\n",
       "source       0\n",
       "domain       0\n",
       "score        0\n",
       "score_max    0\n",
       "extract      0\n",
       "author       0\n",
       "product      0\n",
       "dtype: int64"
      ]
     },
     "execution_count": 24,
     "metadata": {},
     "output_type": "execute_result"
    }
   ],
   "source": [
    "# Check for missing values\n",
    "merged_df_notnull.apply(lambda x: sum(x.isnull()),axis=0)"
   ]
  },
  {
   "cell_type": "code",
   "execution_count": 25,
   "metadata": {},
   "outputs": [],
   "source": [
    "data_clean = merged_df_notnull.copy()"
   ]
  },
  {
   "cell_type": "code",
   "execution_count": 26,
   "metadata": {},
   "outputs": [
    {
     "name": "stdout",
     "output_type": "stream",
     "text": [
      "Original Data Summary\n",
      "No.of Rows =  1415133\n",
      "No.of Columns =  11\n",
      "Cleaned Data Summary\n",
      "No.of Rows =  1275917\n",
      "No.of Columns =  11\n"
     ]
    }
   ],
   "source": [
    "merged_df.shape\n",
    "rows = len(merged_df)\n",
    "columns = len(merged_df.columns)\n",
    "print(\"Original Data Summary\")\n",
    "print(\"No.of Rows = \", rows )\n",
    "print(\"No.of Columns = \", columns)\n",
    "\n",
    "data_clean.shape\n",
    "rows = len(data_clean)\n",
    "columns = len(data_clean.columns)\n",
    "print(\"Cleaned Data Summary\")\n",
    "print(\"No.of Rows = \", rows )\n",
    "print(\"No.of Columns = \", columns)"
   ]
  },
  {
   "cell_type": "code",
   "execution_count": 27,
   "metadata": {},
   "outputs": [
    {
     "data": {
      "text/plain": [
       "phone_url        0\n",
       "date             0\n",
       "lang             0\n",
       "country          0\n",
       "source           0\n",
       "domain           0\n",
       "score        63489\n",
       "score_max    63489\n",
       "extract      19361\n",
       "author       63202\n",
       "product          1\n",
       "dtype: int64"
      ]
     },
     "execution_count": 27,
     "metadata": {},
     "output_type": "execute_result"
    }
   ],
   "source": [
    "# Handling missing data with Imputational techniques\n",
    "merged_df.apply(lambda x: sum(x.isnull()),axis=0)"
   ]
  },
  {
   "cell_type": "code",
   "execution_count": 28,
   "metadata": {},
   "outputs": [
    {
     "data": {
      "text/html": [
       "<div>\n",
       "<style scoped>\n",
       "    .dataframe tbody tr th:only-of-type {\n",
       "        vertical-align: middle;\n",
       "    }\n",
       "\n",
       "    .dataframe tbody tr th {\n",
       "        vertical-align: top;\n",
       "    }\n",
       "\n",
       "    .dataframe thead th {\n",
       "        text-align: right;\n",
       "    }\n",
       "</style>\n",
       "<table border=\"1\" class=\"dataframe\">\n",
       "  <thead>\n",
       "    <tr style=\"text-align: right;\">\n",
       "      <th></th>\n",
       "      <th>phone_url</th>\n",
       "      <th>date</th>\n",
       "      <th>lang</th>\n",
       "      <th>country</th>\n",
       "      <th>source</th>\n",
       "      <th>domain</th>\n",
       "      <th>score</th>\n",
       "      <th>score_max</th>\n",
       "      <th>extract</th>\n",
       "      <th>author</th>\n",
       "      <th>product</th>\n",
       "    </tr>\n",
       "  </thead>\n",
       "  <tbody>\n",
       "    <tr>\n",
       "      <th>0</th>\n",
       "      <td>/cellphones/samsung-galaxy-s8/</td>\n",
       "      <td>5/2/2017</td>\n",
       "      <td>en</td>\n",
       "      <td>us</td>\n",
       "      <td>Verizon Wireless</td>\n",
       "      <td>verizonwireless.com</td>\n",
       "      <td>10.0</td>\n",
       "      <td>10.0</td>\n",
       "      <td>As a diehard Samsung fan who has had every Sam...</td>\n",
       "      <td>CarolAnn35</td>\n",
       "      <td>Samsung Galaxy S8</td>\n",
       "    </tr>\n",
       "    <tr>\n",
       "      <th>1</th>\n",
       "      <td>/cellphones/samsung-galaxy-s8/</td>\n",
       "      <td>4/28/2017</td>\n",
       "      <td>en</td>\n",
       "      <td>us</td>\n",
       "      <td>Phone Arena</td>\n",
       "      <td>phonearena.com</td>\n",
       "      <td>10.0</td>\n",
       "      <td>10.0</td>\n",
       "      <td>Love the phone. the phone is sleek and smooth ...</td>\n",
       "      <td>james0923</td>\n",
       "      <td>Samsung Galaxy S8</td>\n",
       "    </tr>\n",
       "    <tr>\n",
       "      <th>2</th>\n",
       "      <td>/cellphones/samsung-galaxy-s8/</td>\n",
       "      <td>5/4/2017</td>\n",
       "      <td>en</td>\n",
       "      <td>us</td>\n",
       "      <td>Amazon</td>\n",
       "      <td>amazon.com</td>\n",
       "      <td>6.0</td>\n",
       "      <td>10.0</td>\n",
       "      <td>Adequate feel. Nice heft. Processor's still sl...</td>\n",
       "      <td>R. Craig</td>\n",
       "      <td>Samsung Galaxy S8 (64GB) G950U 5.8\" 4G LTE Unl...</td>\n",
       "    </tr>\n",
       "    <tr>\n",
       "      <th>3</th>\n",
       "      <td>/cellphones/samsung-galaxy-s8/</td>\n",
       "      <td>5/2/2017</td>\n",
       "      <td>en</td>\n",
       "      <td>us</td>\n",
       "      <td>Samsung</td>\n",
       "      <td>samsung.com</td>\n",
       "      <td>9.0</td>\n",
       "      <td>10.0</td>\n",
       "      <td>Never disappointed. One of the reasons I've be...</td>\n",
       "      <td>Buster2020</td>\n",
       "      <td>Samsung Galaxy S8 64GB (AT&amp;T)</td>\n",
       "    </tr>\n",
       "    <tr>\n",
       "      <th>4</th>\n",
       "      <td>/cellphones/samsung-galaxy-s8/</td>\n",
       "      <td>5/11/2017</td>\n",
       "      <td>en</td>\n",
       "      <td>us</td>\n",
       "      <td>Verizon Wireless</td>\n",
       "      <td>verizonwireless.com</td>\n",
       "      <td>4.0</td>\n",
       "      <td>10.0</td>\n",
       "      <td>I've now found that i'm in a group of people t...</td>\n",
       "      <td>S Ate Mine</td>\n",
       "      <td>Samsung Galaxy S8</td>\n",
       "    </tr>\n",
       "  </tbody>\n",
       "</table>\n",
       "</div>"
      ],
      "text/plain": [
       "                        phone_url       date lang country            source  \\\n",
       "0  /cellphones/samsung-galaxy-s8/   5/2/2017   en      us  Verizon Wireless   \n",
       "1  /cellphones/samsung-galaxy-s8/  4/28/2017   en      us       Phone Arena   \n",
       "2  /cellphones/samsung-galaxy-s8/   5/4/2017   en      us            Amazon   \n",
       "3  /cellphones/samsung-galaxy-s8/   5/2/2017   en      us           Samsung   \n",
       "4  /cellphones/samsung-galaxy-s8/  5/11/2017   en      us  Verizon Wireless   \n",
       "\n",
       "                domain  score  score_max  \\\n",
       "0  verizonwireless.com   10.0       10.0   \n",
       "1       phonearena.com   10.0       10.0   \n",
       "2           amazon.com    6.0       10.0   \n",
       "3          samsung.com    9.0       10.0   \n",
       "4  verizonwireless.com    4.0       10.0   \n",
       "\n",
       "                                             extract       author  \\\n",
       "0  As a diehard Samsung fan who has had every Sam...   CarolAnn35   \n",
       "1  Love the phone. the phone is sleek and smooth ...    james0923   \n",
       "2  Adequate feel. Nice heft. Processor's still sl...     R. Craig   \n",
       "3  Never disappointed. One of the reasons I've be...  Buster2020    \n",
       "4  I've now found that i'm in a group of people t...   S Ate Mine   \n",
       "\n",
       "                                             product  \n",
       "0                                  Samsung Galaxy S8  \n",
       "1                                  Samsung Galaxy S8  \n",
       "2  Samsung Galaxy S8 (64GB) G950U 5.8\" 4G LTE Unl...  \n",
       "3                      Samsung Galaxy S8 64GB (AT&T)  \n",
       "4                                  Samsung Galaxy S8  "
      ]
     },
     "execution_count": 28,
     "metadata": {},
     "output_type": "execute_result"
    }
   ],
   "source": [
    "\n",
    "# Seems to be be we have score, score_max, extract, author, product has Missing values\n",
    "# score_max - as already analyzed it has one uniue value as \"10\" so we can fill the na values \n",
    "# with that particular unique value\n",
    "merged_df_impute1 = merged_df.copy()\n",
    "merged_df_impute1['score_max'] = merged_df_impute1['score_max'].fillna(10)\n",
    "merged_df_impute1.head()"
   ]
  },
  {
   "cell_type": "code",
   "execution_count": 29,
   "metadata": {},
   "outputs": [
    {
     "name": "stdout",
     "output_type": "stream",
     "text": [
      "No.of unique values for  1\n",
      "Unique values for [10.]\n"
     ]
    }
   ],
   "source": [
    "find_uniquevalue(merged_df_impute1['score_max'])"
   ]
  },
  {
   "cell_type": "raw",
   "metadata": {},
   "source": [
    "The missing value for the column score_max is handled"
   ]
  },
  {
   "cell_type": "code",
   "execution_count": 30,
   "metadata": {},
   "outputs": [],
   "source": [
    "def missingvalue(a):\n",
    "    out = a.apply(lambda x: sum(x.isnull()),axis=0)\n",
    "    return out"
   ]
  },
  {
   "cell_type": "code",
   "execution_count": 31,
   "metadata": {},
   "outputs": [
    {
     "data": {
      "text/plain": [
       "phone_url        0\n",
       "date             0\n",
       "lang             0\n",
       "country          0\n",
       "source           0\n",
       "domain           0\n",
       "score        63489\n",
       "score_max        0\n",
       "extract      19361\n",
       "author       63202\n",
       "product          1\n",
       "dtype: int64"
      ]
     },
     "execution_count": 31,
     "metadata": {},
     "output_type": "execute_result"
    }
   ],
   "source": [
    "missingvalue(merged_df_impute1)"
   ]
  },
  {
   "cell_type": "raw",
   "metadata": {},
   "source": [
    "The missing value for the column score_max is handled - verified again with missing value\n",
    "\n",
    "The extract and author is an object and we can remove it since \n",
    "extract     - rating content\t\t Cannot be imputed\n",
    "author      - name of the person who gave the rating - Cannot be imputed\n",
    "So this can be dropped"
   ]
  },
  {
   "cell_type": "code",
   "execution_count": 32,
   "metadata": {},
   "outputs": [
    {
     "name": "stdout",
     "output_type": "stream",
     "text": [
      "Before dropping NA in extract and author columns\n",
      "After dropping NA in extract and author columns\n"
     ]
    },
    {
     "data": {
      "text/plain": [
       "phone_url        0\n",
       "date             0\n",
       "lang             0\n",
       "country          0\n",
       "source           0\n",
       "domain           0\n",
       "score        60499\n",
       "score_max        0\n",
       "extract          0\n",
       "author           0\n",
       "product          0\n",
       "dtype: int64"
      ]
     },
     "execution_count": 32,
     "metadata": {},
     "output_type": "execute_result"
    }
   ],
   "source": [
    "merged_df_impute2 = merged_df_impute1.copy()\n",
    "\n",
    "# Dropping Nan in 2 columns extract and author\n",
    "merged_df_impute2 = merged_df_impute2.dropna(subset=['extract', 'author'])\n",
    "\n",
    "#validating missing value\n",
    "print(\"Before dropping NA in extract and author columns\")\n",
    "missingvalue(merged_df_impute1)\n",
    "print(\"After dropping NA in extract and author columns\")\n",
    "missingvalue(merged_df_impute2)"
   ]
  },
  {
   "cell_type": "raw",
   "metadata": {},
   "source": [
    "Now upon checking another one is score - since it is a float we can use mean value of score to find it"
   ]
  },
  {
   "cell_type": "code",
   "execution_count": 33,
   "metadata": {},
   "outputs": [
    {
     "data": {
      "text/html": [
       "<div>\n",
       "<style scoped>\n",
       "    .dataframe tbody tr th:only-of-type {\n",
       "        vertical-align: middle;\n",
       "    }\n",
       "\n",
       "    .dataframe tbody tr th {\n",
       "        vertical-align: top;\n",
       "    }\n",
       "\n",
       "    .dataframe thead th {\n",
       "        text-align: right;\n",
       "    }\n",
       "</style>\n",
       "<table border=\"1\" class=\"dataframe\">\n",
       "  <thead>\n",
       "    <tr style=\"text-align: right;\">\n",
       "      <th></th>\n",
       "      <th>phone_url</th>\n",
       "      <th>date</th>\n",
       "      <th>lang</th>\n",
       "      <th>country</th>\n",
       "      <th>source</th>\n",
       "      <th>domain</th>\n",
       "      <th>score</th>\n",
       "      <th>score_max</th>\n",
       "      <th>extract</th>\n",
       "      <th>author</th>\n",
       "      <th>product</th>\n",
       "    </tr>\n",
       "  </thead>\n",
       "  <tbody>\n",
       "    <tr>\n",
       "      <th>0</th>\n",
       "      <td>/cellphones/samsung-galaxy-s8/</td>\n",
       "      <td>5/2/2017</td>\n",
       "      <td>en</td>\n",
       "      <td>us</td>\n",
       "      <td>Verizon Wireless</td>\n",
       "      <td>verizonwireless.com</td>\n",
       "      <td>10.0</td>\n",
       "      <td>10.0</td>\n",
       "      <td>As a diehard Samsung fan who has had every Sam...</td>\n",
       "      <td>CarolAnn35</td>\n",
       "      <td>Samsung Galaxy S8</td>\n",
       "    </tr>\n",
       "    <tr>\n",
       "      <th>1</th>\n",
       "      <td>/cellphones/samsung-galaxy-s8/</td>\n",
       "      <td>4/28/2017</td>\n",
       "      <td>en</td>\n",
       "      <td>us</td>\n",
       "      <td>Phone Arena</td>\n",
       "      <td>phonearena.com</td>\n",
       "      <td>10.0</td>\n",
       "      <td>10.0</td>\n",
       "      <td>Love the phone. the phone is sleek and smooth ...</td>\n",
       "      <td>james0923</td>\n",
       "      <td>Samsung Galaxy S8</td>\n",
       "    </tr>\n",
       "    <tr>\n",
       "      <th>2</th>\n",
       "      <td>/cellphones/samsung-galaxy-s8/</td>\n",
       "      <td>5/4/2017</td>\n",
       "      <td>en</td>\n",
       "      <td>us</td>\n",
       "      <td>Amazon</td>\n",
       "      <td>amazon.com</td>\n",
       "      <td>6.0</td>\n",
       "      <td>10.0</td>\n",
       "      <td>Adequate feel. Nice heft. Processor's still sl...</td>\n",
       "      <td>R. Craig</td>\n",
       "      <td>Samsung Galaxy S8 (64GB) G950U 5.8\" 4G LTE Unl...</td>\n",
       "    </tr>\n",
       "    <tr>\n",
       "      <th>3</th>\n",
       "      <td>/cellphones/samsung-galaxy-s8/</td>\n",
       "      <td>5/2/2017</td>\n",
       "      <td>en</td>\n",
       "      <td>us</td>\n",
       "      <td>Samsung</td>\n",
       "      <td>samsung.com</td>\n",
       "      <td>9.0</td>\n",
       "      <td>10.0</td>\n",
       "      <td>Never disappointed. One of the reasons I've be...</td>\n",
       "      <td>Buster2020</td>\n",
       "      <td>Samsung Galaxy S8 64GB (AT&amp;T)</td>\n",
       "    </tr>\n",
       "    <tr>\n",
       "      <th>4</th>\n",
       "      <td>/cellphones/samsung-galaxy-s8/</td>\n",
       "      <td>5/11/2017</td>\n",
       "      <td>en</td>\n",
       "      <td>us</td>\n",
       "      <td>Verizon Wireless</td>\n",
       "      <td>verizonwireless.com</td>\n",
       "      <td>4.0</td>\n",
       "      <td>10.0</td>\n",
       "      <td>I've now found that i'm in a group of people t...</td>\n",
       "      <td>S Ate Mine</td>\n",
       "      <td>Samsung Galaxy S8</td>\n",
       "    </tr>\n",
       "  </tbody>\n",
       "</table>\n",
       "</div>"
      ],
      "text/plain": [
       "                        phone_url       date lang country            source  \\\n",
       "0  /cellphones/samsung-galaxy-s8/   5/2/2017   en      us  Verizon Wireless   \n",
       "1  /cellphones/samsung-galaxy-s8/  4/28/2017   en      us       Phone Arena   \n",
       "2  /cellphones/samsung-galaxy-s8/   5/4/2017   en      us            Amazon   \n",
       "3  /cellphones/samsung-galaxy-s8/   5/2/2017   en      us           Samsung   \n",
       "4  /cellphones/samsung-galaxy-s8/  5/11/2017   en      us  Verizon Wireless   \n",
       "\n",
       "                domain  score  score_max  \\\n",
       "0  verizonwireless.com   10.0       10.0   \n",
       "1       phonearena.com   10.0       10.0   \n",
       "2           amazon.com    6.0       10.0   \n",
       "3          samsung.com    9.0       10.0   \n",
       "4  verizonwireless.com    4.0       10.0   \n",
       "\n",
       "                                             extract       author  \\\n",
       "0  As a diehard Samsung fan who has had every Sam...   CarolAnn35   \n",
       "1  Love the phone. the phone is sleek and smooth ...    james0923   \n",
       "2  Adequate feel. Nice heft. Processor's still sl...     R. Craig   \n",
       "3  Never disappointed. One of the reasons I've be...  Buster2020    \n",
       "4  I've now found that i'm in a group of people t...   S Ate Mine   \n",
       "\n",
       "                                             product  \n",
       "0                                  Samsung Galaxy S8  \n",
       "1                                  Samsung Galaxy S8  \n",
       "2  Samsung Galaxy S8 (64GB) G950U 5.8\" 4G LTE Unl...  \n",
       "3                      Samsung Galaxy S8 64GB (AT&T)  \n",
       "4                                  Samsung Galaxy S8  "
      ]
     },
     "execution_count": 33,
     "metadata": {},
     "output_type": "execute_result"
    }
   ],
   "source": [
    "merged_df_impute2.head()"
   ]
  },
  {
   "cell_type": "code",
   "execution_count": 34,
   "metadata": {},
   "outputs": [
    {
     "data": {
      "text/plain": [
       "array([[<AxesSubplot:title={'center':'score'}>]], dtype=object)"
      ]
     },
     "execution_count": 34,
     "metadata": {},
     "output_type": "execute_result"
    },
    {
     "data": {
      "image/png": "[encoded data removed]",
      "text/plain": [
       "<Figure size 432x288 with 1 Axes>"
      ]
     },
     "metadata": {
      "needs_background": "light"
     },
     "output_type": "display_data"
    }
   ],
   "source": [
    "merged_df_impute2.hist(column='score')"
   ]
  },
  {
   "cell_type": "code",
   "execution_count": 35,
   "metadata": {},
   "outputs": [
    {
     "name": "stdout",
     "output_type": "stream",
     "text": [
      "63795.850000000006\n"
     ]
    }
   ],
   "source": [
    "# claculating 5 percent of data for score\n",
    "score_count = merged_df_impute2['score'].count()\n",
    "percent_score_count = score_count * (5/100)\n",
    "print (percent_score_count)"
   ]
  },
  {
   "cell_type": "code",
   "execution_count": 36,
   "metadata": {},
   "outputs": [],
   "source": [
    "# Taking a copy of dataframe before imputation\n",
    "merged_df_impute3 = merged_df_impute2.copy()"
   ]
  },
  {
   "cell_type": "code",
   "execution_count": 37,
   "metadata": {},
   "outputs": [],
   "source": [
    "# Filling with mean\n",
    "merged_df_impute3['score'] = merged_df_impute3['score'].fillna(merged_df_impute3['score'].mean())"
   ]
  },
  {
   "cell_type": "code",
   "execution_count": 38,
   "metadata": {},
   "outputs": [
    {
     "name": "stdout",
     "output_type": "stream",
     "text": [
      "Before dropping NA in extract and author columns\n",
      "After dropping NA in extract and author columns\n"
     ]
    },
    {
     "data": {
      "text/plain": [
       "phone_url    0\n",
       "date         0\n",
       "lang         0\n",
       "country      0\n",
       "source       0\n",
       "domain       0\n",
       "score        0\n",
       "score_max    0\n",
       "extract      0\n",
       "author       0\n",
       "product      0\n",
       "dtype: int64"
      ]
     },
     "execution_count": 38,
     "metadata": {},
     "output_type": "execute_result"
    }
   ],
   "source": [
    "#validating missing value\n",
    "print(\"Before dropping NA in extract and author columns\")\n",
    "missingvalue(merged_df_impute2)\n",
    "print(\"After dropping NA in extract and author columns\")\n",
    "missingvalue(merged_df_impute3)"
   ]
  },
  {
   "cell_type": "code",
   "execution_count": 39,
   "metadata": {},
   "outputs": [
    {
     "data": {
      "text/plain": [
       "(1336416, 11)"
      ]
     },
     "execution_count": 39,
     "metadata": {},
     "output_type": "execute_result"
    }
   ],
   "source": [
    "# Given that we dont have any missing values - we will drop insignificant atrributes of data\n",
    "merged_df_impute3.shape"
   ]
  },
  {
   "cell_type": "code",
   "execution_count": 40,
   "metadata": {},
   "outputs": [],
   "source": [
    "# Dropping duplicate values\n",
    "merged_df_impute4 = pd.DataFrame.drop_duplicates(merged_df_impute3)"
   ]
  },
  {
   "cell_type": "code",
   "execution_count": 41,
   "metadata": {},
   "outputs": [
    {
     "data": {
      "text/plain": [
       "(1331593, 11)"
      ]
     },
     "execution_count": 41,
     "metadata": {},
     "output_type": "execute_result"
    }
   ],
   "source": [
    "merged_df_impute4.shape"
   ]
  },
  {
   "cell_type": "code",
   "execution_count": 42,
   "metadata": {},
   "outputs": [
    {
     "data": {
      "text/plain": [
       "Index(['phone_url', 'date', 'lang', 'country', 'source', 'domain', 'score',\n",
       "       'score_max', 'extract', 'author', 'product'],\n",
       "      dtype='object')"
      ]
     },
     "execution_count": 42,
     "metadata": {},
     "output_type": "execute_result"
    }
   ],
   "source": [
    "merged_df_impute3.columns"
   ]
  },
  {
   "cell_type": "code",
   "execution_count": 43,
   "metadata": {},
   "outputs": [
    {
     "data": {
      "text/html": [
       "<div>\n",
       "<style scoped>\n",
       "    .dataframe tbody tr th:only-of-type {\n",
       "        vertical-align: middle;\n",
       "    }\n",
       "\n",
       "    .dataframe tbody tr th {\n",
       "        vertical-align: top;\n",
       "    }\n",
       "\n",
       "    .dataframe thead th {\n",
       "        text-align: right;\n",
       "    }\n",
       "</style>\n",
       "<table border=\"1\" class=\"dataframe\">\n",
       "  <thead>\n",
       "    <tr style=\"text-align: right;\">\n",
       "      <th></th>\n",
       "      <th>phone_url</th>\n",
       "      <th>date</th>\n",
       "      <th>lang</th>\n",
       "      <th>country</th>\n",
       "      <th>source</th>\n",
       "      <th>domain</th>\n",
       "      <th>score</th>\n",
       "      <th>score_max</th>\n",
       "      <th>extract</th>\n",
       "      <th>author</th>\n",
       "      <th>product</th>\n",
       "    </tr>\n",
       "  </thead>\n",
       "  <tbody>\n",
       "    <tr>\n",
       "      <th>0</th>\n",
       "      <td>/cellphones/samsung-galaxy-s8/</td>\n",
       "      <td>5/2/2017</td>\n",
       "      <td>en</td>\n",
       "      <td>us</td>\n",
       "      <td>Verizon Wireless</td>\n",
       "      <td>verizonwireless.com</td>\n",
       "      <td>10.0</td>\n",
       "      <td>10.0</td>\n",
       "      <td>As a diehard Samsung fan who has had every Sam...</td>\n",
       "      <td>CarolAnn35</td>\n",
       "      <td>Samsung Galaxy S8</td>\n",
       "    </tr>\n",
       "    <tr>\n",
       "      <th>1</th>\n",
       "      <td>/cellphones/samsung-galaxy-s8/</td>\n",
       "      <td>4/28/2017</td>\n",
       "      <td>en</td>\n",
       "      <td>us</td>\n",
       "      <td>Phone Arena</td>\n",
       "      <td>phonearena.com</td>\n",
       "      <td>10.0</td>\n",
       "      <td>10.0</td>\n",
       "      <td>Love the phone. the phone is sleek and smooth ...</td>\n",
       "      <td>james0923</td>\n",
       "      <td>Samsung Galaxy S8</td>\n",
       "    </tr>\n",
       "    <tr>\n",
       "      <th>2</th>\n",
       "      <td>/cellphones/samsung-galaxy-s8/</td>\n",
       "      <td>5/4/2017</td>\n",
       "      <td>en</td>\n",
       "      <td>us</td>\n",
       "      <td>Amazon</td>\n",
       "      <td>amazon.com</td>\n",
       "      <td>6.0</td>\n",
       "      <td>10.0</td>\n",
       "      <td>Adequate feel. Nice heft. Processor's still sl...</td>\n",
       "      <td>R. Craig</td>\n",
       "      <td>Samsung Galaxy S8 (64GB) G950U 5.8\" 4G LTE Unl...</td>\n",
       "    </tr>\n",
       "    <tr>\n",
       "      <th>3</th>\n",
       "      <td>/cellphones/samsung-galaxy-s8/</td>\n",
       "      <td>5/2/2017</td>\n",
       "      <td>en</td>\n",
       "      <td>us</td>\n",
       "      <td>Samsung</td>\n",
       "      <td>samsung.com</td>\n",
       "      <td>9.0</td>\n",
       "      <td>10.0</td>\n",
       "      <td>Never disappointed. One of the reasons I've be...</td>\n",
       "      <td>Buster2020</td>\n",
       "      <td>Samsung Galaxy S8 64GB (AT&amp;T)</td>\n",
       "    </tr>\n",
       "    <tr>\n",
       "      <th>4</th>\n",
       "      <td>/cellphones/samsung-galaxy-s8/</td>\n",
       "      <td>5/11/2017</td>\n",
       "      <td>en</td>\n",
       "      <td>us</td>\n",
       "      <td>Verizon Wireless</td>\n",
       "      <td>verizonwireless.com</td>\n",
       "      <td>4.0</td>\n",
       "      <td>10.0</td>\n",
       "      <td>I've now found that i'm in a group of people t...</td>\n",
       "      <td>S Ate Mine</td>\n",
       "      <td>Samsung Galaxy S8</td>\n",
       "    </tr>\n",
       "  </tbody>\n",
       "</table>\n",
       "</div>"
      ],
      "text/plain": [
       "                        phone_url       date lang country            source  \\\n",
       "0  /cellphones/samsung-galaxy-s8/   5/2/2017   en      us  Verizon Wireless   \n",
       "1  /cellphones/samsung-galaxy-s8/  4/28/2017   en      us       Phone Arena   \n",
       "2  /cellphones/samsung-galaxy-s8/   5/4/2017   en      us            Amazon   \n",
       "3  /cellphones/samsung-galaxy-s8/   5/2/2017   en      us           Samsung   \n",
       "4  /cellphones/samsung-galaxy-s8/  5/11/2017   en      us  Verizon Wireless   \n",
       "\n",
       "                domain  score  score_max  \\\n",
       "0  verizonwireless.com   10.0       10.0   \n",
       "1       phonearena.com   10.0       10.0   \n",
       "2           amazon.com    6.0       10.0   \n",
       "3          samsung.com    9.0       10.0   \n",
       "4  verizonwireless.com    4.0       10.0   \n",
       "\n",
       "                                             extract       author  \\\n",
       "0  As a diehard Samsung fan who has had every Sam...   CarolAnn35   \n",
       "1  Love the phone. the phone is sleek and smooth ...    james0923   \n",
       "2  Adequate feel. Nice heft. Processor's still sl...     R. Craig   \n",
       "3  Never disappointed. One of the reasons I've be...  Buster2020    \n",
       "4  I've now found that i'm in a group of people t...   S Ate Mine   \n",
       "\n",
       "                                             product  \n",
       "0                                  Samsung Galaxy S8  \n",
       "1                                  Samsung Galaxy S8  \n",
       "2  Samsung Galaxy S8 (64GB) G950U 5.8\" 4G LTE Unl...  \n",
       "3                      Samsung Galaxy S8 64GB (AT&T)  \n",
       "4                                  Samsung Galaxy S8  "
      ]
     },
     "execution_count": 43,
     "metadata": {},
     "output_type": "execute_result"
    }
   ],
   "source": [
    "merged_df_impute3.head()"
   ]
  },
  {
   "cell_type": "raw",
   "metadata": {},
   "source": [
    "From the above - \n",
    "phone_url is not significant to the data as it again contains duplicate info as model name with the cellphone \n",
    "Source explains from where the review has been taken and domain explains the website - so its better we keep anyone of it precisely dropping domain and keeping the source\n"
   ]
  },
  {
   "cell_type": "code",
   "execution_count": 44,
   "metadata": {},
   "outputs": [],
   "source": [
    "merged_df_impute3 = merged_df_impute3.drop(['domain', 'phone_url'], axis = 1) \n"
   ]
  },
  {
   "cell_type": "code",
   "execution_count": 45,
   "metadata": {},
   "outputs": [],
   "source": [
    "# • Keep only 1000000 data samples. Use random state=612.\n",
    "merged_df_impute3a = merged_df_impute3.copy()"
   ]
  },
  {
   "cell_type": "code",
   "execution_count": 46,
   "metadata": {},
   "outputs": [
    {
     "data": {
      "text/html": [
       "<div>\n",
       "<style scoped>\n",
       "    .dataframe tbody tr th:only-of-type {\n",
       "        vertical-align: middle;\n",
       "    }\n",
       "\n",
       "    .dataframe tbody tr th {\n",
       "        vertical-align: top;\n",
       "    }\n",
       "\n",
       "    .dataframe thead th {\n",
       "        text-align: right;\n",
       "    }\n",
       "</style>\n",
       "<table border=\"1\" class=\"dataframe\">\n",
       "  <thead>\n",
       "    <tr style=\"text-align: right;\">\n",
       "      <th></th>\n",
       "      <th>date</th>\n",
       "      <th>lang</th>\n",
       "      <th>country</th>\n",
       "      <th>source</th>\n",
       "      <th>score</th>\n",
       "      <th>score_max</th>\n",
       "      <th>extract</th>\n",
       "      <th>author</th>\n",
       "      <th>product</th>\n",
       "    </tr>\n",
       "  </thead>\n",
       "  <tbody>\n",
       "    <tr>\n",
       "      <th>0</th>\n",
       "      <td>5/2/2017</td>\n",
       "      <td>en</td>\n",
       "      <td>us</td>\n",
       "      <td>Verizon Wireless</td>\n",
       "      <td>10.0</td>\n",
       "      <td>10.0</td>\n",
       "      <td>As a diehard Samsung fan who has had every Sam...</td>\n",
       "      <td>CarolAnn35</td>\n",
       "      <td>Samsung Galaxy S8</td>\n",
       "    </tr>\n",
       "    <tr>\n",
       "      <th>1</th>\n",
       "      <td>4/28/2017</td>\n",
       "      <td>en</td>\n",
       "      <td>us</td>\n",
       "      <td>Phone Arena</td>\n",
       "      <td>10.0</td>\n",
       "      <td>10.0</td>\n",
       "      <td>Love the phone. the phone is sleek and smooth ...</td>\n",
       "      <td>james0923</td>\n",
       "      <td>Samsung Galaxy S8</td>\n",
       "    </tr>\n",
       "    <tr>\n",
       "      <th>2</th>\n",
       "      <td>5/4/2017</td>\n",
       "      <td>en</td>\n",
       "      <td>us</td>\n",
       "      <td>Amazon</td>\n",
       "      <td>6.0</td>\n",
       "      <td>10.0</td>\n",
       "      <td>Adequate feel. Nice heft. Processor's still sl...</td>\n",
       "      <td>R. Craig</td>\n",
       "      <td>Samsung Galaxy S8 (64GB) G950U 5.8\" 4G LTE Unl...</td>\n",
       "    </tr>\n",
       "    <tr>\n",
       "      <th>3</th>\n",
       "      <td>5/2/2017</td>\n",
       "      <td>en</td>\n",
       "      <td>us</td>\n",
       "      <td>Samsung</td>\n",
       "      <td>9.0</td>\n",
       "      <td>10.0</td>\n",
       "      <td>Never disappointed. One of the reasons I've be...</td>\n",
       "      <td>Buster2020</td>\n",
       "      <td>Samsung Galaxy S8 64GB (AT&amp;T)</td>\n",
       "    </tr>\n",
       "    <tr>\n",
       "      <th>4</th>\n",
       "      <td>5/11/2017</td>\n",
       "      <td>en</td>\n",
       "      <td>us</td>\n",
       "      <td>Verizon Wireless</td>\n",
       "      <td>4.0</td>\n",
       "      <td>10.0</td>\n",
       "      <td>I've now found that i'm in a group of people t...</td>\n",
       "      <td>S Ate Mine</td>\n",
       "      <td>Samsung Galaxy S8</td>\n",
       "    </tr>\n",
       "  </tbody>\n",
       "</table>\n",
       "</div>"
      ],
      "text/plain": [
       "        date lang country            source  score  score_max  \\\n",
       "0   5/2/2017   en      us  Verizon Wireless   10.0       10.0   \n",
       "1  4/28/2017   en      us       Phone Arena   10.0       10.0   \n",
       "2   5/4/2017   en      us            Amazon    6.0       10.0   \n",
       "3   5/2/2017   en      us           Samsung    9.0       10.0   \n",
       "4  5/11/2017   en      us  Verizon Wireless    4.0       10.0   \n",
       "\n",
       "                                             extract       author  \\\n",
       "0  As a diehard Samsung fan who has had every Sam...   CarolAnn35   \n",
       "1  Love the phone. the phone is sleek and smooth ...    james0923   \n",
       "2  Adequate feel. Nice heft. Processor's still sl...     R. Craig   \n",
       "3  Never disappointed. One of the reasons I've be...  Buster2020    \n",
       "4  I've now found that i'm in a group of people t...   S Ate Mine   \n",
       "\n",
       "                                             product  \n",
       "0                                  Samsung Galaxy S8  \n",
       "1                                  Samsung Galaxy S8  \n",
       "2  Samsung Galaxy S8 (64GB) G950U 5.8\" 4G LTE Unl...  \n",
       "3                      Samsung Galaxy S8 64GB (AT&T)  \n",
       "4                                  Samsung Galaxy S8  "
      ]
     },
     "execution_count": 46,
     "metadata": {},
     "output_type": "execute_result"
    }
   ],
   "source": [
    "merged_df_impute3a.head()"
   ]
  },
  {
   "cell_type": "code",
   "execution_count": 47,
   "metadata": {},
   "outputs": [],
   "source": [
    "merged_df_impute3a = merged_df_impute3a.sample(n=1000000, random_state = 612)"
   ]
  },
  {
   "cell_type": "code",
   "execution_count": 48,
   "metadata": {},
   "outputs": [
    {
     "data": {
      "text/plain": [
       "(1000000, 9)"
      ]
     },
     "execution_count": 48,
     "metadata": {},
     "output_type": "execute_result"
    }
   ],
   "source": [
    "merged_df_impute3a.shape"
   ]
  },
  {
   "cell_type": "code",
   "execution_count": 49,
   "metadata": {},
   "outputs": [
    {
     "data": {
      "text/html": [
       "<div>\n",
       "<style scoped>\n",
       "    .dataframe tbody tr th:only-of-type {\n",
       "        vertical-align: middle;\n",
       "    }\n",
       "\n",
       "    .dataframe tbody tr th {\n",
       "        vertical-align: top;\n",
       "    }\n",
       "\n",
       "    .dataframe thead th {\n",
       "        text-align: right;\n",
       "    }\n",
       "</style>\n",
       "<table border=\"1\" class=\"dataframe\">\n",
       "  <thead>\n",
       "    <tr style=\"text-align: right;\">\n",
       "      <th></th>\n",
       "      <th>date</th>\n",
       "      <th>lang</th>\n",
       "      <th>country</th>\n",
       "      <th>source</th>\n",
       "      <th>score</th>\n",
       "      <th>score_max</th>\n",
       "      <th>extract</th>\n",
       "      <th>author</th>\n",
       "      <th>product</th>\n",
       "    </tr>\n",
       "  </thead>\n",
       "  <tbody>\n",
       "    <tr>\n",
       "      <th>52717</th>\n",
       "      <td>3/31/2014</td>\n",
       "      <td>ru</td>\n",
       "      <td>ru</td>\n",
       "      <td>Yandex</td>\n",
       "      <td>8.0</td>\n",
       "      <td>10.0</td>\n",
       "      <td>Ничего сверх крутого в apple для себя не откры...</td>\n",
       "      <td>Гундарев Сергей</td>\n",
       "      <td>Apple iPhone 5S 32Gb</td>\n",
       "    </tr>\n",
       "    <tr>\n",
       "      <th>233874</th>\n",
       "      <td>9/11/2016</td>\n",
       "      <td>de</td>\n",
       "      <td>de</td>\n",
       "      <td>Amazon</td>\n",
       "      <td>10.0</td>\n",
       "      <td>10.0</td>\n",
       "      <td>Handy ladet nur wenn ich Akku herausnehme wie ...</td>\n",
       "      <td>Rosemarie Boeshans</td>\n",
       "      <td>Samsung Galaxy S3 mini I8190 Smartphone (10,2 ...</td>\n",
       "    </tr>\n",
       "    <tr>\n",
       "      <th>171116</th>\n",
       "      <td>5/28/2015</td>\n",
       "      <td>it</td>\n",
       "      <td>it</td>\n",
       "      <td>Amazon</td>\n",
       "      <td>10.0</td>\n",
       "      <td>10.0</td>\n",
       "      <td>Ottimo prodotto, a questo prezzo non esiste ni...</td>\n",
       "      <td>Federico Minetti</td>\n",
       "      <td>Honor 4X Smartphone 4G, Display 5.5 Pollici, P...</td>\n",
       "    </tr>\n",
       "    <tr>\n",
       "      <th>18964</th>\n",
       "      <td>8/6/2016</td>\n",
       "      <td>pt</td>\n",
       "      <td>br</td>\n",
       "      <td>Kabum</td>\n",
       "      <td>10.0</td>\n",
       "      <td>10.0</td>\n",
       "      <td>Òtima relação custo benefício.</td>\n",
       "      <td>Eugênio</td>\n",
       "      <td>Smartphone Samsung Galaxy J1 Mini Duos SM-J105...</td>\n",
       "    </tr>\n",
       "    <tr>\n",
       "      <th>53871</th>\n",
       "      <td>28/6/2012</td>\n",
       "      <td>en</td>\n",
       "      <td>us</td>\n",
       "      <td>Amazon</td>\n",
       "      <td>2.0</td>\n",
       "      <td>10.0</td>\n",
       "      <td>The phone that they send to you not correspond...</td>\n",
       "      <td>davisdev</td>\n",
       "      <td>HTC One X Unlocked Gsm Phone, 16GB, Gray</td>\n",
       "    </tr>\n",
       "  </tbody>\n",
       "</table>\n",
       "</div>"
      ],
      "text/plain": [
       "             date lang country  source  score  score_max  \\\n",
       "52717   3/31/2014   ru      ru  Yandex    8.0       10.0   \n",
       "233874  9/11/2016   de      de  Amazon   10.0       10.0   \n",
       "171116  5/28/2015   it      it  Amazon   10.0       10.0   \n",
       "18964    8/6/2016   pt      br   Kabum   10.0       10.0   \n",
       "53871   28/6/2012   en      us  Amazon    2.0       10.0   \n",
       "\n",
       "                                                  extract              author  \\\n",
       "52717   Ничего сверх крутого в apple для себя не откры...     Гундарев Сергей   \n",
       "233874  Handy ladet nur wenn ich Akku herausnehme wie ...  Rosemarie Boeshans   \n",
       "171116  Ottimo prodotto, a questo prezzo non esiste ni...    Federico Minetti   \n",
       "18964                      Òtima relação custo benefício.             Eugênio   \n",
       "53871   The phone that they send to you not correspond...            davisdev   \n",
       "\n",
       "                                                  product  \n",
       "52717                                Apple iPhone 5S 32Gb  \n",
       "233874  Samsung Galaxy S3 mini I8190 Smartphone (10,2 ...  \n",
       "171116  Honor 4X Smartphone 4G, Display 5.5 Pollici, P...  \n",
       "18964   Smartphone Samsung Galaxy J1 Mini Duos SM-J105...  \n",
       "53871            HTC One X Unlocked Gsm Phone, 16GB, Gray  "
      ]
     },
     "execution_count": 49,
     "metadata": {},
     "output_type": "execute_result"
    }
   ],
   "source": [
    "merged_df_impute3a.head()"
   ]
  },
  {
   "cell_type": "code",
   "execution_count": 50,
   "metadata": {},
   "outputs": [],
   "source": [
    "# # we will use imputation technique MICE since score is a significant attribute for this recommendation system\n",
    "\n",
    "# import miceforest as mf\n",
    "\n",
    "# merged_df_impute4 = mf.ampute_data(merged_df_impute3,perc=0.25,random_state=1991)\n",
    "\n",
    "# # Create kernels. \n",
    "# kernel = mf.MultipleImputedKernel(\n",
    "#   data=merged_df_impute4,\n",
    "#   save_all_iterations=True,\n",
    "#   random_state=1991\n",
    "# )\n",
    "\n",
    "# # Run the MICE algorithm for 3 iterations on each of the datasets\n",
    "# kernel.mice(3,verbose=True)"
   ]
  },
  {
   "cell_type": "code",
   "execution_count": 51,
   "metadata": {},
   "outputs": [],
   "source": [
    "# kernel.plot_correlations(wspace=0.4,hspace=0.5)"
   ]
  },
  {
   "cell_type": "code",
   "execution_count": 52,
   "metadata": {},
   "outputs": [
    {
     "data": {
      "text/html": [
       "<div>\n",
       "<style scoped>\n",
       "    .dataframe tbody tr th:only-of-type {\n",
       "        vertical-align: middle;\n",
       "    }\n",
       "\n",
       "    .dataframe tbody tr th {\n",
       "        vertical-align: top;\n",
       "    }\n",
       "\n",
       "    .dataframe thead th {\n",
       "        text-align: right;\n",
       "    }\n",
       "</style>\n",
       "<table border=\"1\" class=\"dataframe\">\n",
       "  <thead>\n",
       "    <tr style=\"text-align: right;\">\n",
       "      <th></th>\n",
       "      <th>date</th>\n",
       "      <th>lang</th>\n",
       "      <th>country</th>\n",
       "      <th>source</th>\n",
       "      <th>score</th>\n",
       "      <th>score_max</th>\n",
       "      <th>extract</th>\n",
       "      <th>author</th>\n",
       "      <th>product</th>\n",
       "    </tr>\n",
       "  </thead>\n",
       "  <tbody>\n",
       "    <tr>\n",
       "      <th>52717</th>\n",
       "      <td>3/31/2014</td>\n",
       "      <td>ru</td>\n",
       "      <td>ru</td>\n",
       "      <td>Yandex</td>\n",
       "      <td>8.0</td>\n",
       "      <td>10.0</td>\n",
       "      <td>Ничего сверх крутого в apple для себя не откры...</td>\n",
       "      <td>Гундарев Сергей</td>\n",
       "      <td>Apple iPhone 5S 32Gb</td>\n",
       "    </tr>\n",
       "    <tr>\n",
       "      <th>233874</th>\n",
       "      <td>9/11/2016</td>\n",
       "      <td>de</td>\n",
       "      <td>de</td>\n",
       "      <td>Amazon</td>\n",
       "      <td>10.0</td>\n",
       "      <td>10.0</td>\n",
       "      <td>Handy ladet nur wenn ich Akku herausnehme wie ...</td>\n",
       "      <td>Rosemarie Boeshans</td>\n",
       "      <td>Samsung Galaxy S3 mini I8190 Smartphone (10,2 ...</td>\n",
       "    </tr>\n",
       "    <tr>\n",
       "      <th>171116</th>\n",
       "      <td>5/28/2015</td>\n",
       "      <td>it</td>\n",
       "      <td>it</td>\n",
       "      <td>Amazon</td>\n",
       "      <td>10.0</td>\n",
       "      <td>10.0</td>\n",
       "      <td>Ottimo prodotto, a questo prezzo non esiste ni...</td>\n",
       "      <td>Federico Minetti</td>\n",
       "      <td>Honor 4X Smartphone 4G, Display 5.5 Pollici, P...</td>\n",
       "    </tr>\n",
       "    <tr>\n",
       "      <th>18964</th>\n",
       "      <td>8/6/2016</td>\n",
       "      <td>pt</td>\n",
       "      <td>br</td>\n",
       "      <td>Kabum</td>\n",
       "      <td>10.0</td>\n",
       "      <td>10.0</td>\n",
       "      <td>Òtima relação custo benefício.</td>\n",
       "      <td>Eugênio</td>\n",
       "      <td>Smartphone Samsung Galaxy J1 Mini Duos SM-J105...</td>\n",
       "    </tr>\n",
       "    <tr>\n",
       "      <th>53871</th>\n",
       "      <td>28/6/2012</td>\n",
       "      <td>en</td>\n",
       "      <td>us</td>\n",
       "      <td>Amazon</td>\n",
       "      <td>2.0</td>\n",
       "      <td>10.0</td>\n",
       "      <td>The phone that they send to you not correspond...</td>\n",
       "      <td>davisdev</td>\n",
       "      <td>HTC One X Unlocked Gsm Phone, 16GB, Gray</td>\n",
       "    </tr>\n",
       "  </tbody>\n",
       "</table>\n",
       "</div>"
      ],
      "text/plain": [
       "             date lang country  source  score  score_max  \\\n",
       "52717   3/31/2014   ru      ru  Yandex    8.0       10.0   \n",
       "233874  9/11/2016   de      de  Amazon   10.0       10.0   \n",
       "171116  5/28/2015   it      it  Amazon   10.0       10.0   \n",
       "18964    8/6/2016   pt      br   Kabum   10.0       10.0   \n",
       "53871   28/6/2012   en      us  Amazon    2.0       10.0   \n",
       "\n",
       "                                                  extract              author  \\\n",
       "52717   Ничего сверх крутого в apple для себя не откры...     Гундарев Сергей   \n",
       "233874  Handy ladet nur wenn ich Akku herausnehme wie ...  Rosemarie Boeshans   \n",
       "171116  Ottimo prodotto, a questo prezzo non esiste ni...    Federico Minetti   \n",
       "18964                      Òtima relação custo benefício.             Eugênio   \n",
       "53871   The phone that they send to you not correspond...            davisdev   \n",
       "\n",
       "                                                  product  \n",
       "52717                                Apple iPhone 5S 32Gb  \n",
       "233874  Samsung Galaxy S3 mini I8190 Smartphone (10,2 ...  \n",
       "171116  Honor 4X Smartphone 4G, Display 5.5 Pollici, P...  \n",
       "18964   Smartphone Samsung Galaxy J1 Mini Duos SM-J105...  \n",
       "53871            HTC One X Unlocked Gsm Phone, 16GB, Gray  "
      ]
     },
     "execution_count": 52,
     "metadata": {},
     "output_type": "execute_result"
    }
   ],
   "source": [
    "merged_df_impute3a.head()"
   ]
  },
  {
   "cell_type": "code",
   "execution_count": 53,
   "metadata": {},
   "outputs": [
    {
     "name": "stdout",
     "output_type": "stream",
     "text": [
      "product\n",
      "Samsung E1200i Keystone 2 Mobile Phone (Vodafone Pay as you go, Black)      10.0\n",
      "Sony Ericsson CS8                                                           10.0\n",
      "Samsung Galaxy Note 5 Duos                                                  10.0\n",
      "LG K4 Branco Dual Chip Android 5.1 Lollipop 4G Wi-Fi Quad Core Tela 4.5\"    10.0\n",
      "Samsung Galaxy Note 5 Duos 32Gb                                             10.0\n",
      "Name: score, dtype: float64\n"
     ]
    }
   ],
   "source": [
    "# Lets find some insights in data\n",
    "\n",
    "# Identify the most rated features of a mobile phone.\n",
    "most_rated_phones = []\n",
    "most_rated_phones = merged_df_impute3a.groupby('product')['score'].mean().sort_values(ascending=False).head()  \n",
    "print (most_rated_phones)"
   ]
  },
  {
   "cell_type": "code",
   "execution_count": 54,
   "metadata": {},
   "outputs": [
    {
     "name": "stdout",
     "output_type": "stream",
     "text": [
      "author\n",
      "��������� X�� �������_���������_������'m �����������...�������3 ������ ����'    10.0\n",
      "OlgaMax66                                                                       10.0\n",
      "Olga1                                                                           10.0\n",
      "Olga280384                                                                      10.0\n",
      "Olga37                                                                          10.0\n",
      "Name: score, dtype: float64\n"
     ]
    }
   ],
   "source": [
    "# Identify the users with most number of reviews.\n",
    "most_rated_user = []\n",
    "most_rated_user = merged_df_impute3a.groupby('author')['score'].mean().sort_values(ascending=False).head()\n",
    "print (most_rated_user)"
   ]
  },
  {
   "cell_type": "code",
   "execution_count": 55,
   "metadata": {},
   "outputs": [
    {
     "data": {
      "text/html": [
       "<div>\n",
       "<style scoped>\n",
       "    .dataframe tbody tr th:only-of-type {\n",
       "        vertical-align: middle;\n",
       "    }\n",
       "\n",
       "    .dataframe tbody tr th {\n",
       "        vertical-align: top;\n",
       "    }\n",
       "\n",
       "    .dataframe thead th {\n",
       "        text-align: right;\n",
       "    }\n",
       "</style>\n",
       "<table border=\"1\" class=\"dataframe\">\n",
       "  <thead>\n",
       "    <tr style=\"text-align: right;\">\n",
       "      <th></th>\n",
       "      <th>score</th>\n",
       "      <th>rating_counts</th>\n",
       "    </tr>\n",
       "    <tr>\n",
       "      <th>product</th>\n",
       "      <th></th>\n",
       "      <th></th>\n",
       "    </tr>\n",
       "  </thead>\n",
       "  <tbody>\n",
       "    <tr>\n",
       "      <th>'Smartphone Meizu Pro 5, 5,7 pouces avec Exynos 7420 Octa 8 Core Processeur. mémoire RAM 4 Go et 64 Go mémoire...</th>\n",
       "      <td>8.000000</td>\n",
       "      <td>1</td>\n",
       "    </tr>\n",
       "    <tr>\n",
       "      <th>'Sony Xperia X (F5122) – rosa – Dual Sim (Google Android 6.0.1, 5 Display, 2 x CORTEX A72 1.8 GHz + 4 x cortex-a53...</th>\n",
       "      <td>10.000000</td>\n",
       "      <td>1</td>\n",
       "    </tr>\n",
       "    <tr>\n",
       "      <th>(CUBOT) GT88 5.5\" qHD 1.3GHz MTK6572 2-Core Android 4.2.2 3G Phone 8MP CAM 512MB RAM 4GB ROM</th>\n",
       "      <td>8.000000</td>\n",
       "      <td>1</td>\n",
       "    </tr>\n",
       "    <tr>\n",
       "      <th>(DG300 Versione Aggiornata)5'' DOOGEE VOYAGER2 DG310 Dual Flashlights IPS Screen 3G Smartphone Android 4.4 MTK6582 1.3GHz Quad Core Telefono Cellulare Dual SIM 8G ROM OTG OTA GPS WIFI, BIANCO</th>\n",
       "      <td>7.529412</td>\n",
       "      <td>34</td>\n",
       "    </tr>\n",
       "    <tr>\n",
       "      <th>(Part 2) Lenovo VIBE X2</th>\n",
       "      <td>8.009546</td>\n",
       "      <td>1</td>\n",
       "    </tr>\n",
       "  </tbody>\n",
       "</table>\n",
       "</div>"
      ],
      "text/plain": [
       "                                                        score  rating_counts\n",
       "product                                                                     \n",
       "'Smartphone Meizu Pro 5, 5,7 pouces avec Exynos...   8.000000              1\n",
       "'Sony Xperia X (F5122) – rosa – Dual Sim (Googl...  10.000000              1\n",
       "(CUBOT) GT88 5.5\" qHD 1.3GHz MTK6572 2-Core And...   8.000000              1\n",
       "(DG300 Versione Aggiornata)5'' DOOGEE VOYAGER2 ...   7.529412             34\n",
       "(Part 2) Lenovo VIBE X2                              8.009546              1"
      ]
     },
     "execution_count": 55,
     "metadata": {},
     "output_type": "execute_result"
    }
   ],
   "source": [
    "# Select the data with products having more than 50 ratings and users who have given more than 50 ratings. Report the shape of the finaldataset.\n",
    "# Products with > 50 ratings\n",
    "# Users given > 50 ratings\n",
    "ratings_mean_count = pd.DataFrame(merged_df_impute3a.groupby('product')['score'].mean())\n",
    "ratings_mean_count['rating_counts'] = pd.DataFrame(merged_df_impute3a.groupby('product')['score'].count())\n",
    "ratings_mean_count.head()\n"
   ]
  },
  {
   "cell_type": "code",
   "execution_count": 56,
   "metadata": {},
   "outputs": [
    {
     "name": "stdout",
     "output_type": "stream",
     "text": [
      "                                                       score  rating_counts\n",
      "product                                                                    \n",
      "Lenovo Vibe K4 Note (White,16GB)                    7.188005           3835\n",
      "Lenovo Vibe K4 Note (Black, 16GB)                   7.206718           3275\n",
      "OnePlus 3 (Graphite, 64 GB)                         8.720052           3097\n",
      "OnePlus 3 (Soft Gold, 64 GB)                        8.502806           2673\n",
      "Samsung Galaxy Express I8730                        8.239654           1989\n",
      "...                                                      ...            ...\n",
      "Lenovo P700i                                        7.725490             51\n",
      "BlackBerry 9100 Pearl 3G Unlocked Phone with 3 ...  7.607843             51\n",
      "Lenovo Motorola RAZR i Smartphone (10,9 cm (4,3...  8.078431             51\n",
      "Nokia X3-02 Touch and Type                          7.686275             51\n",
      "Nokia E65 Symbian OS 9.1 / Series 60 3rd Edition    7.725490             51\n",
      "\n",
      "[4357 rows x 2 columns]\n"
     ]
    }
   ],
   "source": [
    "ratings_mean_count1 = pd.DataFrame(ratings_mean_count.loc[ratings_mean_count['rating_counts'] > 50])\n",
    "ratings_gt_50 = ratings_mean_count1.sort_values(by='rating_counts',ascending=False)\n",
    "print(ratings_gt_50)"
   ]
  },
  {
   "cell_type": "code",
   "execution_count": 57,
   "metadata": {},
   "outputs": [
    {
     "data": {
      "image/png": "[encoded data removed]",
      "text/plain": [
       "<Figure size 576x288 with 1 Axes>"
      ]
     },
     "metadata": {
      "needs_background": "light"
     },
     "output_type": "display_data"
    }
   ],
   "source": [
    "\n",
    "no_of_ratings_per_product = ratings_gt_50.groupby(by='product')['rating_counts'].count().sort_values(ascending=False)\n",
    "\n",
    "fig = plt.figure(figsize=plt.figaspect(.5))\n",
    "ax = plt.gca()\n",
    "plt.plot(no_of_ratings_per_product.values)\n",
    "plt.title('# RATINGS per Product')\n",
    "plt.xlabel('Product')\n",
    "plt.ylabel('No of ratings per product')\n",
    "ax.set_xticklabels([])\n",
    "\n",
    "plt.show()"
   ]
  },
  {
   "cell_type": "code",
   "execution_count": 58,
   "metadata": {},
   "outputs": [
    {
     "data": {
      "text/plain": [
       "product\n",
       "טלפון סלולרי Xiaomi Redmi Note 3 Pro 32GB                                                                                       1\n",
       "LG Optimus L5 Dual E615                                                                                                         1\n",
       "LG Optimus G Pro E988                                                                                                           1\n",
       "LG Optimus Hub                                                                                                                  1\n",
       "LG Optimus L3 E400                                                                                                              1\n",
       "                                                                                                                               ..\n",
       "Samsung Galaxy Grand Prime Smartphone débloqué 4G (Ecran : 5 pouces - 8 Go - Simple MicroSIM - Android 5.1 Lollipop) Gris       1\n",
       "Samsung Galaxy Grand Prime SM-G530H (Grey, 8GB)                                                                                 1\n",
       "Samsung Galaxy Grand Prime G531H/DS International Version Unlocked Cellphone, Retail Packaging, Gray (International Version)    1\n",
       "Samsung Galaxy Grand Prime Dual Sim Factory Unlocked Phone - Retail Packaging - Gold(International Version)                     1\n",
       "3100 / 3120                                                                                                                     1\n",
       "Name: rating_counts, Length: 4357, dtype: int64"
      ]
     },
     "execution_count": 58,
     "metadata": {},
     "output_type": "execute_result"
    }
   ],
   "source": [
    "no_of_ratings_per_product"
   ]
  },
  {
   "cell_type": "code",
   "execution_count": 59,
   "metadata": {},
   "outputs": [
    {
     "data": {
      "text/plain": [
       "array([[<AxesSubplot:title={'center':'rating_counts'}>]], dtype=object)"
      ]
     },
     "execution_count": 59,
     "metadata": {},
     "output_type": "execute_result"
    },
    {
     "data": {
      "image/png": "[encoded data removed]",
      "text/plain": [
       "<Figure size 864x576 with 1 Axes>"
      ]
     },
     "metadata": {
      "needs_background": "light"
     },
     "output_type": "display_data"
    }
   ],
   "source": [
    "# Shape of the data\n",
    "ratings_gt_50.hist(column = 'rating_counts', range=(50,3900) , bins=25, grid=False, figsize=(12,8), color='#86bf91', zorder=2, rwidth=0.9)\n",
    "# plt.xticks(np.arange(0, 4000, 100))"
   ]
  },
  {
   "cell_type": "code",
   "execution_count": 60,
   "metadata": {},
   "outputs": [
    {
     "data": {
      "text/plain": [
       "count    1000000.000000\n",
       "mean           8.009720\n",
       "std            2.563093\n",
       "min            0.000000\n",
       "25%            8.000000\n",
       "50%            9.000000\n",
       "75%           10.000000\n",
       "max           10.000000\n",
       "Name: score, dtype: float64"
      ]
     },
     "execution_count": 60,
     "metadata": {},
     "output_type": "execute_result"
    }
   ],
   "source": [
    "merged_df_impute3a.describe()['score'].T"
   ]
  },
  {
   "cell_type": "code",
   "execution_count": 61,
   "metadata": {},
   "outputs": [
    {
     "name": "stdout",
     "output_type": "stream",
     "text": [
      "Minimum rating is: 0\n",
      "Maximum rating is: 10\n"
     ]
    }
   ],
   "source": [
    "#Find the minimum and maximum ratings\n",
    "print('Minimum rating is: %d' %(merged_df_impute3a.score.min()))\n",
    "print('Maximum rating is: %d' %(merged_df_impute3a.score.max()))"
   ]
  },
  {
   "cell_type": "code",
   "execution_count": 62,
   "metadata": {},
   "outputs": [
    {
     "name": "stderr",
     "output_type": "stream",
     "text": [
      "/Users/kishorekumarg/opt/anaconda3/lib/python3.7/site-packages/seaborn/categorical.py:3714: UserWarning: The `factorplot` function has been renamed to `catplot`. The original name will be removed in a future release. Please update your code. Note that the default `kind` in `factorplot` (`'point'`) has changed `'strip'` in `catplot`.\n",
      "  warnings.warn(msg)\n",
      "/Users/kishorekumarg/opt/anaconda3/lib/python3.7/site-packages/seaborn/_decorators.py:43: FutureWarning: Pass the following variable as a keyword arg: x. From version 0.12, the only valid positional argument will be `data`, and passing other arguments without an explicit keyword will result in an error or misinterpretation.\n",
      "  FutureWarning\n"
     ]
    },
    {
     "data": {
      "image/png": "[encoded data removed]",
      "text/plain": [
       "<Figure size 720x360 with 1 Axes>"
      ]
     },
     "metadata": {},
     "output_type": "display_data"
    }
   ],
   "source": [
    "# Check the distribution of the rating\n",
    "with sns.axes_style('white'):\n",
    "    g = sns.factorplot(\"score\", data=merged_df_impute3a, aspect=2.0,kind='count')\n",
    "    g.set_ylabels(\"Total number of ratings\")"
   ]
  },
  {
   "cell_type": "code",
   "execution_count": 63,
   "metadata": {},
   "outputs": [
    {
     "name": "stdout",
     "output_type": "stream",
     "text": [
      "Total data \n",
      "--------------------------------------------------\n",
      "\n",
      "Total no of ratings : 1000000\n",
      "Total No of Users   : 618293\n",
      "Total No of products  : 1\n"
     ]
    }
   ],
   "source": [
    "print(\"Total data \")\n",
    "print(\"-\"*50)\n",
    "print(\"\\nTotal no of ratings :\",merged_df_impute3a.shape[0])\n",
    "print(\"Total No of Users   :\", len(np.unique(merged_df_impute3a.author)))\n",
    "print(\"Total No of products  :\", len(np.unique(merged_df_impute3a.product)))"
   ]
  },
  {
   "cell_type": "code",
   "execution_count": 64,
   "metadata": {},
   "outputs": [
    {
     "data": {
      "text/plain": [
       "author\n",
       "Amazon Customer    57577\n",
       "Cliente Amazon     14452\n",
       "e-bit               6498\n",
       "Client d'Amazon     5804\n",
       "Amazon Kunde        3532\n",
       "Name: score, dtype: int64"
      ]
     },
     "execution_count": 64,
     "metadata": {},
     "output_type": "execute_result"
    }
   ],
   "source": [
    "#Analysis of rating given by the user \n",
    "\n",
    "no_of_rated_products_per_user = merged_df_impute3a.groupby(by='author')['score'].count().sort_values(ascending=False)\n",
    "\n",
    "no_of_rated_products_per_user.head()"
   ]
  },
  {
   "cell_type": "code",
   "execution_count": 65,
   "metadata": {},
   "outputs": [
    {
     "data": {
      "text/plain": [
       "count    618293.000000\n",
       "mean          1.617356\n",
       "std          76.764472\n",
       "min           1.000000\n",
       "25%           1.000000\n",
       "50%           1.000000\n",
       "75%           1.000000\n",
       "max       57577.000000\n",
       "Name: score, dtype: float64"
      ]
     },
     "execution_count": 65,
     "metadata": {},
     "output_type": "execute_result"
    }
   ],
   "source": [
    "no_of_rated_products_per_user.describe()"
   ]
  },
  {
   "cell_type": "code",
   "execution_count": 66,
   "metadata": {},
   "outputs": [],
   "source": [
    "quantiles = no_of_rated_products_per_user.quantile(np.arange(0,1.01,0.01), interpolation='higher')"
   ]
  },
  {
   "cell_type": "code",
   "execution_count": 67,
   "metadata": {},
   "outputs": [
    {
     "data": {
      "image/png": "[encoded data removed]",
      "text/plain": [
       "<Figure size 720x720 with 1 Axes>"
      ]
     },
     "metadata": {
      "needs_background": "light"
     },
     "output_type": "display_data"
    }
   ],
   "source": [
    "plt.figure(figsize=(10,10))\n",
    "plt.title(\"Quantiles and their Values\")\n",
    "quantiles.plot()\n",
    "# quantiles with 0.05 difference\n",
    "plt.scatter(x=quantiles.index[::5], y=quantiles.values[::5], c='orange', label=\"quantiles with 0.05 intervals\")\n",
    "# quantiles with 0.25 difference\n",
    "plt.scatter(x=quantiles.index[::25], y=quantiles.values[::25], c='m', label = \"quantiles with 0.25 intervals\")\n",
    "plt.ylabel('No of ratings by user')\n",
    "plt.xlabel('Value at the quantile')\n",
    "plt.legend(loc='best')\n",
    "plt.show()"
   ]
  },
  {
   "cell_type": "code",
   "execution_count": 68,
   "metadata": {},
   "outputs": [
    {
     "name": "stdout",
     "output_type": "stream",
     "text": [
      "\n",
      " No of rated product more than 50 per user : 697\n",
      "\n"
     ]
    }
   ],
   "source": [
    "print('\\n No of rated product more than 50 per user : {}\\n'.format(sum(no_of_rated_products_per_user >= 50)) )"
   ]
  },
  {
   "cell_type": "code",
   "execution_count": 69,
   "metadata": {},
   "outputs": [
    {
     "data": {
      "image/png": "[encoded data removed]",
      "text/plain": [
       "<Figure size 576x288 with 1 Axes>"
      ]
     },
     "metadata": {
      "needs_background": "light"
     },
     "output_type": "display_data"
    }
   ],
   "source": [
    "# Build a popularity based model and recommend top 5 mobile phones.\n",
    "#Getting the new dataframe which contains users who has given 50 or more ratings\n",
    "\n",
    "new_df=merged_df_impute3a.groupby(\"product\").filter(lambda x:x['score'].count() >=50)\n",
    "\n",
    "no_of_ratings_per_product = new_df.groupby(by='product')['score'].count().sort_values(ascending=False)\n",
    "\n",
    "fig = plt.figure(figsize=plt.figaspect(.5))\n",
    "ax = plt.gca()\n",
    "plt.plot(no_of_ratings_per_product.values)\n",
    "plt.title('# RATINGS per Product')\n",
    "plt.xlabel('Product')\n",
    "plt.ylabel('No of ratings per product')\n",
    "ax.set_xticklabels([])\n",
    "\n",
    "plt.show()"
   ]
  },
  {
   "cell_type": "code",
   "execution_count": 70,
   "metadata": {},
   "outputs": [
    {
     "data": {
      "text/plain": [
       "product\n",
       "3100 / 3120                                                                                                                                            7.684378\n",
       "3220                                                                                                                                                   8.557876\n",
       "5.5-Inch Unlocked Lenovo A850 3G Smartphone-(960x540) Quad Core 4GB MT6582m 1331MHz Android 4.2 Dual Camera +Dual SIM -Black (Rooted + Google Play)    6.987654\n",
       "6126 / 6131 / 6133                                                                                                                                     7.971519\n",
       "6682 / 6681                                                                                                                                            8.559646\n",
       "Name: score, dtype: float64"
      ]
     },
     "execution_count": 70,
     "metadata": {},
     "output_type": "execute_result"
    }
   ],
   "source": [
    "#Average rating of the product \n",
    "\n",
    "new_df.groupby('product')['score'].mean().head()"
   ]
  },
  {
   "cell_type": "code",
   "execution_count": 71,
   "metadata": {},
   "outputs": [
    {
     "data": {
      "text/plain": [
       "product\n",
       "Motorola Smartphone Motorola Moto X Desbloqueado Preto Android 4.2.2 Câmera 10MP e Frontal 2MP Memória Interna de 16GB GSM                       10.0\n",
       "Samsung Smartphone Galaxy Win Duos Branco Desbloqueado Dual Chip Câmera 5MP Processador Quad Core 1.2 Ghz Android 4.1 3G Wi- Fi e Memória 8GB    10.0\n",
       "Apple iPhone 4S Branco 8GB - Apple                                                                                                               10.0\n",
       "Motorola Smartphone Motorola Novo Moto G DTV Colors Dual Chip XT 1069 Desbloqueado Android 4.4 Tela 5 16GB 3G Wi-Fi Câmera de 8MP - Preto        10.0\n",
       "Nokia Smartphone Nokia Lumia 520 Desbloqueado Oi Preto Windows Phone 8 Câmera 5MP 3G Wi-Fi Memória Interna 8G GPS                                10.0\n",
       "Name: score, dtype: float64"
      ]
     },
     "execution_count": 71,
     "metadata": {},
     "output_type": "execute_result"
    }
   ],
   "source": [
    "new_df.groupby('product')['score'].mean().sort_values(ascending=False).head()"
   ]
  },
  {
   "cell_type": "code",
   "execution_count": 72,
   "metadata": {},
   "outputs": [
    {
     "data": {
      "text/plain": [
       "product\n",
       "Lenovo Vibe K4 Note (White,16GB)     3835\n",
       "Lenovo Vibe K4 Note (Black, 16GB)    3275\n",
       "OnePlus 3 (Graphite, 64 GB)          3097\n",
       "OnePlus 3 (Soft Gold, 64 GB)         2673\n",
       "Samsung Galaxy Express I8730         1989\n",
       "Name: score, dtype: int64"
      ]
     },
     "execution_count": 72,
     "metadata": {},
     "output_type": "execute_result"
    }
   ],
   "source": [
    "#Total no of rating for product\n",
    "\n",
    "new_df.groupby('product')['score'].count().sort_values(ascending=False).head()"
   ]
  },
  {
   "cell_type": "code",
   "execution_count": 73,
   "metadata": {},
   "outputs": [],
   "source": [
    "ratings_mean_count = pd.DataFrame(new_df.groupby('product')['score'].mean())"
   ]
  },
  {
   "cell_type": "code",
   "execution_count": 74,
   "metadata": {},
   "outputs": [],
   "source": [
    "ratings_mean_count['rating_counts'] = pd.DataFrame(new_df.groupby('product')['score'].count())"
   ]
  },
  {
   "cell_type": "code",
   "execution_count": 75,
   "metadata": {},
   "outputs": [
    {
     "data": {
      "text/html": [
       "<div>\n",
       "<style scoped>\n",
       "    .dataframe tbody tr th:only-of-type {\n",
       "        vertical-align: middle;\n",
       "    }\n",
       "\n",
       "    .dataframe tbody tr th {\n",
       "        vertical-align: top;\n",
       "    }\n",
       "\n",
       "    .dataframe thead th {\n",
       "        text-align: right;\n",
       "    }\n",
       "</style>\n",
       "<table border=\"1\" class=\"dataframe\">\n",
       "  <thead>\n",
       "    <tr style=\"text-align: right;\">\n",
       "      <th></th>\n",
       "      <th>score</th>\n",
       "      <th>rating_counts</th>\n",
       "    </tr>\n",
       "    <tr>\n",
       "      <th>product</th>\n",
       "      <th></th>\n",
       "      <th></th>\n",
       "    </tr>\n",
       "  </thead>\n",
       "  <tbody>\n",
       "    <tr>\n",
       "      <th>3100 / 3120</th>\n",
       "      <td>7.684378</td>\n",
       "      <td>57</td>\n",
       "    </tr>\n",
       "    <tr>\n",
       "      <th>3220</th>\n",
       "      <td>8.557876</td>\n",
       "      <td>52</td>\n",
       "    </tr>\n",
       "    <tr>\n",
       "      <th>5.5-Inch Unlocked Lenovo A850 3G Smartphone-(960x540) Quad Core 4GB MT6582m 1331MHz Android 4.2 Dual Camera +Dual SIM -Black (Rooted + Google Play)</th>\n",
       "      <td>6.987654</td>\n",
       "      <td>81</td>\n",
       "    </tr>\n",
       "    <tr>\n",
       "      <th>6126 / 6131 / 6133</th>\n",
       "      <td>7.971519</td>\n",
       "      <td>105</td>\n",
       "    </tr>\n",
       "    <tr>\n",
       "      <th>6682 / 6681</th>\n",
       "      <td>8.559646</td>\n",
       "      <td>59</td>\n",
       "    </tr>\n",
       "  </tbody>\n",
       "</table>\n",
       "</div>"
      ],
      "text/plain": [
       "                                                       score  rating_counts\n",
       "product                                                                    \n",
       "3100 / 3120                                         7.684378             57\n",
       "3220                                                8.557876             52\n",
       "5.5-Inch Unlocked Lenovo A850 3G Smartphone-(96...  6.987654             81\n",
       "6126 / 6131 / 6133                                  7.971519            105\n",
       "6682 / 6681                                         8.559646             59"
      ]
     },
     "execution_count": 75,
     "metadata": {},
     "output_type": "execute_result"
    }
   ],
   "source": [
    "ratings_mean_count.head()"
   ]
  },
  {
   "cell_type": "code",
   "execution_count": 76,
   "metadata": {},
   "outputs": [
    {
     "data": {
      "text/plain": [
       "3835"
      ]
     },
     "execution_count": 76,
     "metadata": {},
     "output_type": "execute_result"
    }
   ],
   "source": [
    "ratings_mean_count['rating_counts'].max()"
   ]
  },
  {
   "cell_type": "code",
   "execution_count": 77,
   "metadata": {},
   "outputs": [
    {
     "data": {
      "text/plain": [
       "<AxesSubplot:>"
      ]
     },
     "execution_count": 77,
     "metadata": {},
     "output_type": "execute_result"
    },
    {
     "data": {
      "image/png": "[encoded data removed]",
      "text/plain": [
       "<Figure size 576x432 with 1 Axes>"
      ]
     },
     "metadata": {
      "needs_background": "light"
     },
     "output_type": "display_data"
    }
   ],
   "source": [
    "plt.figure(figsize=(8,6))\n",
    "plt.rcParams['patch.force_edgecolor'] = True\n",
    "ratings_mean_count['rating_counts'].hist(bins=50)"
   ]
  },
  {
   "cell_type": "code",
   "execution_count": 78,
   "metadata": {},
   "outputs": [
    {
     "data": {
      "text/plain": [
       "<AxesSubplot:>"
      ]
     },
     "execution_count": 78,
     "metadata": {},
     "output_type": "execute_result"
    },
    {
     "data": {
      "image/png": "[encoded data removed]",
      "text/plain": [
       "<Figure size 576x432 with 1 Axes>"
      ]
     },
     "metadata": {
      "needs_background": "light"
     },
     "output_type": "display_data"
    }
   ],
   "source": [
    "plt.figure(figsize=(8,6))\n",
    "plt.rcParams['patch.force_edgecolor'] = True\n",
    "ratings_mean_count['score'].hist(bins=50)"
   ]
  },
  {
   "cell_type": "code",
   "execution_count": 79,
   "metadata": {},
   "outputs": [
    {
     "data": {
      "text/plain": [
       "<seaborn.axisgrid.JointGrid at 0x7faa53ad5390>"
      ]
     },
     "execution_count": 79,
     "metadata": {},
     "output_type": "execute_result"
    },
    {
     "data": {
      "text/plain": [
       "<Figure size 576x432 with 0 Axes>"
      ]
     },
     "metadata": {},
     "output_type": "display_data"
    },
    {
     "data": {
      "image/png": "[encoded data removed]",
      "text/plain": [
       "<Figure size 432x432 with 3 Axes>"
      ]
     },
     "metadata": {
      "needs_background": "light"
     },
     "output_type": "display_data"
    }
   ],
   "source": [
    "plt.figure(figsize=(8,6))\n",
    "plt.rcParams['patch.force_edgecolor'] = True\n",
    "sns.jointplot(x='score', y='rating_counts', data=ratings_mean_count, alpha=0.4)"
   ]
  },
  {
   "cell_type": "code",
   "execution_count": 80,
   "metadata": {},
   "outputs": [
    {
     "data": {
      "text/plain": [
       "<AxesSubplot:xlabel='product'>"
      ]
     },
     "execution_count": 80,
     "metadata": {},
     "output_type": "execute_result"
    },
    {
     "data": {
      "image/png": "[encoded data removed]",
      "text/plain": [
       "<Figure size 432x288 with 1 Axes>"
      ]
     },
     "metadata": {
      "needs_background": "light"
     },
     "output_type": "display_data"
    }
   ],
   "source": [
    "popular_products = pd.DataFrame(new_df.groupby('product')['score'].count())\n",
    "most_popular = popular_products.sort_values('score', ascending=False)\n",
    "most_popular.head(30).plot(kind = \"bar\")"
   ]
  },
  {
   "cell_type": "raw",
   "metadata": {},
   "source": [
    "Build a collaborative filtering model using SVD. You can use SVD from surprise or build it from scratch(Note: Incase you’re building it from scratch you\n",
    "can limit your data points to 5000 samples if you face memory issues). Build a collaborative filtering model using kNNWithMeans from surprise. You\n",
    "can try both user-based and item-based model."
   ]
  },
  {
   "cell_type": "code",
   "execution_count": 81,
   "metadata": {},
   "outputs": [
    {
     "name": "stdout",
     "output_type": "stream",
     "text": [
      "Requirement already satisfied: surprise in /Users/kishorekumarg/opt/anaconda3/lib/python3.7/site-packages (0.1)\n",
      "Requirement already satisfied: scikit-surprise in /Users/kishorekumarg/opt/anaconda3/lib/python3.7/site-packages (from surprise) (1.1.1)\n",
      "Requirement already satisfied: joblib>=0.11 in /Users/kishorekumarg/opt/anaconda3/lib/python3.7/site-packages (from scikit-surprise->surprise) (0.14.1)\n",
      "Requirement already satisfied: numpy>=1.11.2 in /Users/kishorekumarg/opt/anaconda3/lib/python3.7/site-packages (from scikit-surprise->surprise) (1.18.1)\n",
      "Requirement already satisfied: scipy>=1.0.0 in /Users/kishorekumarg/opt/anaconda3/lib/python3.7/site-packages (from scikit-surprise->surprise) (1.4.1)\n",
      "Requirement already satisfied: six>=1.10.0 in /Users/kishorekumarg/opt/anaconda3/lib/python3.7/site-packages (from scikit-surprise->surprise) (1.14.0)\n",
      "Note: you may need to restart the kernel to use updated packages.\n"
     ]
    }
   ],
   "source": [
    "pip install surprise"
   ]
  },
  {
   "cell_type": "code",
   "execution_count": 82,
   "metadata": {},
   "outputs": [],
   "source": [
    "# #Reading the dataset\n",
    "# reader = Reader(rating_scale=(1, 10))\n",
    "# data = Dataset.load_from_df(new_df,reader)"
   ]
  },
  {
   "cell_type": "code",
   "execution_count": 83,
   "metadata": {},
   "outputs": [],
   "source": [
    "merged_df_impute3b = merged_df_impute3a.copy()"
   ]
  },
  {
   "cell_type": "code",
   "execution_count": 84,
   "metadata": {},
   "outputs": [],
   "source": [
    "merged_df_impute3b = merged_df_impute3b.drop(['date'], axis=1)"
   ]
  },
  {
   "cell_type": "code",
   "execution_count": 85,
   "metadata": {},
   "outputs": [
    {
     "data": {
      "text/plain": [
       "Index(['lang', 'country', 'source', 'score', 'score_max', 'extract', 'author',\n",
       "       'product'],\n",
       "      dtype='object')"
      ]
     },
     "execution_count": 85,
     "metadata": {},
     "output_type": "execute_result"
    }
   ],
   "source": [
    "merged_df_impute3b.columns"
   ]
  },
  {
   "cell_type": "code",
   "execution_count": 86,
   "metadata": {},
   "outputs": [],
   "source": [
    "# TRY 3"
   ]
  },
  {
   "cell_type": "code",
   "execution_count": 87,
   "metadata": {},
   "outputs": [
    {
     "data": {
      "text/html": [
       "<div>\n",
       "<style scoped>\n",
       "    .dataframe tbody tr th:only-of-type {\n",
       "        vertical-align: middle;\n",
       "    }\n",
       "\n",
       "    .dataframe tbody tr th {\n",
       "        vertical-align: top;\n",
       "    }\n",
       "\n",
       "    .dataframe thead th {\n",
       "        text-align: right;\n",
       "    }\n",
       "</style>\n",
       "<table border=\"1\" class=\"dataframe\">\n",
       "  <thead>\n",
       "    <tr style=\"text-align: right;\">\n",
       "      <th></th>\n",
       "      <th>lang</th>\n",
       "      <th>country</th>\n",
       "      <th>source</th>\n",
       "      <th>score</th>\n",
       "      <th>score_max</th>\n",
       "      <th>extract</th>\n",
       "      <th>author</th>\n",
       "      <th>product</th>\n",
       "    </tr>\n",
       "  </thead>\n",
       "  <tbody>\n",
       "    <tr>\n",
       "      <th>52717</th>\n",
       "      <td>ru</td>\n",
       "      <td>ru</td>\n",
       "      <td>Yandex</td>\n",
       "      <td>8.0</td>\n",
       "      <td>10.0</td>\n",
       "      <td>Ничего сверх крутого в apple для себя не откры...</td>\n",
       "      <td>Гундарев Сергей</td>\n",
       "      <td>Apple iPhone 5S 32Gb</td>\n",
       "    </tr>\n",
       "    <tr>\n",
       "      <th>233874</th>\n",
       "      <td>de</td>\n",
       "      <td>de</td>\n",
       "      <td>Amazon</td>\n",
       "      <td>10.0</td>\n",
       "      <td>10.0</td>\n",
       "      <td>Handy ladet nur wenn ich Akku herausnehme wie ...</td>\n",
       "      <td>Rosemarie Boeshans</td>\n",
       "      <td>Samsung Galaxy S3 mini I8190 Smartphone (10,2 ...</td>\n",
       "    </tr>\n",
       "    <tr>\n",
       "      <th>171116</th>\n",
       "      <td>it</td>\n",
       "      <td>it</td>\n",
       "      <td>Amazon</td>\n",
       "      <td>10.0</td>\n",
       "      <td>10.0</td>\n",
       "      <td>Ottimo prodotto, a questo prezzo non esiste ni...</td>\n",
       "      <td>Federico Minetti</td>\n",
       "      <td>Honor 4X Smartphone 4G, Display 5.5 Pollici, P...</td>\n",
       "    </tr>\n",
       "    <tr>\n",
       "      <th>18964</th>\n",
       "      <td>pt</td>\n",
       "      <td>br</td>\n",
       "      <td>Kabum</td>\n",
       "      <td>10.0</td>\n",
       "      <td>10.0</td>\n",
       "      <td>Òtima relação custo benefício.</td>\n",
       "      <td>Eugênio</td>\n",
       "      <td>Smartphone Samsung Galaxy J1 Mini Duos SM-J105...</td>\n",
       "    </tr>\n",
       "    <tr>\n",
       "      <th>53871</th>\n",
       "      <td>en</td>\n",
       "      <td>us</td>\n",
       "      <td>Amazon</td>\n",
       "      <td>2.0</td>\n",
       "      <td>10.0</td>\n",
       "      <td>The phone that they send to you not correspond...</td>\n",
       "      <td>davisdev</td>\n",
       "      <td>HTC One X Unlocked Gsm Phone, 16GB, Gray</td>\n",
       "    </tr>\n",
       "  </tbody>\n",
       "</table>\n",
       "</div>"
      ],
      "text/plain": [
       "       lang country  source  score  score_max  \\\n",
       "52717    ru      ru  Yandex    8.0       10.0   \n",
       "233874   de      de  Amazon   10.0       10.0   \n",
       "171116   it      it  Amazon   10.0       10.0   \n",
       "18964    pt      br   Kabum   10.0       10.0   \n",
       "53871    en      us  Amazon    2.0       10.0   \n",
       "\n",
       "                                                  extract              author  \\\n",
       "52717   Ничего сверх крутого в apple для себя не откры...     Гундарев Сергей   \n",
       "233874  Handy ladet nur wenn ich Akku herausnehme wie ...  Rosemarie Boeshans   \n",
       "171116  Ottimo prodotto, a questo prezzo non esiste ni...    Federico Minetti   \n",
       "18964                      Òtima relação custo benefício.             Eugênio   \n",
       "53871   The phone that they send to you not correspond...            davisdev   \n",
       "\n",
       "                                                  product  \n",
       "52717                                Apple iPhone 5S 32Gb  \n",
       "233874  Samsung Galaxy S3 mini I8190 Smartphone (10,2 ...  \n",
       "171116  Honor 4X Smartphone 4G, Display 5.5 Pollici, P...  \n",
       "18964   Smartphone Samsung Galaxy J1 Mini Duos SM-J105...  \n",
       "53871            HTC One X Unlocked Gsm Phone, 16GB, Gray  "
      ]
     },
     "execution_count": 87,
     "metadata": {},
     "output_type": "execute_result"
    }
   ],
   "source": [
    "# Collaborative filtering with user user & Item Item based filtering\n",
    "merged_df_impute3b.head()"
   ]
  },
  {
   "cell_type": "code",
   "execution_count": 88,
   "metadata": {},
   "outputs": [],
   "source": [
    "merged_df_impute3c = pd.DataFrame(merged_df_impute3b, columns = ['product', 'score', 'author'])"
   ]
  },
  {
   "cell_type": "code",
   "execution_count": 89,
   "metadata": {},
   "outputs": [
    {
     "data": {
      "text/html": [
       "<div>\n",
       "<style scoped>\n",
       "    .dataframe tbody tr th:only-of-type {\n",
       "        vertical-align: middle;\n",
       "    }\n",
       "\n",
       "    .dataframe tbody tr th {\n",
       "        vertical-align: top;\n",
       "    }\n",
       "\n",
       "    .dataframe thead th {\n",
       "        text-align: right;\n",
       "    }\n",
       "</style>\n",
       "<table border=\"1\" class=\"dataframe\">\n",
       "  <thead>\n",
       "    <tr style=\"text-align: right;\">\n",
       "      <th></th>\n",
       "      <th>product</th>\n",
       "      <th>score</th>\n",
       "      <th>author</th>\n",
       "    </tr>\n",
       "  </thead>\n",
       "  <tbody>\n",
       "    <tr>\n",
       "      <th>52717</th>\n",
       "      <td>Apple iPhone 5S 32Gb</td>\n",
       "      <td>8.0</td>\n",
       "      <td>Гундарев Сергей</td>\n",
       "    </tr>\n",
       "    <tr>\n",
       "      <th>233874</th>\n",
       "      <td>Samsung Galaxy S3 mini I8190 Smartphone (10,2 ...</td>\n",
       "      <td>10.0</td>\n",
       "      <td>Rosemarie Boeshans</td>\n",
       "    </tr>\n",
       "    <tr>\n",
       "      <th>171116</th>\n",
       "      <td>Honor 4X Smartphone 4G, Display 5.5 Pollici, P...</td>\n",
       "      <td>10.0</td>\n",
       "      <td>Federico Minetti</td>\n",
       "    </tr>\n",
       "    <tr>\n",
       "      <th>18964</th>\n",
       "      <td>Smartphone Samsung Galaxy J1 Mini Duos SM-J105...</td>\n",
       "      <td>10.0</td>\n",
       "      <td>Eugênio</td>\n",
       "    </tr>\n",
       "    <tr>\n",
       "      <th>53871</th>\n",
       "      <td>HTC One X Unlocked Gsm Phone, 16GB, Gray</td>\n",
       "      <td>2.0</td>\n",
       "      <td>davisdev</td>\n",
       "    </tr>\n",
       "  </tbody>\n",
       "</table>\n",
       "</div>"
      ],
      "text/plain": [
       "                                                  product  score  \\\n",
       "52717                                Apple iPhone 5S 32Gb    8.0   \n",
       "233874  Samsung Galaxy S3 mini I8190 Smartphone (10,2 ...   10.0   \n",
       "171116  Honor 4X Smartphone 4G, Display 5.5 Pollici, P...   10.0   \n",
       "18964   Smartphone Samsung Galaxy J1 Mini Duos SM-J105...   10.0   \n",
       "53871            HTC One X Unlocked Gsm Phone, 16GB, Gray    2.0   \n",
       "\n",
       "                    author  \n",
       "52717      Гундарев Сергей  \n",
       "233874  Rosemarie Boeshans  \n",
       "171116    Federico Minetti  \n",
       "18964              Eugênio  \n",
       "53871             davisdev  "
      ]
     },
     "execution_count": 89,
     "metadata": {},
     "output_type": "execute_result"
    }
   ],
   "source": [
    "merged_df_impute3c.head()"
   ]
  },
  {
   "cell_type": "code",
   "execution_count": 90,
   "metadata": {},
   "outputs": [
    {
     "data": {
      "text/plain": [
       "(1000000, 3)"
      ]
     },
     "execution_count": 90,
     "metadata": {},
     "output_type": "execute_result"
    }
   ],
   "source": [
    "merged_df_impute3c.shape"
   ]
  },
  {
   "cell_type": "code",
   "execution_count": 91,
   "metadata": {},
   "outputs": [
    {
     "data": {
      "text/plain": [
       "<bound method DataFrame.transpose of                 score\n",
       "count  1000000.000000\n",
       "mean         8.009720\n",
       "std          2.563093\n",
       "min          0.000000\n",
       "25%          8.000000\n",
       "50%          9.000000\n",
       "75%         10.000000\n",
       "max         10.000000>"
      ]
     },
     "execution_count": 91,
     "metadata": {},
     "output_type": "execute_result"
    }
   ],
   "source": [
    "merged_df_impute3c.describe().transpose"
   ]
  },
  {
   "cell_type": "code",
   "execution_count": 92,
   "metadata": {},
   "outputs": [
    {
     "data": {
      "text/plain": [
       "product     56084\n",
       "score          12\n",
       "author     618293\n",
       "dtype: int64"
      ]
     },
     "execution_count": 92,
     "metadata": {},
     "output_type": "execute_result"
    }
   ],
   "source": [
    "merged_df_impute3c.nunique()"
   ]
  },
  {
   "cell_type": "code",
   "execution_count": 93,
   "metadata": {},
   "outputs": [
    {
     "data": {
      "text/plain": [
       "array([ 8.        , 10.        ,  2.        ,  6.        ,  8.00954608,\n",
       "        9.        ,  4.        ,  7.        ,  1.        ,  3.        ,\n",
       "        5.        ,  0.        ])"
      ]
     },
     "execution_count": 93,
     "metadata": {},
     "output_type": "execute_result"
    }
   ],
   "source": [
    "merged_df_impute3c.score.unique()"
   ]
  },
  {
   "cell_type": "code",
   "execution_count": 94,
   "metadata": {},
   "outputs": [
    {
     "data": {
      "image/png": "[encoded data removed]",
      "text/plain": [
       "<Figure size 432x288 with 1 Axes>"
      ]
     },
     "metadata": {
      "needs_background": "light"
     },
     "output_type": "display_data"
    }
   ],
   "source": [
    "sns.countplot(data=merged_df_impute3c , x='score')\n",
    "plt.show()"
   ]
  },
  {
   "cell_type": "code",
   "execution_count": 95,
   "metadata": {},
   "outputs": [],
   "source": [
    "counts1 = merged_df_impute3c['score'].value_counts()\n",
    "# print(counts1)\n",
    "merged_df_impute3d = merged_df_impute3c[merged_df_impute3c['score'].isin(counts1[counts1 >= 100].index)]"
   ]
  },
  {
   "cell_type": "code",
   "execution_count": 96,
   "metadata": {},
   "outputs": [
    {
     "data": {
      "text/html": [
       "<div>\n",
       "<style scoped>\n",
       "    .dataframe tbody tr th:only-of-type {\n",
       "        vertical-align: middle;\n",
       "    }\n",
       "\n",
       "    .dataframe tbody tr th {\n",
       "        vertical-align: top;\n",
       "    }\n",
       "\n",
       "    .dataframe thead th {\n",
       "        text-align: right;\n",
       "    }\n",
       "</style>\n",
       "<table border=\"1\" class=\"dataframe\">\n",
       "  <thead>\n",
       "    <tr style=\"text-align: right;\">\n",
       "      <th></th>\n",
       "      <th>product</th>\n",
       "      <th>score</th>\n",
       "      <th>author</th>\n",
       "    </tr>\n",
       "  </thead>\n",
       "  <tbody>\n",
       "    <tr>\n",
       "      <th>52717</th>\n",
       "      <td>Apple iPhone 5S 32Gb</td>\n",
       "      <td>8.0</td>\n",
       "      <td>Гундарев Сергей</td>\n",
       "    </tr>\n",
       "    <tr>\n",
       "      <th>233874</th>\n",
       "      <td>Samsung Galaxy S3 mini I8190 Smartphone (10,2 ...</td>\n",
       "      <td>10.0</td>\n",
       "      <td>Rosemarie Boeshans</td>\n",
       "    </tr>\n",
       "    <tr>\n",
       "      <th>171116</th>\n",
       "      <td>Honor 4X Smartphone 4G, Display 5.5 Pollici, P...</td>\n",
       "      <td>10.0</td>\n",
       "      <td>Federico Minetti</td>\n",
       "    </tr>\n",
       "    <tr>\n",
       "      <th>18964</th>\n",
       "      <td>Smartphone Samsung Galaxy J1 Mini Duos SM-J105...</td>\n",
       "      <td>10.0</td>\n",
       "      <td>Eugênio</td>\n",
       "    </tr>\n",
       "    <tr>\n",
       "      <th>53871</th>\n",
       "      <td>HTC One X Unlocked Gsm Phone, 16GB, Gray</td>\n",
       "      <td>2.0</td>\n",
       "      <td>davisdev</td>\n",
       "    </tr>\n",
       "  </tbody>\n",
       "</table>\n",
       "</div>"
      ],
      "text/plain": [
       "                                                  product  score  \\\n",
       "52717                                Apple iPhone 5S 32Gb    8.0   \n",
       "233874  Samsung Galaxy S3 mini I8190 Smartphone (10,2 ...   10.0   \n",
       "171116  Honor 4X Smartphone 4G, Display 5.5 Pollici, P...   10.0   \n",
       "18964   Smartphone Samsung Galaxy J1 Mini Duos SM-J105...   10.0   \n",
       "53871            HTC One X Unlocked Gsm Phone, 16GB, Gray    2.0   \n",
       "\n",
       "                    author  \n",
       "52717      Гундарев Сергей  \n",
       "233874  Rosemarie Boeshans  \n",
       "171116    Federico Minetti  \n",
       "18964              Eugênio  \n",
       "53871             davisdev  "
      ]
     },
     "execution_count": 96,
     "metadata": {},
     "output_type": "execute_result"
    }
   ],
   "source": [
    "merged_df_impute3c.head()"
   ]
  },
  {
   "cell_type": "code",
   "execution_count": 97,
   "metadata": {},
   "outputs": [],
   "source": [
    "merged_df_impute3e = merged_df_impute3c.drop_duplicates()"
   ]
  },
  {
   "cell_type": "code",
   "execution_count": 98,
   "metadata": {},
   "outputs": [
    {
     "data": {
      "text/plain": [
       "(907088, 3)"
      ]
     },
     "execution_count": 98,
     "metadata": {},
     "output_type": "execute_result"
    }
   ],
   "source": [
    "merged_df_impute3e.shape"
   ]
  },
  {
   "cell_type": "code",
   "execution_count": 99,
   "metadata": {},
   "outputs": [
    {
     "data": {
      "text/html": [
       "<div>\n",
       "<style scoped>\n",
       "    .dataframe tbody tr th:only-of-type {\n",
       "        vertical-align: middle;\n",
       "    }\n",
       "\n",
       "    .dataframe tbody tr th {\n",
       "        vertical-align: top;\n",
       "    }\n",
       "\n",
       "    .dataframe thead th {\n",
       "        text-align: right;\n",
       "    }\n",
       "</style>\n",
       "<table border=\"1\" class=\"dataframe\">\n",
       "  <thead>\n",
       "    <tr style=\"text-align: right;\">\n",
       "      <th></th>\n",
       "      <th>product</th>\n",
       "      <th>score</th>\n",
       "      <th>author</th>\n",
       "    </tr>\n",
       "  </thead>\n",
       "  <tbody>\n",
       "    <tr>\n",
       "      <th>52717</th>\n",
       "      <td>Apple iPhone 5S 32Gb</td>\n",
       "      <td>8.0</td>\n",
       "      <td>Гундарев Сергей</td>\n",
       "    </tr>\n",
       "    <tr>\n",
       "      <th>233874</th>\n",
       "      <td>Samsung Galaxy S3 mini I8190 Smartphone (10,2 ...</td>\n",
       "      <td>10.0</td>\n",
       "      <td>Rosemarie Boeshans</td>\n",
       "    </tr>\n",
       "    <tr>\n",
       "      <th>171116</th>\n",
       "      <td>Honor 4X Smartphone 4G, Display 5.5 Pollici, P...</td>\n",
       "      <td>10.0</td>\n",
       "      <td>Federico Minetti</td>\n",
       "    </tr>\n",
       "    <tr>\n",
       "      <th>18964</th>\n",
       "      <td>Smartphone Samsung Galaxy J1 Mini Duos SM-J105...</td>\n",
       "      <td>10.0</td>\n",
       "      <td>Eugênio</td>\n",
       "    </tr>\n",
       "    <tr>\n",
       "      <th>53871</th>\n",
       "      <td>HTC One X Unlocked Gsm Phone, 16GB, Gray</td>\n",
       "      <td>2.0</td>\n",
       "      <td>davisdev</td>\n",
       "    </tr>\n",
       "  </tbody>\n",
       "</table>\n",
       "</div>"
      ],
      "text/plain": [
       "                                                  product  score  \\\n",
       "52717                                Apple iPhone 5S 32Gb    8.0   \n",
       "233874  Samsung Galaxy S3 mini I8190 Smartphone (10,2 ...   10.0   \n",
       "171116  Honor 4X Smartphone 4G, Display 5.5 Pollici, P...   10.0   \n",
       "18964   Smartphone Samsung Galaxy J1 Mini Duos SM-J105...   10.0   \n",
       "53871            HTC One X Unlocked Gsm Phone, 16GB, Gray    2.0   \n",
       "\n",
       "                    author  \n",
       "52717      Гундарев Сергей  \n",
       "233874  Rosemarie Boeshans  \n",
       "171116    Federico Minetti  \n",
       "18964              Eugênio  \n",
       "53871             davisdev  "
      ]
     },
     "execution_count": 99,
     "metadata": {},
     "output_type": "execute_result"
    }
   ],
   "source": [
    "merged_df_impute3e.head()"
   ]
  },
  {
   "cell_type": "code",
   "execution_count": 100,
   "metadata": {},
   "outputs": [],
   "source": [
    "merged_df_impute3f = merged_df_impute3e.sample(n=5000, random_state = 612)"
   ]
  },
  {
   "cell_type": "code",
   "execution_count": 101,
   "metadata": {},
   "outputs": [
    {
     "data": {
      "text/html": [
       "<div>\n",
       "<style scoped>\n",
       "    .dataframe tbody tr th:only-of-type {\n",
       "        vertical-align: middle;\n",
       "    }\n",
       "\n",
       "    .dataframe tbody tr th {\n",
       "        vertical-align: top;\n",
       "    }\n",
       "\n",
       "    .dataframe thead th {\n",
       "        text-align: right;\n",
       "    }\n",
       "</style>\n",
       "<table border=\"1\" class=\"dataframe\">\n",
       "  <thead>\n",
       "    <tr style=\"text-align: right;\">\n",
       "      <th></th>\n",
       "      <th>product</th>\n",
       "      <th>score</th>\n",
       "      <th>author</th>\n",
       "    </tr>\n",
       "  </thead>\n",
       "  <tbody>\n",
       "    <tr>\n",
       "      <th>342268</th>\n",
       "      <td>Palm Treo Pro Unlocked Phone with 2 MP Camera,...</td>\n",
       "      <td>10.0</td>\n",
       "      <td>D. Bobke \"New Normal\"</td>\n",
       "    </tr>\n",
       "    <tr>\n",
       "      <th>243587</th>\n",
       "      <td>Samsung E1080</td>\n",
       "      <td>8.0</td>\n",
       "      <td>cher-i2012</td>\n",
       "    </tr>\n",
       "    <tr>\n",
       "      <th>350609</th>\n",
       "      <td>Samsung Galaxy S5 Smartphone (5,1 Zoll (12,9 c...</td>\n",
       "      <td>10.0</td>\n",
       "      <td>Kagi</td>\n",
       "    </tr>\n",
       "    <tr>\n",
       "      <th>31699</th>\n",
       "      <td>BlackBerry Bold 9790, Display 2.45 Pollici, Co...</td>\n",
       "      <td>10.0</td>\n",
       "      <td>Agostino</td>\n",
       "    </tr>\n",
       "    <tr>\n",
       "      <th>287979</th>\n",
       "      <td>BLU Studio 5.0 LTE, 8MP, ( 4GB+1GB RAM)- Facto...</td>\n",
       "      <td>10.0</td>\n",
       "      <td>David</td>\n",
       "    </tr>\n",
       "  </tbody>\n",
       "</table>\n",
       "</div>"
      ],
      "text/plain": [
       "                                                  product  score  \\\n",
       "342268  Palm Treo Pro Unlocked Phone with 2 MP Camera,...   10.0   \n",
       "243587                                      Samsung E1080    8.0   \n",
       "350609  Samsung Galaxy S5 Smartphone (5,1 Zoll (12,9 c...   10.0   \n",
       "31699   BlackBerry Bold 9790, Display 2.45 Pollici, Co...   10.0   \n",
       "287979  BLU Studio 5.0 LTE, 8MP, ( 4GB+1GB RAM)- Facto...   10.0   \n",
       "\n",
       "                       author  \n",
       "342268  D. Bobke \"New Normal\"  \n",
       "243587             cher-i2012  \n",
       "350609                   Kagi  \n",
       "31699                Agostino  \n",
       "287979                  David  "
      ]
     },
     "execution_count": 101,
     "metadata": {},
     "output_type": "execute_result"
    }
   ],
   "source": [
    "merged_df_impute3f.head()"
   ]
  },
  {
   "cell_type": "code",
   "execution_count": 102,
   "metadata": {},
   "outputs": [
    {
     "data": {
      "text/plain": [
       "(5000, 3)"
      ]
     },
     "execution_count": 102,
     "metadata": {},
     "output_type": "execute_result"
    }
   ],
   "source": [
    "merged_df_impute3f.shape"
   ]
  },
  {
   "cell_type": "code",
   "execution_count": 103,
   "metadata": {},
   "outputs": [
    {
     "data": {
      "text/html": [
       "<div>\n",
       "<style scoped>\n",
       "    .dataframe tbody tr th:only-of-type {\n",
       "        vertical-align: middle;\n",
       "    }\n",
       "\n",
       "    .dataframe tbody tr th {\n",
       "        vertical-align: top;\n",
       "    }\n",
       "\n",
       "    .dataframe thead th {\n",
       "        text-align: right;\n",
       "    }\n",
       "</style>\n",
       "<table border=\"1\" class=\"dataframe\">\n",
       "  <thead>\n",
       "    <tr style=\"text-align: right;\">\n",
       "      <th></th>\n",
       "      <th>score</th>\n",
       "    </tr>\n",
       "  </thead>\n",
       "  <tbody>\n",
       "    <tr>\n",
       "      <th>count</th>\n",
       "      <td>5000.000000</td>\n",
       "    </tr>\n",
       "    <tr>\n",
       "      <th>mean</th>\n",
       "      <td>8.046991</td>\n",
       "    </tr>\n",
       "    <tr>\n",
       "      <th>std</th>\n",
       "      <td>2.523503</td>\n",
       "    </tr>\n",
       "    <tr>\n",
       "      <th>min</th>\n",
       "      <td>0.000000</td>\n",
       "    </tr>\n",
       "    <tr>\n",
       "      <th>25%</th>\n",
       "      <td>8.000000</td>\n",
       "    </tr>\n",
       "    <tr>\n",
       "      <th>50%</th>\n",
       "      <td>9.000000</td>\n",
       "    </tr>\n",
       "    <tr>\n",
       "      <th>75%</th>\n",
       "      <td>10.000000</td>\n",
       "    </tr>\n",
       "    <tr>\n",
       "      <th>max</th>\n",
       "      <td>10.000000</td>\n",
       "    </tr>\n",
       "  </tbody>\n",
       "</table>\n",
       "</div>"
      ],
      "text/plain": [
       "             score\n",
       "count  5000.000000\n",
       "mean      8.046991\n",
       "std       2.523503\n",
       "min       0.000000\n",
       "25%       8.000000\n",
       "50%       9.000000\n",
       "75%      10.000000\n",
       "max      10.000000"
      ]
     },
     "execution_count": 103,
     "metadata": {},
     "output_type": "execute_result"
    }
   ],
   "source": [
    "merged_df_impute3f.describe()"
   ]
  },
  {
   "cell_type": "code",
   "execution_count": 104,
   "metadata": {},
   "outputs": [],
   "source": [
    "ratings_explicit = merged_df_impute3f.copy()"
   ]
  },
  {
   "cell_type": "code",
   "execution_count": 105,
   "metadata": {},
   "outputs": [],
   "source": [
    "ratings_matrix = ratings_explicit.pivot(index='author', columns='product', values='score').fillna(0)"
   ]
  },
  {
   "cell_type": "code",
   "execution_count": 106,
   "metadata": {},
   "outputs": [
    {
     "name": "stdout",
     "output_type": "stream",
     "text": [
      "(4685, 3934)\n"
     ]
    },
    {
     "data": {
      "text/html": [
       "<div>\n",
       "<style scoped>\n",
       "    .dataframe tbody tr th:only-of-type {\n",
       "        vertical-align: middle;\n",
       "    }\n",
       "\n",
       "    .dataframe tbody tr th {\n",
       "        vertical-align: top;\n",
       "    }\n",
       "\n",
       "    .dataframe thead th {\n",
       "        text-align: right;\n",
       "    }\n",
       "</style>\n",
       "<table border=\"1\" class=\"dataframe\">\n",
       "  <thead>\n",
       "    <tr style=\"text-align: right;\">\n",
       "      <th>product</th>\n",
       "      <th>2014 Newest THL T6 Pro 5.0\" Android 4.4 Unlocked 3G Smartphone -- IPS Touch Screen MT6592M Octa-Core 1.4GHz GSM...</th>\n",
       "      <th>2015 Newest CUBOT X9 5.0'' Octa Core Android 4.4 Kitkat OS Unlocked 3G Smartphone -- IPS HD Touchscreen HotKnot MTK6592 Dual SIM Dual Standby Mobile Phone 2G RAM 16G ROM WIFI OTG GPS Finger Gesture Air Gesture Cellphone 3G Phablet (Golden)</th>\n",
       "      <th>5.5-Inch Unlocked Lenovo A850 3G Smartphone-(960x540) Quad Core 4GB MT6582m 1331MHz Android 4.2 Dual Camera +Dual SIM -Black (Rooted + Google Play)</th>\n",
       "      <th>6126 / 6131 / 6133</th>\n",
       "      <th>6305i</th>\n",
       "      <th>6650 fold</th>\n",
       "      <th>7130e</th>\n",
       "      <th>8801 / 8800</th>\n",
       "      <th>?????????????? ?????????????? Nokia 808 PureView Black</th>\n",
       "      <th>?????????????? ?????????????? Nokia Asha 302 Golden light</th>\n",
       "      <th>...</th>\n",
       "      <th>Сотовый телефон Huawei Y6</th>\n",
       "      <th>Сотовый телефон Nokia Lumia 610 Black</th>\n",
       "      <th>Сотовый телефон Nokia N8 Blue</th>\n",
       "      <th>Сотовый телефон Nokia N8 Dark Grey</th>\n",
       "      <th>Сотовый телефон Nokia X1 Red</th>\n",
       "      <th>Телефон LG E450 Optimus L5 II Black</th>\n",
       "      <th>Телефон LG E510 Optimus Hub Black</th>\n",
       "      <th>טלפון סלולרי LG Nexus 5 16GB D821</th>\n",
       "      <th>טלפון סלולרי Samsung Galaxy S6 SM-G920F 64GB</th>\n",
       "      <th>טלפון סלולרי Samsung Galaxy S7 Edge SM-G935F 32GB</th>\n",
       "    </tr>\n",
       "    <tr>\n",
       "      <th>author</th>\n",
       "      <th></th>\n",
       "      <th></th>\n",
       "      <th></th>\n",
       "      <th></th>\n",
       "      <th></th>\n",
       "      <th></th>\n",
       "      <th></th>\n",
       "      <th></th>\n",
       "      <th></th>\n",
       "      <th></th>\n",
       "      <th></th>\n",
       "      <th></th>\n",
       "      <th></th>\n",
       "      <th></th>\n",
       "      <th></th>\n",
       "      <th></th>\n",
       "      <th></th>\n",
       "      <th></th>\n",
       "      <th></th>\n",
       "      <th></th>\n",
       "      <th></th>\n",
       "    </tr>\n",
       "  </thead>\n",
       "  <tbody>\n",
       "    <tr>\n",
       "      <th>#</th>\n",
       "      <td>0.0</td>\n",
       "      <td>0.0</td>\n",
       "      <td>0.0</td>\n",
       "      <td>0.0</td>\n",
       "      <td>0.0</td>\n",
       "      <td>0.0</td>\n",
       "      <td>0.0</td>\n",
       "      <td>0.0</td>\n",
       "      <td>0.0</td>\n",
       "      <td>0.0</td>\n",
       "      <td>...</td>\n",
       "      <td>0.0</td>\n",
       "      <td>0.0</td>\n",
       "      <td>0.0</td>\n",
       "      <td>0.0</td>\n",
       "      <td>0.0</td>\n",
       "      <td>0.0</td>\n",
       "      <td>0.0</td>\n",
       "      <td>0.0</td>\n",
       "      <td>0.0</td>\n",
       "      <td>0.0</td>\n",
       "    </tr>\n",
       "    <tr>\n",
       "      <th>&amp;#214;mar D.</th>\n",
       "      <td>0.0</td>\n",
       "      <td>0.0</td>\n",
       "      <td>0.0</td>\n",
       "      <td>0.0</td>\n",
       "      <td>0.0</td>\n",
       "      <td>0.0</td>\n",
       "      <td>0.0</td>\n",
       "      <td>0.0</td>\n",
       "      <td>0.0</td>\n",
       "      <td>0.0</td>\n",
       "      <td>...</td>\n",
       "      <td>0.0</td>\n",
       "      <td>0.0</td>\n",
       "      <td>0.0</td>\n",
       "      <td>0.0</td>\n",
       "      <td>0.0</td>\n",
       "      <td>0.0</td>\n",
       "      <td>0.0</td>\n",
       "      <td>0.0</td>\n",
       "      <td>0.0</td>\n",
       "      <td>0.0</td>\n",
       "    </tr>\n",
       "    <tr>\n",
       "      <th>--RODRIGO--</th>\n",
       "      <td>0.0</td>\n",
       "      <td>0.0</td>\n",
       "      <td>0.0</td>\n",
       "      <td>0.0</td>\n",
       "      <td>0.0</td>\n",
       "      <td>0.0</td>\n",
       "      <td>0.0</td>\n",
       "      <td>0.0</td>\n",
       "      <td>0.0</td>\n",
       "      <td>0.0</td>\n",
       "      <td>...</td>\n",
       "      <td>0.0</td>\n",
       "      <td>0.0</td>\n",
       "      <td>0.0</td>\n",
       "      <td>0.0</td>\n",
       "      <td>0.0</td>\n",
       "      <td>0.0</td>\n",
       "      <td>0.0</td>\n",
       "      <td>0.0</td>\n",
       "      <td>0.0</td>\n",
       "      <td>0.0</td>\n",
       "    </tr>\n",
       "    <tr>\n",
       "      <th>-X-</th>\n",
       "      <td>0.0</td>\n",
       "      <td>0.0</td>\n",
       "      <td>0.0</td>\n",
       "      <td>0.0</td>\n",
       "      <td>0.0</td>\n",
       "      <td>0.0</td>\n",
       "      <td>0.0</td>\n",
       "      <td>0.0</td>\n",
       "      <td>0.0</td>\n",
       "      <td>0.0</td>\n",
       "      <td>...</td>\n",
       "      <td>0.0</td>\n",
       "      <td>0.0</td>\n",
       "      <td>0.0</td>\n",
       "      <td>0.0</td>\n",
       "      <td>0.0</td>\n",
       "      <td>0.0</td>\n",
       "      <td>0.0</td>\n",
       "      <td>0.0</td>\n",
       "      <td>0.0</td>\n",
       "      <td>0.0</td>\n",
       "    </tr>\n",
       "    <tr>\n",
       "      <th>1</th>\n",
       "      <td>0.0</td>\n",
       "      <td>0.0</td>\n",
       "      <td>0.0</td>\n",
       "      <td>0.0</td>\n",
       "      <td>0.0</td>\n",
       "      <td>0.0</td>\n",
       "      <td>0.0</td>\n",
       "      <td>0.0</td>\n",
       "      <td>0.0</td>\n",
       "      <td>0.0</td>\n",
       "      <td>...</td>\n",
       "      <td>0.0</td>\n",
       "      <td>0.0</td>\n",
       "      <td>0.0</td>\n",
       "      <td>0.0</td>\n",
       "      <td>0.0</td>\n",
       "      <td>0.0</td>\n",
       "      <td>0.0</td>\n",
       "      <td>0.0</td>\n",
       "      <td>0.0</td>\n",
       "      <td>0.0</td>\n",
       "    </tr>\n",
       "  </tbody>\n",
       "</table>\n",
       "<p>5 rows × 3934 columns</p>\n",
       "</div>"
      ],
      "text/plain": [
       "product       2014 Newest THL T6 Pro 5.0\" Android 4.4 Unlocked 3G Smartphone -- IPS Touch Screen MT6592M Octa-Core 1.4GHz GSM...  \\\n",
       "author                                                                                                                             \n",
       "#                                                           0.0                                                                    \n",
       "&#214;mar D.                                                0.0                                                                    \n",
       "--RODRIGO--                                                 0.0                                                                    \n",
       "-X-                                                         0.0                                                                    \n",
       "1                                                           0.0                                                                    \n",
       "\n",
       "product       2015 Newest CUBOT X9 5.0'' Octa Core Android 4.4 Kitkat OS Unlocked 3G Smartphone -- IPS HD Touchscreen HotKnot MTK6592 Dual SIM Dual Standby Mobile Phone 2G RAM 16G ROM WIFI OTG GPS Finger Gesture Air Gesture Cellphone 3G Phablet (Golden)  \\\n",
       "author                                                                                                                                                                                                                                                          \n",
       "#                                                           0.0                                                                                                                                                                                                 \n",
       "&#214;mar D.                                                0.0                                                                                                                                                                                                 \n",
       "--RODRIGO--                                                 0.0                                                                                                                                                                                                 \n",
       "-X-                                                         0.0                                                                                                                                                                                                 \n",
       "1                                                           0.0                                                                                                                                                                                                 \n",
       "\n",
       "product       5.5-Inch Unlocked Lenovo A850 3G Smartphone-(960x540) Quad Core 4GB MT6582m 1331MHz Android 4.2 Dual Camera +Dual SIM -Black (Rooted + Google Play)  \\\n",
       "author                                                                                                                                                              \n",
       "#                                                           0.0                                                                                                     \n",
       "&#214;mar D.                                                0.0                                                                                                     \n",
       "--RODRIGO--                                                 0.0                                                                                                     \n",
       "-X-                                                         0.0                                                                                                     \n",
       "1                                                           0.0                                                                                                     \n",
       "\n",
       "product       6126 / 6131 / 6133  6305i  6650 fold  7130e  8801 / 8800  \\\n",
       "author                                                                   \n",
       "#                            0.0    0.0        0.0    0.0          0.0   \n",
       "&#214;mar D.                 0.0    0.0        0.0    0.0          0.0   \n",
       "--RODRIGO--                  0.0    0.0        0.0    0.0          0.0   \n",
       "-X-                          0.0    0.0        0.0    0.0          0.0   \n",
       "1                            0.0    0.0        0.0    0.0          0.0   \n",
       "\n",
       "product       ?????????????? ?????????????? Nokia 808 PureView Black  \\\n",
       "author                                                                 \n",
       "#                                                           0.0        \n",
       "&#214;mar D.                                                0.0        \n",
       "--RODRIGO--                                                 0.0        \n",
       "-X-                                                         0.0        \n",
       "1                                                           0.0        \n",
       "\n",
       "product       ?????????????? ?????????????? Nokia Asha 302 Golden light  ...  \\\n",
       "author                                                                   ...   \n",
       "#                                                           0.0          ...   \n",
       "&#214;mar D.                                                0.0          ...   \n",
       "--RODRIGO--                                                 0.0          ...   \n",
       "-X-                                                         0.0          ...   \n",
       "1                                                           0.0          ...   \n",
       "\n",
       "product       Сотовый телефон Huawei Y6  \\\n",
       "author                                    \n",
       "#                                   0.0   \n",
       "&#214;mar D.                        0.0   \n",
       "--RODRIGO--                         0.0   \n",
       "-X-                                 0.0   \n",
       "1                                   0.0   \n",
       "\n",
       "product       Сотовый телефон Nokia Lumia 610 Black  \\\n",
       "author                                                \n",
       "#                                               0.0   \n",
       "&#214;mar D.                                    0.0   \n",
       "--RODRIGO--                                     0.0   \n",
       "-X-                                             0.0   \n",
       "1                                               0.0   \n",
       "\n",
       "product       Сотовый телефон Nokia N8 Blue  \\\n",
       "author                                        \n",
       "#                                       0.0   \n",
       "&#214;mar D.                            0.0   \n",
       "--RODRIGO--                             0.0   \n",
       "-X-                                     0.0   \n",
       "1                                       0.0   \n",
       "\n",
       "product       Сотовый телефон Nokia N8 Dark Grey  \\\n",
       "author                                             \n",
       "#                                            0.0   \n",
       "&#214;mar D.                                 0.0   \n",
       "--RODRIGO--                                  0.0   \n",
       "-X-                                          0.0   \n",
       "1                                            0.0   \n",
       "\n",
       "product       Сотовый телефон Nokia X1 Red  \\\n",
       "author                                       \n",
       "#                                      0.0   \n",
       "&#214;mar D.                           0.0   \n",
       "--RODRIGO--                            0.0   \n",
       "-X-                                    0.0   \n",
       "1                                      0.0   \n",
       "\n",
       "product       Телефон LG E450 Optimus L5 II Black  \\\n",
       "author                                              \n",
       "#                                             0.0   \n",
       "&#214;mar D.                                  0.0   \n",
       "--RODRIGO--                                   0.0   \n",
       "-X-                                           0.0   \n",
       "1                                             0.0   \n",
       "\n",
       "product       Телефон LG E510 Optimus Hub Black  \\\n",
       "author                                            \n",
       "#                                           0.0   \n",
       "&#214;mar D.                                0.0   \n",
       "--RODRIGO--                                 0.0   \n",
       "-X-                                         0.0   \n",
       "1                                           0.0   \n",
       "\n",
       "product       טלפון סלולרי LG Nexus 5 16GB D821  \\\n",
       "author                                            \n",
       "#                                           0.0   \n",
       "&#214;mar D.                                0.0   \n",
       "--RODRIGO--                                 0.0   \n",
       "-X-                                         0.0   \n",
       "1                                           0.0   \n",
       "\n",
       "product       טלפון סלולרי Samsung Galaxy S6 SM-G920F 64GB  \\\n",
       "author                                                       \n",
       "#                                                      0.0   \n",
       "&#214;mar D.                                           0.0   \n",
       "--RODRIGO--                                            0.0   \n",
       "-X-                                                    0.0   \n",
       "1                                                      0.0   \n",
       "\n",
       "product       טלפון סלולרי Samsung Galaxy S7 Edge SM-G935F 32GB  \n",
       "author                                                           \n",
       "#                                                           0.0  \n",
       "&#214;mar D.                                                0.0  \n",
       "--RODRIGO--                                                 0.0  \n",
       "-X-                                                         0.0  \n",
       "1                                                           0.0  \n",
       "\n",
       "[5 rows x 3934 columns]"
      ]
     },
     "execution_count": 106,
     "metadata": {},
     "output_type": "execute_result"
    }
   ],
   "source": [
    "userID = ratings_matrix.index\n",
    "ISBN = ratings_matrix.columns\n",
    "print(ratings_matrix.shape)\n",
    "ratings_matrix.head()"
   ]
  },
  {
   "cell_type": "code",
   "execution_count": 107,
   "metadata": {},
   "outputs": [],
   "source": [
    "# Generate the predicted ratings using SVD with no.of singular values to be 50\n",
    "from scipy.sparse.linalg import svds\n",
    "U, sigma, Vt = svds(ratings_matrix, k = 50)"
   ]
  },
  {
   "cell_type": "code",
   "execution_count": 108,
   "metadata": {},
   "outputs": [],
   "source": [
    "sigma = np.diag(sigma)\n",
    "all_user_predicted_ratings = np.dot(np.dot(U, sigma), Vt) \n",
    "preds_df = pd.DataFrame(all_user_predicted_ratings, columns = ratings_matrix.columns)"
   ]
  },
  {
   "cell_type": "code",
   "execution_count": 109,
   "metadata": {},
   "outputs": [
    {
     "data": {
      "text/html": [
       "<div>\n",
       "<style scoped>\n",
       "    .dataframe tbody tr th:only-of-type {\n",
       "        vertical-align: middle;\n",
       "    }\n",
       "\n",
       "    .dataframe tbody tr th {\n",
       "        vertical-align: top;\n",
       "    }\n",
       "\n",
       "    .dataframe thead th {\n",
       "        text-align: right;\n",
       "    }\n",
       "</style>\n",
       "<table border=\"1\" class=\"dataframe\">\n",
       "  <thead>\n",
       "    <tr style=\"text-align: right;\">\n",
       "      <th>product</th>\n",
       "      <th>2014 Newest THL T6 Pro 5.0\" Android 4.4 Unlocked 3G Smartphone -- IPS Touch Screen MT6592M Octa-Core 1.4GHz GSM...</th>\n",
       "      <th>2015 Newest CUBOT X9 5.0'' Octa Core Android 4.4 Kitkat OS Unlocked 3G Smartphone -- IPS HD Touchscreen HotKnot MTK6592 Dual SIM Dual Standby Mobile Phone 2G RAM 16G ROM WIFI OTG GPS Finger Gesture Air Gesture Cellphone 3G Phablet (Golden)</th>\n",
       "      <th>5.5-Inch Unlocked Lenovo A850 3G Smartphone-(960x540) Quad Core 4GB MT6582m 1331MHz Android 4.2 Dual Camera +Dual SIM -Black (Rooted + Google Play)</th>\n",
       "      <th>6126 / 6131 / 6133</th>\n",
       "      <th>6305i</th>\n",
       "      <th>6650 fold</th>\n",
       "      <th>7130e</th>\n",
       "      <th>8801 / 8800</th>\n",
       "      <th>?????????????? ?????????????? Nokia 808 PureView Black</th>\n",
       "      <th>?????????????? ?????????????? Nokia Asha 302 Golden light</th>\n",
       "      <th>...</th>\n",
       "      <th>Сотовый телефон Huawei Y6</th>\n",
       "      <th>Сотовый телефон Nokia Lumia 610 Black</th>\n",
       "      <th>Сотовый телефон Nokia N8 Blue</th>\n",
       "      <th>Сотовый телефон Nokia N8 Dark Grey</th>\n",
       "      <th>Сотовый телефон Nokia X1 Red</th>\n",
       "      <th>Телефон LG E450 Optimus L5 II Black</th>\n",
       "      <th>Телефон LG E510 Optimus Hub Black</th>\n",
       "      <th>טלפון סלולרי LG Nexus 5 16GB D821</th>\n",
       "      <th>טלפון סלולרי Samsung Galaxy S6 SM-G920F 64GB</th>\n",
       "      <th>טלפון סלולרי Samsung Galaxy S7 Edge SM-G935F 32GB</th>\n",
       "    </tr>\n",
       "  </thead>\n",
       "  <tbody>\n",
       "    <tr>\n",
       "      <th>0</th>\n",
       "      <td>-2.992313e-33</td>\n",
       "      <td>-6.676688e-36</td>\n",
       "      <td>9.207298e-34</td>\n",
       "      <td>-3.035021e-33</td>\n",
       "      <td>-8.999800e-34</td>\n",
       "      <td>2.304837e-33</td>\n",
       "      <td>3.079362e-33</td>\n",
       "      <td>-4.414320e-34</td>\n",
       "      <td>1.036231e-33</td>\n",
       "      <td>-3.268208e-33</td>\n",
       "      <td>...</td>\n",
       "      <td>-2.646875e-33</td>\n",
       "      <td>-3.066112e-33</td>\n",
       "      <td>-2.565003e-33</td>\n",
       "      <td>1.053934e-33</td>\n",
       "      <td>2.063674e-33</td>\n",
       "      <td>1.283871e-33</td>\n",
       "      <td>1.033377e-33</td>\n",
       "      <td>1.294308e-34</td>\n",
       "      <td>2.386072e-33</td>\n",
       "      <td>7.153442e-34</td>\n",
       "    </tr>\n",
       "    <tr>\n",
       "      <th>1</th>\n",
       "      <td>-2.123871e-34</td>\n",
       "      <td>-1.039843e-36</td>\n",
       "      <td>2.451838e-31</td>\n",
       "      <td>-6.325714e-33</td>\n",
       "      <td>-8.557533e-35</td>\n",
       "      <td>-1.174691e-34</td>\n",
       "      <td>5.617858e-33</td>\n",
       "      <td>-1.199366e-32</td>\n",
       "      <td>1.587758e-33</td>\n",
       "      <td>-1.013998e-33</td>\n",
       "      <td>...</td>\n",
       "      <td>-3.745980e-34</td>\n",
       "      <td>-3.489665e-33</td>\n",
       "      <td>-2.475410e-33</td>\n",
       "      <td>1.432091e-33</td>\n",
       "      <td>3.403685e-33</td>\n",
       "      <td>2.394997e-34</td>\n",
       "      <td>2.582602e-33</td>\n",
       "      <td>7.182102e-33</td>\n",
       "      <td>3.026923e-34</td>\n",
       "      <td>5.341035e-35</td>\n",
       "    </tr>\n",
       "    <tr>\n",
       "      <th>2</th>\n",
       "      <td>1.681451e-34</td>\n",
       "      <td>3.324628e-37</td>\n",
       "      <td>2.007612e-33</td>\n",
       "      <td>9.134816e-34</td>\n",
       "      <td>4.570646e-35</td>\n",
       "      <td>-8.468640e-35</td>\n",
       "      <td>-1.023299e-33</td>\n",
       "      <td>7.166454e-34</td>\n",
       "      <td>-2.846875e-34</td>\n",
       "      <td>1.143383e-33</td>\n",
       "      <td>...</td>\n",
       "      <td>1.053694e-34</td>\n",
       "      <td>9.778491e-34</td>\n",
       "      <td>7.277877e-34</td>\n",
       "      <td>-2.476005e-34</td>\n",
       "      <td>-5.477154e-34</td>\n",
       "      <td>-6.626100e-35</td>\n",
       "      <td>-3.381362e-34</td>\n",
       "      <td>-1.026520e-33</td>\n",
       "      <td>-9.499460e-35</td>\n",
       "      <td>-2.782846e-35</td>\n",
       "    </tr>\n",
       "    <tr>\n",
       "      <th>3</th>\n",
       "      <td>1.566412e-33</td>\n",
       "      <td>3.485273e-36</td>\n",
       "      <td>-2.594252e-34</td>\n",
       "      <td>1.647606e-33</td>\n",
       "      <td>4.706700e-34</td>\n",
       "      <td>-1.203725e-33</td>\n",
       "      <td>-1.701055e-33</td>\n",
       "      <td>2.581162e-34</td>\n",
       "      <td>-5.708167e-34</td>\n",
       "      <td>2.115273e-33</td>\n",
       "      <td>...</td>\n",
       "      <td>1.381283e-33</td>\n",
       "      <td>1.688238e-33</td>\n",
       "      <td>1.420534e-33</td>\n",
       "      <td>-5.875991e-34</td>\n",
       "      <td>-1.143410e-33</td>\n",
       "      <td>-6.687990e-34</td>\n",
       "      <td>-5.697241e-34</td>\n",
       "      <td>-4.645372e-35</td>\n",
       "      <td>-1.244872e-33</td>\n",
       "      <td>-3.740994e-34</td>\n",
       "    </tr>\n",
       "    <tr>\n",
       "      <th>4</th>\n",
       "      <td>0.000000e+00</td>\n",
       "      <td>0.000000e+00</td>\n",
       "      <td>0.000000e+00</td>\n",
       "      <td>0.000000e+00</td>\n",
       "      <td>0.000000e+00</td>\n",
       "      <td>0.000000e+00</td>\n",
       "      <td>0.000000e+00</td>\n",
       "      <td>0.000000e+00</td>\n",
       "      <td>0.000000e+00</td>\n",
       "      <td>0.000000e+00</td>\n",
       "      <td>...</td>\n",
       "      <td>0.000000e+00</td>\n",
       "      <td>0.000000e+00</td>\n",
       "      <td>0.000000e+00</td>\n",
       "      <td>0.000000e+00</td>\n",
       "      <td>0.000000e+00</td>\n",
       "      <td>0.000000e+00</td>\n",
       "      <td>0.000000e+00</td>\n",
       "      <td>0.000000e+00</td>\n",
       "      <td>0.000000e+00</td>\n",
       "      <td>0.000000e+00</td>\n",
       "    </tr>\n",
       "  </tbody>\n",
       "</table>\n",
       "<p>5 rows × 3934 columns</p>\n",
       "</div>"
      ],
      "text/plain": [
       "product  2014 Newest THL T6 Pro 5.0\" Android 4.4 Unlocked 3G Smartphone -- IPS Touch Screen MT6592M Octa-Core 1.4GHz GSM...  \\\n",
       "0                                            -2.992313e-33                                                                    \n",
       "1                                            -2.123871e-34                                                                    \n",
       "2                                             1.681451e-34                                                                    \n",
       "3                                             1.566412e-33                                                                    \n",
       "4                                             0.000000e+00                                                                    \n",
       "\n",
       "product  2015 Newest CUBOT X9 5.0'' Octa Core Android 4.4 Kitkat OS Unlocked 3G Smartphone -- IPS HD Touchscreen HotKnot MTK6592 Dual SIM Dual Standby Mobile Phone 2G RAM 16G ROM WIFI OTG GPS Finger Gesture Air Gesture Cellphone 3G Phablet (Golden)  \\\n",
       "0                                            -6.676688e-36                                                                                                                                                                                                 \n",
       "1                                            -1.039843e-36                                                                                                                                                                                                 \n",
       "2                                             3.324628e-37                                                                                                                                                                                                 \n",
       "3                                             3.485273e-36                                                                                                                                                                                                 \n",
       "4                                             0.000000e+00                                                                                                                                                                                                 \n",
       "\n",
       "product  5.5-Inch Unlocked Lenovo A850 3G Smartphone-(960x540) Quad Core 4GB MT6582m 1331MHz Android 4.2 Dual Camera +Dual SIM -Black (Rooted + Google Play)  \\\n",
       "0                                             9.207298e-34                                                                                                     \n",
       "1                                             2.451838e-31                                                                                                     \n",
       "2                                             2.007612e-33                                                                                                     \n",
       "3                                            -2.594252e-34                                                                                                     \n",
       "4                                             0.000000e+00                                                                                                     \n",
       "\n",
       "product  6126 / 6131 / 6133         6305i     6650 fold         7130e  \\\n",
       "0             -3.035021e-33 -8.999800e-34  2.304837e-33  3.079362e-33   \n",
       "1             -6.325714e-33 -8.557533e-35 -1.174691e-34  5.617858e-33   \n",
       "2              9.134816e-34  4.570646e-35 -8.468640e-35 -1.023299e-33   \n",
       "3              1.647606e-33  4.706700e-34 -1.203725e-33 -1.701055e-33   \n",
       "4              0.000000e+00  0.000000e+00  0.000000e+00  0.000000e+00   \n",
       "\n",
       "product   8801 / 8800  ?????????????? ?????????????? Nokia 808 PureView Black  \\\n",
       "0       -4.414320e-34                                       1.036231e-33        \n",
       "1       -1.199366e-32                                       1.587758e-33        \n",
       "2        7.166454e-34                                      -2.846875e-34        \n",
       "3        2.581162e-34                                      -5.708167e-34        \n",
       "4        0.000000e+00                                       0.000000e+00        \n",
       "\n",
       "product  ?????????????? ?????????????? Nokia Asha 302 Golden light  ...  \\\n",
       "0                                            -3.268208e-33          ...   \n",
       "1                                            -1.013998e-33          ...   \n",
       "2                                             1.143383e-33          ...   \n",
       "3                                             2.115273e-33          ...   \n",
       "4                                             0.000000e+00          ...   \n",
       "\n",
       "product  Сотовый телефон Huawei Y6  Сотовый телефон Nokia Lumia 610 Black  \\\n",
       "0                    -2.646875e-33                          -3.066112e-33   \n",
       "1                    -3.745980e-34                          -3.489665e-33   \n",
       "2                     1.053694e-34                           9.778491e-34   \n",
       "3                     1.381283e-33                           1.688238e-33   \n",
       "4                     0.000000e+00                           0.000000e+00   \n",
       "\n",
       "product  Сотовый телефон Nokia N8 Blue  Сотовый телефон Nokia N8 Dark Grey  \\\n",
       "0                        -2.565003e-33                        1.053934e-33   \n",
       "1                        -2.475410e-33                        1.432091e-33   \n",
       "2                         7.277877e-34                       -2.476005e-34   \n",
       "3                         1.420534e-33                       -5.875991e-34   \n",
       "4                         0.000000e+00                        0.000000e+00   \n",
       "\n",
       "product  Сотовый телефон Nokia X1 Red  Телефон LG E450 Optimus L5 II Black  \\\n",
       "0                        2.063674e-33                         1.283871e-33   \n",
       "1                        3.403685e-33                         2.394997e-34   \n",
       "2                       -5.477154e-34                        -6.626100e-35   \n",
       "3                       -1.143410e-33                        -6.687990e-34   \n",
       "4                        0.000000e+00                         0.000000e+00   \n",
       "\n",
       "product  Телефон LG E510 Optimus Hub Black  טלפון סלולרי LG Nexus 5 16GB D821  \\\n",
       "0                             1.033377e-33                       1.294308e-34   \n",
       "1                             2.582602e-33                       7.182102e-33   \n",
       "2                            -3.381362e-34                      -1.026520e-33   \n",
       "3                            -5.697241e-34                      -4.645372e-35   \n",
       "4                             0.000000e+00                       0.000000e+00   \n",
       "\n",
       "product  טלפון סלולרי Samsung Galaxy S6 SM-G920F 64GB  \\\n",
       "0                                        2.386072e-33   \n",
       "1                                        3.026923e-34   \n",
       "2                                       -9.499460e-35   \n",
       "3                                       -1.244872e-33   \n",
       "4                                        0.000000e+00   \n",
       "\n",
       "product  טלפון סלולרי Samsung Galaxy S7 Edge SM-G935F 32GB  \n",
       "0                                             7.153442e-34  \n",
       "1                                             5.341035e-35  \n",
       "2                                            -2.782846e-35  \n",
       "3                                            -3.740994e-34  \n",
       "4                                             0.000000e+00  \n",
       "\n",
       "[5 rows x 3934 columns]"
      ]
     },
     "execution_count": 109,
     "metadata": {},
     "output_type": "execute_result"
    }
   ],
   "source": [
    "preds_df.head()"
   ]
  },
  {
   "cell_type": "code",
   "execution_count": 110,
   "metadata": {},
   "outputs": [
    {
     "data": {
      "text/html": [
       "<div>\n",
       "<style scoped>\n",
       "    .dataframe tbody tr th:only-of-type {\n",
       "        vertical-align: middle;\n",
       "    }\n",
       "\n",
       "    .dataframe tbody tr th {\n",
       "        vertical-align: top;\n",
       "    }\n",
       "\n",
       "    .dataframe thead th {\n",
       "        text-align: right;\n",
       "    }\n",
       "</style>\n",
       "<table border=\"1\" class=\"dataframe\">\n",
       "  <thead>\n",
       "    <tr style=\"text-align: right;\">\n",
       "      <th>product</th>\n",
       "      <th>2014 Newest THL T6 Pro 5.0\" Android 4.4 Unlocked 3G Smartphone -- IPS Touch Screen MT6592M Octa-Core 1.4GHz GSM...</th>\n",
       "      <th>2015 Newest CUBOT X9 5.0'' Octa Core Android 4.4 Kitkat OS Unlocked 3G Smartphone -- IPS HD Touchscreen HotKnot MTK6592 Dual SIM Dual Standby Mobile Phone 2G RAM 16G ROM WIFI OTG GPS Finger Gesture Air Gesture Cellphone 3G Phablet (Golden)</th>\n",
       "      <th>5.5-Inch Unlocked Lenovo A850 3G Smartphone-(960x540) Quad Core 4GB MT6582m 1331MHz Android 4.2 Dual Camera +Dual SIM -Black (Rooted + Google Play)</th>\n",
       "      <th>6126 / 6131 / 6133</th>\n",
       "      <th>6305i</th>\n",
       "      <th>6650 fold</th>\n",
       "      <th>7130e</th>\n",
       "      <th>8801 / 8800</th>\n",
       "      <th>?????????????? ?????????????? Nokia 808 PureView Black</th>\n",
       "      <th>?????????????? ?????????????? Nokia Asha 302 Golden light</th>\n",
       "      <th>...</th>\n",
       "      <th>Сотовый телефон Huawei Y6</th>\n",
       "      <th>Сотовый телефон Nokia Lumia 610 Black</th>\n",
       "      <th>Сотовый телефон Nokia N8 Blue</th>\n",
       "      <th>Сотовый телефон Nokia N8 Dark Grey</th>\n",
       "      <th>Сотовый телефон Nokia X1 Red</th>\n",
       "      <th>Телефон LG E450 Optimus L5 II Black</th>\n",
       "      <th>Телефон LG E510 Optimus Hub Black</th>\n",
       "      <th>טלפון סלולרי LG Nexus 5 16GB D821</th>\n",
       "      <th>טלפון סלולרי Samsung Galaxy S6 SM-G920F 64GB</th>\n",
       "      <th>טלפון סלולרי Samsung Galaxy S7 Edge SM-G935F 32GB</th>\n",
       "    </tr>\n",
       "    <tr>\n",
       "      <th>author</th>\n",
       "      <th></th>\n",
       "      <th></th>\n",
       "      <th></th>\n",
       "      <th></th>\n",
       "      <th></th>\n",
       "      <th></th>\n",
       "      <th></th>\n",
       "      <th></th>\n",
       "      <th></th>\n",
       "      <th></th>\n",
       "      <th></th>\n",
       "      <th></th>\n",
       "      <th></th>\n",
       "      <th></th>\n",
       "      <th></th>\n",
       "      <th></th>\n",
       "      <th></th>\n",
       "      <th></th>\n",
       "      <th></th>\n",
       "      <th></th>\n",
       "      <th></th>\n",
       "    </tr>\n",
       "  </thead>\n",
       "  <tbody>\n",
       "    <tr>\n",
       "      <th>#</th>\n",
       "      <td>0.0</td>\n",
       "      <td>0.0</td>\n",
       "      <td>0.0</td>\n",
       "      <td>0.0</td>\n",
       "      <td>0.0</td>\n",
       "      <td>0.0</td>\n",
       "      <td>0.0</td>\n",
       "      <td>0.0</td>\n",
       "      <td>0.0</td>\n",
       "      <td>0.0</td>\n",
       "      <td>...</td>\n",
       "      <td>0.0</td>\n",
       "      <td>0.0</td>\n",
       "      <td>0.0</td>\n",
       "      <td>0.0</td>\n",
       "      <td>0.0</td>\n",
       "      <td>0.0</td>\n",
       "      <td>0.0</td>\n",
       "      <td>0.0</td>\n",
       "      <td>0.0</td>\n",
       "      <td>0.0</td>\n",
       "    </tr>\n",
       "    <tr>\n",
       "      <th>&amp;#214;mar D.</th>\n",
       "      <td>0.0</td>\n",
       "      <td>0.0</td>\n",
       "      <td>0.0</td>\n",
       "      <td>0.0</td>\n",
       "      <td>0.0</td>\n",
       "      <td>0.0</td>\n",
       "      <td>0.0</td>\n",
       "      <td>0.0</td>\n",
       "      <td>0.0</td>\n",
       "      <td>0.0</td>\n",
       "      <td>...</td>\n",
       "      <td>0.0</td>\n",
       "      <td>0.0</td>\n",
       "      <td>0.0</td>\n",
       "      <td>0.0</td>\n",
       "      <td>0.0</td>\n",
       "      <td>0.0</td>\n",
       "      <td>0.0</td>\n",
       "      <td>0.0</td>\n",
       "      <td>0.0</td>\n",
       "      <td>0.0</td>\n",
       "    </tr>\n",
       "    <tr>\n",
       "      <th>--RODRIGO--</th>\n",
       "      <td>0.0</td>\n",
       "      <td>0.0</td>\n",
       "      <td>0.0</td>\n",
       "      <td>0.0</td>\n",
       "      <td>0.0</td>\n",
       "      <td>0.0</td>\n",
       "      <td>0.0</td>\n",
       "      <td>0.0</td>\n",
       "      <td>0.0</td>\n",
       "      <td>0.0</td>\n",
       "      <td>...</td>\n",
       "      <td>0.0</td>\n",
       "      <td>0.0</td>\n",
       "      <td>0.0</td>\n",
       "      <td>0.0</td>\n",
       "      <td>0.0</td>\n",
       "      <td>0.0</td>\n",
       "      <td>0.0</td>\n",
       "      <td>0.0</td>\n",
       "      <td>0.0</td>\n",
       "      <td>0.0</td>\n",
       "    </tr>\n",
       "    <tr>\n",
       "      <th>-X-</th>\n",
       "      <td>0.0</td>\n",
       "      <td>0.0</td>\n",
       "      <td>0.0</td>\n",
       "      <td>0.0</td>\n",
       "      <td>0.0</td>\n",
       "      <td>0.0</td>\n",
       "      <td>0.0</td>\n",
       "      <td>0.0</td>\n",
       "      <td>0.0</td>\n",
       "      <td>0.0</td>\n",
       "      <td>...</td>\n",
       "      <td>0.0</td>\n",
       "      <td>0.0</td>\n",
       "      <td>0.0</td>\n",
       "      <td>0.0</td>\n",
       "      <td>0.0</td>\n",
       "      <td>0.0</td>\n",
       "      <td>0.0</td>\n",
       "      <td>0.0</td>\n",
       "      <td>0.0</td>\n",
       "      <td>0.0</td>\n",
       "    </tr>\n",
       "    <tr>\n",
       "      <th>1</th>\n",
       "      <td>0.0</td>\n",
       "      <td>0.0</td>\n",
       "      <td>0.0</td>\n",
       "      <td>0.0</td>\n",
       "      <td>0.0</td>\n",
       "      <td>0.0</td>\n",
       "      <td>0.0</td>\n",
       "      <td>0.0</td>\n",
       "      <td>0.0</td>\n",
       "      <td>0.0</td>\n",
       "      <td>...</td>\n",
       "      <td>0.0</td>\n",
       "      <td>0.0</td>\n",
       "      <td>0.0</td>\n",
       "      <td>0.0</td>\n",
       "      <td>0.0</td>\n",
       "      <td>0.0</td>\n",
       "      <td>0.0</td>\n",
       "      <td>0.0</td>\n",
       "      <td>0.0</td>\n",
       "      <td>0.0</td>\n",
       "    </tr>\n",
       "  </tbody>\n",
       "</table>\n",
       "<p>5 rows × 3934 columns</p>\n",
       "</div>"
      ],
      "text/plain": [
       "product       2014 Newest THL T6 Pro 5.0\" Android 4.4 Unlocked 3G Smartphone -- IPS Touch Screen MT6592M Octa-Core 1.4GHz GSM...  \\\n",
       "author                                                                                                                             \n",
       "#                                                           0.0                                                                    \n",
       "&#214;mar D.                                                0.0                                                                    \n",
       "--RODRIGO--                                                 0.0                                                                    \n",
       "-X-                                                         0.0                                                                    \n",
       "1                                                           0.0                                                                    \n",
       "\n",
       "product       2015 Newest CUBOT X9 5.0'' Octa Core Android 4.4 Kitkat OS Unlocked 3G Smartphone -- IPS HD Touchscreen HotKnot MTK6592 Dual SIM Dual Standby Mobile Phone 2G RAM 16G ROM WIFI OTG GPS Finger Gesture Air Gesture Cellphone 3G Phablet (Golden)  \\\n",
       "author                                                                                                                                                                                                                                                          \n",
       "#                                                           0.0                                                                                                                                                                                                 \n",
       "&#214;mar D.                                                0.0                                                                                                                                                                                                 \n",
       "--RODRIGO--                                                 0.0                                                                                                                                                                                                 \n",
       "-X-                                                         0.0                                                                                                                                                                                                 \n",
       "1                                                           0.0                                                                                                                                                                                                 \n",
       "\n",
       "product       5.5-Inch Unlocked Lenovo A850 3G Smartphone-(960x540) Quad Core 4GB MT6582m 1331MHz Android 4.2 Dual Camera +Dual SIM -Black (Rooted + Google Play)  \\\n",
       "author                                                                                                                                                              \n",
       "#                                                           0.0                                                                                                     \n",
       "&#214;mar D.                                                0.0                                                                                                     \n",
       "--RODRIGO--                                                 0.0                                                                                                     \n",
       "-X-                                                         0.0                                                                                                     \n",
       "1                                                           0.0                                                                                                     \n",
       "\n",
       "product       6126 / 6131 / 6133  6305i  6650 fold  7130e  8801 / 8800  \\\n",
       "author                                                                   \n",
       "#                            0.0    0.0        0.0    0.0          0.0   \n",
       "&#214;mar D.                 0.0    0.0        0.0    0.0          0.0   \n",
       "--RODRIGO--                  0.0    0.0        0.0    0.0          0.0   \n",
       "-X-                          0.0    0.0        0.0    0.0          0.0   \n",
       "1                            0.0    0.0        0.0    0.0          0.0   \n",
       "\n",
       "product       ?????????????? ?????????????? Nokia 808 PureView Black  \\\n",
       "author                                                                 \n",
       "#                                                           0.0        \n",
       "&#214;mar D.                                                0.0        \n",
       "--RODRIGO--                                                 0.0        \n",
       "-X-                                                         0.0        \n",
       "1                                                           0.0        \n",
       "\n",
       "product       ?????????????? ?????????????? Nokia Asha 302 Golden light  ...  \\\n",
       "author                                                                   ...   \n",
       "#                                                           0.0          ...   \n",
       "&#214;mar D.                                                0.0          ...   \n",
       "--RODRIGO--                                                 0.0          ...   \n",
       "-X-                                                         0.0          ...   \n",
       "1                                                           0.0          ...   \n",
       "\n",
       "product       Сотовый телефон Huawei Y6  \\\n",
       "author                                    \n",
       "#                                   0.0   \n",
       "&#214;mar D.                        0.0   \n",
       "--RODRIGO--                         0.0   \n",
       "-X-                                 0.0   \n",
       "1                                   0.0   \n",
       "\n",
       "product       Сотовый телефон Nokia Lumia 610 Black  \\\n",
       "author                                                \n",
       "#                                               0.0   \n",
       "&#214;mar D.                                    0.0   \n",
       "--RODRIGO--                                     0.0   \n",
       "-X-                                             0.0   \n",
       "1                                               0.0   \n",
       "\n",
       "product       Сотовый телефон Nokia N8 Blue  \\\n",
       "author                                        \n",
       "#                                       0.0   \n",
       "&#214;mar D.                            0.0   \n",
       "--RODRIGO--                             0.0   \n",
       "-X-                                     0.0   \n",
       "1                                       0.0   \n",
       "\n",
       "product       Сотовый телефон Nokia N8 Dark Grey  \\\n",
       "author                                             \n",
       "#                                            0.0   \n",
       "&#214;mar D.                                 0.0   \n",
       "--RODRIGO--                                  0.0   \n",
       "-X-                                          0.0   \n",
       "1                                            0.0   \n",
       "\n",
       "product       Сотовый телефон Nokia X1 Red  \\\n",
       "author                                       \n",
       "#                                      0.0   \n",
       "&#214;mar D.                           0.0   \n",
       "--RODRIGO--                            0.0   \n",
       "-X-                                    0.0   \n",
       "1                                      0.0   \n",
       "\n",
       "product       Телефон LG E450 Optimus L5 II Black  \\\n",
       "author                                              \n",
       "#                                             0.0   \n",
       "&#214;mar D.                                  0.0   \n",
       "--RODRIGO--                                   0.0   \n",
       "-X-                                           0.0   \n",
       "1                                             0.0   \n",
       "\n",
       "product       Телефон LG E510 Optimus Hub Black  \\\n",
       "author                                            \n",
       "#                                           0.0   \n",
       "&#214;mar D.                                0.0   \n",
       "--RODRIGO--                                 0.0   \n",
       "-X-                                         0.0   \n",
       "1                                           0.0   \n",
       "\n",
       "product       טלפון סלולרי LG Nexus 5 16GB D821  \\\n",
       "author                                            \n",
       "#                                           0.0   \n",
       "&#214;mar D.                                0.0   \n",
       "--RODRIGO--                                 0.0   \n",
       "-X-                                         0.0   \n",
       "1                                           0.0   \n",
       "\n",
       "product       טלפון סלולרי Samsung Galaxy S6 SM-G920F 64GB  \\\n",
       "author                                                       \n",
       "#                                                      0.0   \n",
       "&#214;mar D.                                           0.0   \n",
       "--RODRIGO--                                            0.0   \n",
       "-X-                                                    0.0   \n",
       "1                                                      0.0   \n",
       "\n",
       "product       טלפון סלולרי Samsung Galaxy S7 Edge SM-G935F 32GB  \n",
       "author                                                           \n",
       "#                                                           0.0  \n",
       "&#214;mar D.                                                0.0  \n",
       "--RODRIGO--                                                 0.0  \n",
       "-X-                                                         0.0  \n",
       "1                                                           0.0  \n",
       "\n",
       "[5 rows x 3934 columns]"
      ]
     },
     "execution_count": 110,
     "metadata": {},
     "output_type": "execute_result"
    }
   ],
   "source": [
    "ratings_matrix.head()"
   ]
  },
  {
   "cell_type": "code",
   "execution_count": 111,
   "metadata": {},
   "outputs": [],
   "source": [
    "user_id = 2"
   ]
  },
  {
   "cell_type": "code",
   "execution_count": 112,
   "metadata": {},
   "outputs": [
    {
     "data": {
      "text/plain": [
       "'&#214;mar D.'"
      ]
     },
     "execution_count": 112,
     "metadata": {},
     "output_type": "execute_result"
    }
   ],
   "source": [
    "userID = ratings_matrix.iloc[user_id-1, :].name\n",
    "userID"
   ]
  },
  {
   "cell_type": "code",
   "execution_count": 113,
   "metadata": {},
   "outputs": [
    {
     "data": {
      "text/plain": [
       "(4685, 3934)"
      ]
     },
     "execution_count": 113,
     "metadata": {},
     "output_type": "execute_result"
    }
   ],
   "source": [
    "preds_df.shape"
   ]
  },
  {
   "cell_type": "code",
   "execution_count": 114,
   "metadata": {},
   "outputs": [],
   "source": [
    "sorted_user_predictions = preds_df.iloc[user_id].sort_values(ascending=False)"
   ]
  },
  {
   "cell_type": "code",
   "execution_count": 115,
   "metadata": {},
   "outputs": [
    {
     "data": {
      "text/plain": [
       "3934"
      ]
     },
     "execution_count": 115,
     "metadata": {},
     "output_type": "execute_result"
    }
   ],
   "source": [
    "len(sorted_user_predictions)"
   ]
  },
  {
   "cell_type": "code",
   "execution_count": 116,
   "metadata": {},
   "outputs": [],
   "source": [
    "# Get all user interacted products\n",
    "user_data = ratings_explicit[ratings_explicit.author == (userID)]"
   ]
  },
  {
   "cell_type": "code",
   "execution_count": 117,
   "metadata": {},
   "outputs": [
    {
     "data": {
      "text/html": [
       "<div>\n",
       "<style scoped>\n",
       "    .dataframe tbody tr th:only-of-type {\n",
       "        vertical-align: middle;\n",
       "    }\n",
       "\n",
       "    .dataframe tbody tr th {\n",
       "        vertical-align: top;\n",
       "    }\n",
       "\n",
       "    .dataframe thead th {\n",
       "        text-align: right;\n",
       "    }\n",
       "</style>\n",
       "<table border=\"1\" class=\"dataframe\">\n",
       "  <thead>\n",
       "    <tr style=\"text-align: right;\">\n",
       "      <th></th>\n",
       "      <th>product</th>\n",
       "      <th>score</th>\n",
       "      <th>author</th>\n",
       "    </tr>\n",
       "  </thead>\n",
       "  <tbody>\n",
       "    <tr>\n",
       "      <th>34212</th>\n",
       "      <td>Samsung Galaxy S7 Smartphone, 12,9 cm (5,1 Zol...</td>\n",
       "      <td>10.0</td>\n",
       "      <td>&amp;#214;mar D.</td>\n",
       "    </tr>\n",
       "  </tbody>\n",
       "</table>\n",
       "</div>"
      ],
      "text/plain": [
       "                                                 product  score        author\n",
       "34212  Samsung Galaxy S7 Smartphone, 12,9 cm (5,1 Zol...   10.0  &#214;mar D."
      ]
     },
     "execution_count": 117,
     "metadata": {},
     "output_type": "execute_result"
    }
   ],
   "source": [
    "user_data.head()"
   ]
  },
  {
   "cell_type": "code",
   "execution_count": 118,
   "metadata": {},
   "outputs": [
    {
     "data": {
      "text/plain": [
       "(1, 3)"
      ]
     },
     "execution_count": 118,
     "metadata": {},
     "output_type": "execute_result"
    }
   ],
   "source": [
    "user_data.shape"
   ]
  },
  {
   "cell_type": "code",
   "execution_count": 119,
   "metadata": {},
   "outputs": [],
   "source": [
    "a = user_data.product()"
   ]
  },
  {
   "cell_type": "code",
   "execution_count": 120,
   "metadata": {},
   "outputs": [],
   "source": [
    "merged_df_impute3e\n",
    "book_data = merged_df_impute3e[merged_df_impute3e['product'].isin(user_data['product'])]"
   ]
  },
  {
   "cell_type": "code",
   "execution_count": 121,
   "metadata": {},
   "outputs": [
    {
     "data": {
      "text/plain": [
       "(305, 3)"
      ]
     },
     "execution_count": 121,
     "metadata": {},
     "output_type": "execute_result"
    }
   ],
   "source": [
    "book_data.shape"
   ]
  },
  {
   "cell_type": "code",
   "execution_count": 122,
   "metadata": {},
   "outputs": [
    {
     "data": {
      "text/html": [
       "<div>\n",
       "<style scoped>\n",
       "    .dataframe tbody tr th:only-of-type {\n",
       "        vertical-align: middle;\n",
       "    }\n",
       "\n",
       "    .dataframe tbody tr th {\n",
       "        vertical-align: top;\n",
       "    }\n",
       "\n",
       "    .dataframe thead th {\n",
       "        text-align: right;\n",
       "    }\n",
       "</style>\n",
       "<table border=\"1\" class=\"dataframe\">\n",
       "  <thead>\n",
       "    <tr style=\"text-align: right;\">\n",
       "      <th></th>\n",
       "      <th>product</th>\n",
       "      <th>score</th>\n",
       "      <th>author</th>\n",
       "    </tr>\n",
       "  </thead>\n",
       "  <tbody>\n",
       "    <tr>\n",
       "      <th>33303</th>\n",
       "      <td>Samsung Galaxy S7 Smartphone, 12,9 cm (5,1 Zol...</td>\n",
       "      <td>10.0</td>\n",
       "      <td>Yvonne K.</td>\n",
       "    </tr>\n",
       "    <tr>\n",
       "      <th>33237</th>\n",
       "      <td>Samsung Galaxy S7 Smartphone, 12,9 cm (5,1 Zol...</td>\n",
       "      <td>10.0</td>\n",
       "      <td>einer Kundin</td>\n",
       "    </tr>\n",
       "    <tr>\n",
       "      <th>34067</th>\n",
       "      <td>Samsung Galaxy S7 Smartphone, 12,9 cm (5,1 Zol...</td>\n",
       "      <td>10.0</td>\n",
       "      <td>Paul W.</td>\n",
       "    </tr>\n",
       "    <tr>\n",
       "      <th>37580</th>\n",
       "      <td>Samsung Galaxy S7 Smartphone, 12,9 cm (5,1 Zol...</td>\n",
       "      <td>10.0</td>\n",
       "      <td>einem Kunden</td>\n",
       "    </tr>\n",
       "    <tr>\n",
       "      <th>35466</th>\n",
       "      <td>Samsung Galaxy S7 Smartphone, 12,9 cm (5,1 Zol...</td>\n",
       "      <td>10.0</td>\n",
       "      <td>Helen S.</td>\n",
       "    </tr>\n",
       "  </tbody>\n",
       "</table>\n",
       "</div>"
      ],
      "text/plain": [
       "                                                 product  score        author\n",
       "33303  Samsung Galaxy S7 Smartphone, 12,9 cm (5,1 Zol...   10.0     Yvonne K.\n",
       "33237  Samsung Galaxy S7 Smartphone, 12,9 cm (5,1 Zol...   10.0  einer Kundin\n",
       "34067  Samsung Galaxy S7 Smartphone, 12,9 cm (5,1 Zol...   10.0       Paul W.\n",
       "37580  Samsung Galaxy S7 Smartphone, 12,9 cm (5,1 Zol...   10.0  einem Kunden\n",
       "35466  Samsung Galaxy S7 Smartphone, 12,9 cm (5,1 Zol...   10.0      Helen S."
      ]
     },
     "execution_count": 122,
     "metadata": {},
     "output_type": "execute_result"
    }
   ],
   "source": [
    "book_data.head()"
   ]
  },
  {
   "cell_type": "code",
   "execution_count": 123,
   "metadata": {},
   "outputs": [],
   "source": [
    "user_full_info = user_data.merge(book_data)"
   ]
  },
  {
   "cell_type": "code",
   "execution_count": 124,
   "metadata": {},
   "outputs": [
    {
     "data": {
      "text/html": [
       "<div>\n",
       "<style scoped>\n",
       "    .dataframe tbody tr th:only-of-type {\n",
       "        vertical-align: middle;\n",
       "    }\n",
       "\n",
       "    .dataframe tbody tr th {\n",
       "        vertical-align: top;\n",
       "    }\n",
       "\n",
       "    .dataframe thead th {\n",
       "        text-align: right;\n",
       "    }\n",
       "</style>\n",
       "<table border=\"1\" class=\"dataframe\">\n",
       "  <thead>\n",
       "    <tr style=\"text-align: right;\">\n",
       "      <th></th>\n",
       "      <th>product</th>\n",
       "      <th>score</th>\n",
       "      <th>author</th>\n",
       "    </tr>\n",
       "  </thead>\n",
       "  <tbody>\n",
       "    <tr>\n",
       "      <th>0</th>\n",
       "      <td>Samsung Galaxy S7 Smartphone, 12,9 cm (5,1 Zol...</td>\n",
       "      <td>10.0</td>\n",
       "      <td>&amp;#214;mar D.</td>\n",
       "    </tr>\n",
       "  </tbody>\n",
       "</table>\n",
       "</div>"
      ],
      "text/plain": [
       "                                             product  score        author\n",
       "0  Samsung Galaxy S7 Smartphone, 12,9 cm (5,1 Zol...   10.0  &#214;mar D."
      ]
     },
     "execution_count": 124,
     "metadata": {},
     "output_type": "execute_result"
    }
   ],
   "source": [
    "user_full_info.head()"
   ]
  },
  {
   "cell_type": "code",
   "execution_count": 125,
   "metadata": {},
   "outputs": [
    {
     "name": "stdout",
     "output_type": "stream",
     "text": [
      "User &#214;mar D. has already rated 1 movies.\n"
     ]
    }
   ],
   "source": [
    "print ('User {0} has already rated {1} movies.'.format(userID, user_full_info.shape[0]))"
   ]
  },
  {
   "cell_type": "code",
   "execution_count": 126,
   "metadata": {},
   "outputs": [],
   "source": [
    "recommendations = (merged_df_impute3e[~merged_df_impute3e['product'].isin(user_full_info['product'])].\n",
    "                   merge(pd.DataFrame(sorted_user_predictions).reset_index(), how = 'left', left_on = 'product'\n",
    "                         ,right_on = 'product')).rename(columns = {user_id: 'Predictions'})"
   ]
  },
  {
   "cell_type": "code",
   "execution_count": 127,
   "metadata": {},
   "outputs": [
    {
     "data": {
      "text/plain": [
       "(906783, 4)"
      ]
     },
     "execution_count": 127,
     "metadata": {},
     "output_type": "execute_result"
    }
   ],
   "source": [
    "recommendations.shape"
   ]
  },
  {
   "cell_type": "code",
   "execution_count": 128,
   "metadata": {},
   "outputs": [
    {
     "data": {
      "text/html": [
       "<div>\n",
       "<style scoped>\n",
       "    .dataframe tbody tr th:only-of-type {\n",
       "        vertical-align: middle;\n",
       "    }\n",
       "\n",
       "    .dataframe tbody tr th {\n",
       "        vertical-align: top;\n",
       "    }\n",
       "\n",
       "    .dataframe thead th {\n",
       "        text-align: right;\n",
       "    }\n",
       "</style>\n",
       "<table border=\"1\" class=\"dataframe\">\n",
       "  <thead>\n",
       "    <tr style=\"text-align: right;\">\n",
       "      <th></th>\n",
       "      <th>product</th>\n",
       "      <th>score</th>\n",
       "      <th>author</th>\n",
       "      <th>Predictions</th>\n",
       "    </tr>\n",
       "  </thead>\n",
       "  <tbody>\n",
       "    <tr>\n",
       "      <th>0</th>\n",
       "      <td>Apple iPhone 5S 32Gb</td>\n",
       "      <td>8.0</td>\n",
       "      <td>Гундарев Сергей</td>\n",
       "      <td>4.357142e-35</td>\n",
       "    </tr>\n",
       "    <tr>\n",
       "      <th>1</th>\n",
       "      <td>Samsung Galaxy S3 mini I8190 Smartphone (10,2 ...</td>\n",
       "      <td>10.0</td>\n",
       "      <td>Rosemarie Boeshans</td>\n",
       "      <td>-7.670666e-34</td>\n",
       "    </tr>\n",
       "    <tr>\n",
       "      <th>2</th>\n",
       "      <td>Honor 4X Smartphone 4G, Display 5.5 Pollici, P...</td>\n",
       "      <td>10.0</td>\n",
       "      <td>Federico Minetti</td>\n",
       "      <td>NaN</td>\n",
       "    </tr>\n",
       "    <tr>\n",
       "      <th>3</th>\n",
       "      <td>Smartphone Samsung Galaxy J1 Mini Duos SM-J105...</td>\n",
       "      <td>10.0</td>\n",
       "      <td>Eugênio</td>\n",
       "      <td>NaN</td>\n",
       "    </tr>\n",
       "    <tr>\n",
       "      <th>4</th>\n",
       "      <td>HTC One X Unlocked Gsm Phone, 16GB, Gray</td>\n",
       "      <td>2.0</td>\n",
       "      <td>davisdev</td>\n",
       "      <td>NaN</td>\n",
       "    </tr>\n",
       "  </tbody>\n",
       "</table>\n",
       "</div>"
      ],
      "text/plain": [
       "                                             product  score  \\\n",
       "0                               Apple iPhone 5S 32Gb    8.0   \n",
       "1  Samsung Galaxy S3 mini I8190 Smartphone (10,2 ...   10.0   \n",
       "2  Honor 4X Smartphone 4G, Display 5.5 Pollici, P...   10.0   \n",
       "3  Smartphone Samsung Galaxy J1 Mini Duos SM-J105...   10.0   \n",
       "4           HTC One X Unlocked Gsm Phone, 16GB, Gray    2.0   \n",
       "\n",
       "               author   Predictions  \n",
       "0     Гундарев Сергей  4.357142e-35  \n",
       "1  Rosemarie Boeshans -7.670666e-34  \n",
       "2    Federico Minetti           NaN  \n",
       "3             Eugênio           NaN  \n",
       "4            davisdev           NaN  "
      ]
     },
     "execution_count": 128,
     "metadata": {},
     "output_type": "execute_result"
    }
   ],
   "source": [
    "recommendations.head()"
   ]
  },
  {
   "cell_type": "code",
   "execution_count": 129,
   "metadata": {},
   "outputs": [
    {
     "data": {
      "text/html": [
       "<div>\n",
       "<style scoped>\n",
       "    .dataframe tbody tr th:only-of-type {\n",
       "        vertical-align: middle;\n",
       "    }\n",
       "\n",
       "    .dataframe tbody tr th {\n",
       "        vertical-align: top;\n",
       "    }\n",
       "\n",
       "    .dataframe thead th {\n",
       "        text-align: right;\n",
       "    }\n",
       "</style>\n",
       "<table border=\"1\" class=\"dataframe\">\n",
       "  <thead>\n",
       "    <tr style=\"text-align: right;\">\n",
       "      <th></th>\n",
       "      <th>product</th>\n",
       "      <th>score</th>\n",
       "      <th>author</th>\n",
       "      <th>Predictions</th>\n",
       "    </tr>\n",
       "  </thead>\n",
       "  <tbody>\n",
       "    <tr>\n",
       "      <th>22103</th>\n",
       "      <td>Samsung Galaxy S6 edge+ 32GB (T-Mobile)</td>\n",
       "      <td>10.0</td>\n",
       "      <td>jchdez</td>\n",
       "      <td>7.223358e-17</td>\n",
       "    </tr>\n",
       "    <tr>\n",
       "      <th>746093</th>\n",
       "      <td>Samsung Galaxy S6 edge+ 32GB (T-Mobile)</td>\n",
       "      <td>10.0</td>\n",
       "      <td>Dunkingirl</td>\n",
       "      <td>7.223358e-17</td>\n",
       "    </tr>\n",
       "    <tr>\n",
       "      <th>882288</th>\n",
       "      <td>Samsung Galaxy S6 edge+ 32GB (T-Mobile)</td>\n",
       "      <td>10.0</td>\n",
       "      <td>Imesa10</td>\n",
       "      <td>7.223358e-17</td>\n",
       "    </tr>\n",
       "    <tr>\n",
       "      <th>469121</th>\n",
       "      <td>Samsung Galaxy S6 edge+ 32GB (T-Mobile)</td>\n",
       "      <td>8.0</td>\n",
       "      <td>nikkibabyblue</td>\n",
       "      <td>7.223358e-17</td>\n",
       "    </tr>\n",
       "    <tr>\n",
       "      <th>154066</th>\n",
       "      <td>Samsung Galaxy S6 edge+ 32GB (T-Mobile)</td>\n",
       "      <td>10.0</td>\n",
       "      <td>Kresc</td>\n",
       "      <td>7.223358e-17</td>\n",
       "    </tr>\n",
       "    <tr>\n",
       "      <th>408494</th>\n",
       "      <td>Samsung Galaxy S6 edge+ 32GB (T-Mobile)</td>\n",
       "      <td>10.0</td>\n",
       "      <td>sean7007</td>\n",
       "      <td>7.223358e-17</td>\n",
       "    </tr>\n",
       "    <tr>\n",
       "      <th>422512</th>\n",
       "      <td>Samsung Galaxy S6 edge+ 32GB (T-Mobile)</td>\n",
       "      <td>10.0</td>\n",
       "      <td>Married</td>\n",
       "      <td>7.223358e-17</td>\n",
       "    </tr>\n",
       "    <tr>\n",
       "      <th>587496</th>\n",
       "      <td>Samsung Galaxy S6 edge+ 32GB (T-Mobile)</td>\n",
       "      <td>9.0</td>\n",
       "      <td>J76jparks</td>\n",
       "      <td>7.223358e-17</td>\n",
       "    </tr>\n",
       "    <tr>\n",
       "      <th>48944</th>\n",
       "      <td>Samsung Galaxy S6 edge+ 32GB (T-Mobile)</td>\n",
       "      <td>10.0</td>\n",
       "      <td>AZpackerfan24</td>\n",
       "      <td>7.223358e-17</td>\n",
       "    </tr>\n",
       "    <tr>\n",
       "      <th>653353</th>\n",
       "      <td>Samsung Galaxy S6 edge+ 32GB (T-Mobile)</td>\n",
       "      <td>10.0</td>\n",
       "      <td>Detroit66</td>\n",
       "      <td>7.223358e-17</td>\n",
       "    </tr>\n",
       "  </tbody>\n",
       "</table>\n",
       "</div>"
      ],
      "text/plain": [
       "                                        product  score          author  \\\n",
       "22103   Samsung Galaxy S6 edge+ 32GB (T-Mobile)   10.0         jchdez    \n",
       "746093  Samsung Galaxy S6 edge+ 32GB (T-Mobile)   10.0     Dunkingirl    \n",
       "882288  Samsung Galaxy S6 edge+ 32GB (T-Mobile)   10.0        Imesa10    \n",
       "469121  Samsung Galaxy S6 edge+ 32GB (T-Mobile)    8.0  nikkibabyblue    \n",
       "154066  Samsung Galaxy S6 edge+ 32GB (T-Mobile)   10.0          Kresc    \n",
       "408494  Samsung Galaxy S6 edge+ 32GB (T-Mobile)   10.0       sean7007    \n",
       "422512  Samsung Galaxy S6 edge+ 32GB (T-Mobile)   10.0        Married    \n",
       "587496  Samsung Galaxy S6 edge+ 32GB (T-Mobile)    9.0      J76jparks    \n",
       "48944   Samsung Galaxy S6 edge+ 32GB (T-Mobile)   10.0  AZpackerfan24    \n",
       "653353  Samsung Galaxy S6 edge+ 32GB (T-Mobile)   10.0      Detroit66    \n",
       "\n",
       "         Predictions  \n",
       "22103   7.223358e-17  \n",
       "746093  7.223358e-17  \n",
       "882288  7.223358e-17  \n",
       "469121  7.223358e-17  \n",
       "154066  7.223358e-17  \n",
       "408494  7.223358e-17  \n",
       "422512  7.223358e-17  \n",
       "587496  7.223358e-17  \n",
       "48944   7.223358e-17  \n",
       "653353  7.223358e-17  "
      ]
     },
     "execution_count": 129,
     "metadata": {},
     "output_type": "execute_result"
    }
   ],
   "source": [
    "# get recommendation\n",
    "\n",
    "recommendations.sort_values('Predictions', ascending = False).iloc[:10, :]"
   ]
  },
  {
   "cell_type": "code",
   "execution_count": 1,
   "metadata": {},
   "outputs": [
    {
     "ename": "NameError",
     "evalue": "name 'recommendations' is not defined",
     "output_type": "error",
     "traceback": [
      "\u001b[0;31m---------------------------------------------------------------------------\u001b[0m",
      "\u001b[0;31mNameError\u001b[0m                                 Traceback (most recent call last)",
      "\u001b[0;32m<ipython-input-1-d87340f7b539>\u001b[0m in \u001b[0;36m<module>\u001b[0;34m\u001b[0m\n\u001b[1;32m      1\u001b[0m \u001b[0;31m# /bkup\u001b[0m\u001b[0;34m\u001b[0m\u001b[0;34m\u001b[0m\u001b[0;34m\u001b[0m\u001b[0m\n\u001b[0;32m----> 2\u001b[0;31m \u001b[0mrecommendations\u001b[0m\u001b[0;34m.\u001b[0m\u001b[0mhead\u001b[0m\u001b[0;34m(\u001b[0m\u001b[0;34m)\u001b[0m\u001b[0;34m\u001b[0m\u001b[0;34m\u001b[0m\u001b[0m\n\u001b[0m",
      "\u001b[0;31mNameError\u001b[0m: name 'recommendations' is not defined"
     ]
    }
   ],
   "source": [
    "# /bkup\n",
    "recommendations.head()"
   ]
  },
  {
   "cell_type": "code",
   "execution_count": null,
   "metadata": {},
   "outputs": [],
   "source": []
  }
 ],
 "metadata": {
  "kernelspec": {
   "display_name": "Python 3",
   "language": "python",
   "name": "python3"
  },
  "language_info": {
   "codemirror_mode": {
    "name": "ipython",
    "version": 3
   },
   "file_extension": ".py",
   "mimetype": "text/x-python",
   "name": "python",
   "nbconvert_exporter": "python",
   "pygments_lexer": "ipython3",
   "version": "3.7.6"
  }
 },
 "nbformat": 4,
 "nbformat_minor": 4
}
